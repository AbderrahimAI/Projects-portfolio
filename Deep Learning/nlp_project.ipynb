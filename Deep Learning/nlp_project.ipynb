{
 "cells": [
  {
   "cell_type": "markdown",
   "metadata": {},
   "source": [
    "# Deep Learning for NLP - Project"
   ]
  },
  {
   "cell_type": "markdown",
   "metadata": {},
   "source": [
    "# MEHDAOUI Abderrahim"
   ]
  },
  {
   "cell_type": "markdown",
   "metadata": {},
   "source": [
    "RULES:\n",
    "\n",
    "* Do not create any additional cell\n",
    "\n",
    "* Fill in the blanks\n",
    "\n",
    "* All cells should be runnable (modulo trivial compatibility bugs that we'd fix)\n",
    "\n",
    "* 4 / 20 points will be allocated to the clarity of your code\n",
    "\n",
    "* Efficient code will have a bonus\n",
    "\n",
    "DELIVERABLE:\n",
    "\n",
    "* the pdf with your answers\n",
    "* this notebook\n",
    "* the predictions of the SST test set\n",
    "\n",
    "DO NOT INCLUDE THE DATASETS IN THE DELIVERABLE.."
   ]
  },
  {
   "cell_type": "code",
   "execution_count": 1,
   "metadata": {
    "jupyter": {
     "outputs_hidden": false
    }
   },
   "outputs": [],
   "source": [
    "# Python 3.6 or above is required\n",
    "from collections import defaultdict\n",
    "import gzip\n",
    "import numpy as np\n",
    "from pathlib import Path\n",
    "from urllib.request import urlretrieve\n",
    "\n",
    "from sklearn.preprocessing import StandardScaler\n",
    "from sklearn.linear_model import LogisticRegression\n",
    "from sklearn.metrics import accuracy_score, f1_score\n",
    "from sklearn.model_selection import GridSearchCV"
   ]
  },
  {
   "cell_type": "code",
   "execution_count": 2,
   "metadata": {},
   "outputs": [],
   "source": [
    "PATH_TO_DATA = Path('data/')\n",
    "# Download word vectors, might take a few minutes and about ~3GB of storage space\n",
    "en_embeddings_path = PATH_TO_DATA / 'cc.en.300.vec.gz'\n",
    "if not en_embeddings_path.exists():\n",
    "    urlretrieve('https://dl.fbaipublicfiles.com/fasttext/vectors-crawl/cc.en.300.vec.gz', en_embeddings_path)\n",
    "fr_embeddings_path = PATH_TO_DATA / 'cc.fr.300.vec.gz'\n",
    "if not fr_embeddings_path.exists():\n",
    "    urlretrieve('https://dl.fbaipublicfiles.com/fasttext/vectors-crawl/cc.fr.300.vec.gz', fr_embeddings_path)"
   ]
  },
  {
   "cell_type": "markdown",
   "metadata": {},
   "source": [
    "# 1) Monolingual (English) word embeddings "
   ]
  },
  {
   "cell_type": "code",
   "execution_count": 3,
   "metadata": {},
   "outputs": [],
   "source": [
    "class Word2Vec():\n",
    "\n",
    "    def __init__(self, filepath, vocab_size=50000):\n",
    "        self.words, self.embeddings = self.load_wordvec(filepath, vocab_size)\n",
    "        # Mappings for O(1) retrieval:\n",
    "        self.word2id = {word: idx for idx, word in enumerate(self.words)}\n",
    "        self.id2word = {idx: word for idx, word in enumerate(self.words)}\n",
    "    \n",
    "    def load_wordvec(self, filepath, vocab_size):\n",
    "        assert str(filepath).endswith('.gz')\n",
    "        words = []\n",
    "        embeddings = []\n",
    "        with gzip.open(filepath, 'rt') as f:  # Read compressed file directly\n",
    "            next(f)  # Skip header\n",
    "            for i, line in enumerate(f):\n",
    "                word, vec = line.split(' ', 1)\n",
    "                words.append(word)\n",
    "                embeddings.append(np.fromstring(vec, sep=' '))\n",
    "                if i == (vocab_size - 1):\n",
    "                    break\n",
    "        print('Loaded %s pretrained word vectors' % (len(words)))\n",
    "        return words, np.vstack(embeddings)\n",
    "    \n",
    "    def encode(self, word):\n",
    "        # Returns the 1D embedding of a given word\n",
    "        return self.embeddings[self.word2id[word]]\n",
    "        \n",
    "    def score(self, word1, word2):\n",
    "        # Return the cosine similarity: use np.dot & np.linalg.norm\n",
    "        if  isinstance(word1, str) and isinstance(word1, str):\n",
    "            emb1 = self.encode(word1)\n",
    "            emb2 = self.encode(word2)\n",
    "        else:\n",
    "            return word1.dot(word2)/(np.linalg.norm(word1)*np.linalg.norm(word2))\n",
    "        return np.dot(emb1,emb2)/(np.linalg.norm(emb1)*np.linalg.norm(emb2))\n",
    "    \n",
    "    def most_similar(self, word, k=5):\n",
    "        # Returns the k most similar words: self.score & np.argsort \n",
    "        if isinstance(word, str):\n",
    "            word = self.encode(word)        \n",
    "        sim_score = np.array([self.score(w, word) for w in self.embeddings])\n",
    "        sim_idx = np.argsort(sim_score)[-1:-(k+1):-1]\n",
    "        sim_words = [self.id2word[idx] for idx in sim_idx]\n",
    "        return sim_words"
   ]
  },
  {
   "cell_type": "code",
   "execution_count": 4,
   "metadata": {
    "jupyter": {
     "outputs_hidden": false
    },
    "scrolled": true
   },
   "outputs": [
    {
     "name": "stdout",
     "output_type": "stream",
     "text": [
      "Loaded 50000 pretrained word vectors\n",
      "cat tree 0.26449754661654756\n",
      "cat dog 0.7078641298542564\n",
      "cat pet 0.6753313359976382\n",
      "Paris France 0.6892958925806543\n",
      "Paris Germany 0.4051242286737549\n",
      "Paris baguette 0.29399958277802224\n",
      "Paris donut -0.006588507552348003\n",
      "['cat', 'cats', 'kitty', 'kitten', 'feline']\n",
      "['dog', 'dogs', 'puppy', 'pup', 'canine']\n",
      "['dogs', 'dog', 'cats', 'puppies', 'Dogs']\n",
      "['Paris', 'France', 'Parisian', 'Marseille', 'Brussels']\n",
      "['Germany', 'Austria', 'Europe', 'Berlin', 'Hamburg']\n"
     ]
    }
   ],
   "source": [
    "word2vec = Word2Vec(en_embeddings_path, vocab_size=50000)\n",
    "\n",
    "# You will be evaluated on the output of the following:\n",
    "for word1, word2 in zip(('cat', 'cat', 'cat', 'Paris', 'Paris', 'Paris', 'Paris'), ('tree', 'dog', 'pet', 'France', 'Germany', 'baguette', 'donut')):\n",
    "    print(word1, word2, word2vec.score(word1, word2))\n",
    "for word in ['cat', 'dog', 'dogs', 'Paris', 'Germany']:\n",
    "    print(word2vec.most_similar(word))"
   ]
  },
  {
   "cell_type": "markdown",
   "metadata": {},
   "source": [
    "We can see some logical results here, although some scores might surprise us as Paris-Baguette's score since both are linked to France we have expected a score a bit above the one obtained. \n",
    "\n",
    "The most similar words method return good results also. "
   ]
  },
  {
   "cell_type": "code",
   "execution_count": 5,
   "metadata": {
    "jupyter": {
     "outputs_hidden": false
    }
   },
   "outputs": [],
   "source": [
    "class BagOfWords():\n",
    "    \n",
    "    def __init__(self, word2vec):\n",
    "        self.word2vec = word2vec\n",
    "    \n",
    "    def build_idf(self, sentences):\n",
    "        # build the idf dictionary: associate each word to its idf value\n",
    "        # -> idf = {word: idf_value, ...}\n",
    "        nb_doc = len(sentences)\n",
    "        count = {}\n",
    "        idf_weight = {}\n",
    "        for sent in sentences:\n",
    "            for w in sent.split():\n",
    "                if w in count:\n",
    "                    count[w] += 1  # counting occurences\n",
    "                else:\n",
    "                    count[w] = 1\n",
    "        for w in list(count.keys()):\n",
    "            try:\n",
    "                #idf_weight[w] = np.log10(nb_doc/count[w])\n",
    "                idf_weight[self.word2vec.word2id[w]] = np.log10(nb_doc/count[w])\n",
    "            except:\n",
    "                pass\n",
    "        return idf_weight\n",
    "\n",
    "    def encode(self, sentence, idf=None):\n",
    "        sentemb = []\n",
    "        sent = sentence.split()\n",
    "        if idf is None:\n",
    "            vec = []\n",
    "            for word in sent:\n",
    "                if word in self.word2vec.words:\n",
    "                    vec.append(self.word2vec.encode(word))\n",
    "            return np.mean(np.array(vec),axis=0)\n",
    "        else:\n",
    "            vec_weighted = []\n",
    "            for word in sent:\n",
    "                if word in self.word2vec.words:\n",
    "                    id_ = self.word2vec.word2id[word]\n",
    "                    vec_weighted.append(self.word2vec.encode(word)*idf[id_])\n",
    "            return np.sum(np.array(vec_weighted),axis=0)\n",
    "\n",
    "    def score(self, sentence1, sentence2, idf=None):\n",
    "        # cosine similarity: np.dot  -  np.linalg.norm\n",
    "        encode1 = self.encode(sentence1, idf)\n",
    "        encode2 = self.encode(sentence2, idf)\n",
    "        res = encode1.dot(encode2)/(np.linalg.norm(encode1)*np.linalg.norm(encode2))\n",
    "        return res\n",
    "    \n",
    "    def most_similar(self, sentence, sentences, idf=None, k=5):\n",
    "        # Return most similar sentences\n",
    "        #query = self.encode(sentence, idf)\n",
    "        #keys = np.vstack([self.encode(s, idf) for s in sentences])\n",
    "        sim_score = np.array([self.score(sentence, s, idf) for s in sentences])\n",
    "        sim_idx = np.argsort(sim_score)[-1:-(k+1):-1]\n",
    "        sim_sentences = [sentences[idx] for idx in sim_idx]\n",
    "        return sim_sentences"
   ]
  },
  {
   "cell_type": "code",
   "execution_count": 6,
   "metadata": {
    "jupyter": {
     "outputs_hidden": false
    },
    "scrolled": false
   },
   "outputs": [
    {
     "name": "stdout",
     "output_type": "stream",
     "text": [
      "Loaded 50000 pretrained word vectors\n",
      "\n",
      "\tAverage of word embeddings\n",
      "1 man singing and 1 man playing a saxophone in a concert . \n",
      "10 people venture out to go crosscountry skiing . \n",
      "0.7065220648251475\n",
      "1 smiling african american boy . \n",
      "1) 1 smiling african american boy . \n",
      "2) 2 woman dancing while pointing . \n",
      "3) 5 women and 1 man are smiling for the camera . \n",
      "4) a small boy following 4 geese . \n",
      "5) 2 female babies eating chips . \n",
      "\n",
      "\tidf weighted average of word embeddings\n",
      "1 man singing and 1 man playing a saxophone in a concert . \n",
      "10 people venture out to go crosscountry skiing . \n",
      "0.6230172138542662\n",
      "1 smiling african american boy . \n",
      "1) 1 smiling african american boy . \n",
      "2) 1 man singing and 1 man playing a saxophone in a concert . \n",
      "3) two women and 1 man walking across the street . \n",
      "4) 2 guys facing away from camera , 1 girl smiling at camera with blue shirt , 1 guy with a beverage with a jacket on . \n",
      "5) 5 women and 1 man are smiling for the camera . \n"
     ]
    }
   ],
   "source": [
    "word2vec = Word2Vec(en_embeddings_path, vocab_size=50000)\n",
    "sentence2vec = BagOfWords(word2vec)\n",
    "\n",
    "# Load sentences in \"PATH_TO_DATA/sentences.txt\"\n",
    "filepath = PATH_TO_DATA / 'sentences.txt'\n",
    "with open(filepath, 'r') as f:\n",
    "    sentences = [line.strip('\\n') for line in f]\n",
    "\n",
    "\n",
    "# You will be evaluated on the output of the following:\n",
    "print('\\n\\tAverage of word embeddings')\n",
    "sentence1 = sentences[7]\n",
    "sentence2 = sentences[13]\n",
    "print(sentence1)\n",
    "print(sentence2)\n",
    "print(sentence2vec.score(sentence1, sentence2))\n",
    "sentence = sentences[10]\n",
    "similar_sentences = sentence2vec.most_similar(sentence, sentences)  # BagOfWords-mean\n",
    "print(sentence)\n",
    "for i, sentence in enumerate(similar_sentences):\n",
    "    print(str(i+1) + ')', sentence)\n",
    "\n",
    "# Build idf scores for each word\n",
    "idf = sentence2vec.build_idf(sentences)\n",
    "\n",
    "print('\\n\\tidf weighted average of word embeddings')\n",
    "print(sentence1)\n",
    "print(sentence2)\n",
    "print(sentence2vec.score(sentence1, sentence2, idf))\n",
    "sentence = sentences[10]\n",
    "similar_sentences = sentence2vec.most_similar(sentence, sentences, idf)  # BagOfWords-idf\n",
    "print(sentence)\n",
    "for i, sentence in enumerate(similar_sentences):\n",
    "    print(str(i+1) + ')', sentence)"
   ]
  },
  {
   "cell_type": "markdown",
   "metadata": {},
   "source": [
    "We have excpected more from the idf implementation "
   ]
  },
  {
   "cell_type": "markdown",
   "metadata": {},
   "source": [
    "# 2) Multilingual (English-French) word embeddings"
   ]
  },
  {
   "cell_type": "markdown",
   "metadata": {},
   "source": [
    "Let's consider a bilingual dictionary of size V_a (e.g French-English).\n",
    "\n",
    "Let's define **X** and **Y** the **French** and **English** matrices.\n",
    "\n",
    "They contain the embeddings associated to the words in the bilingual dictionary.\n",
    "\n",
    "We want to find a **mapping W** that will project the source word space (e.g French) to the target word space (e.g English).\n",
    "\n",
    "Procrustes : **W\\* = argmin || W.X - Y ||  s.t  W^T.W = Id**\n",
    "has a closed form solution:\n",
    "**W = U.V^T  where  U.Sig.V^T = SVD(Y.X^T)**\n",
    "\n",
    "In what follows, you are asked to: "
   ]
  },
  {
   "cell_type": "code",
   "execution_count": 7,
   "metadata": {},
   "outputs": [],
   "source": [
    "class MultilingualWordAligner:\n",
    "    \n",
    "    def __init__(self, fr_word2vec, en_word2vec):\n",
    "        self.fr_word2vec = fr_word2vec\n",
    "        self.en_word2vec = en_word2vec\n",
    "        self.aligned_fr_embeddings = self.get_aligned_fr_embeddings()\n",
    "        \n",
    "    def get_aligned_fr_embeddings(self):\n",
    "        # 1 - Get words that appear in both vocabs (= identical character strings)\n",
    "        #     Use it to create the matrix X (emb_dim, vocab_size) and Y (emb_dim, vocab_size) (of embeddings for these words)\n",
    "        \n",
    "        X = []\n",
    "        Y = []\n",
    "                \n",
    "        common_words = list(set(self.fr_word2vec.words).intersection(self.en_word2vec.words))\n",
    "        for word in common_words:\n",
    "            X.append(self.fr_word2vec.encode(word))\n",
    "            Y.append(self.en_word2vec.encode(word))\n",
    "            \n",
    "        X = np.array(X).transpose()\n",
    "        Y = np.array(Y).transpose()\n",
    "        print(X.shape)\n",
    "        assert X.shape[0] == 300 and Y.shape[0] == 300\n",
    "\n",
    "        # 2 - Solve the Procrustes using the numpy package and: np.linalg.svd() and get the optimal W\n",
    "        #     Now self.fr_word2vec.embeddings * W.transpose() is in the same space as en_word2vec.embeddings\n",
    "        U, S, VH = np.linalg.svd(Y.dot(np.transpose(X)))\n",
    "        W = U.dot(VH)\n",
    "        assert W.shape == (300, 300)\n",
    "        return np.matmul(fr_word2vec.embeddings, W.transpose())\n",
    "        \n",
    "    def get_closest_english_words(self, fr_word, k=3):\n",
    "        # 3 - Return the top k English nearest neighbors to the input French word\n",
    "        \n",
    "        idx = self.fr_word2vec.word2id[fr_word]\n",
    "        aligned_fr_emb = self.aligned_fr_embeddings[idx]   \n",
    "        #score = [np.linalg.norm(aligned_fr_emb - en_emb) for en_emb in self.en_word2vec.embeddings]        \n",
    "        #sorted_id = np.argsort(score)[0:k+1]\n",
    "        #nearest_words = [self.en_word2vec.id2word[idx] for idx in sorted_id]\n",
    "        #return nearest_words\n",
    "        return self.en_word2vec.most_similar(aligned_fr_emb, k=3)\n",
    "        "
   ]
  },
  {
   "cell_type": "code",
   "execution_count": 8,
   "metadata": {
    "scrolled": true
   },
   "outputs": [
    {
     "name": "stdout",
     "output_type": "stream",
     "text": [
      "Loaded 50000 pretrained word vectors\n",
      "Loaded 50000 pretrained word vectors\n",
      "(300, 14361)\n",
      "----------\n",
      "fr: \"chat\"\n",
      "en: \"cat\"\n",
      "en: \"kitten\"\n",
      "en: \"kitty\"\n",
      "----------\n",
      "fr: \"chien\"\n",
      "en: \"dog\"\n",
      "en: \"cat\"\n",
      "en: \"pet\"\n",
      "----------\n",
      "fr: \"voiture\"\n",
      "en: \"car\"\n",
      "en: \"vehicle\"\n",
      "en: \"automobile\"\n",
      "----------\n",
      "fr: \"zut\"\n",
      "en: \"oops\"\n",
      "en: \"Ah\"\n",
      "en: \"ah\"\n"
     ]
    }
   ],
   "source": [
    "fr_word2vec = Word2Vec(fr_embeddings_path, vocab_size=50000)\n",
    "en_word2vec = Word2Vec(en_embeddings_path, vocab_size=50000)\n",
    "multilingual_word_aligner = MultilingualWordAligner(fr_word2vec, en_word2vec)\n",
    "\n",
    "# You will be evaluated on the output of the following:\n",
    "fr_words = ['chat', 'chien', 'voiture', 'zut']\n",
    "k = 3\n",
    "for fr_word in fr_words:\n",
    "    print('-' * 10)\n",
    "    print(f'fr: \"{fr_word}\"')\n",
    "    en_words = multilingual_word_aligner.get_closest_english_words(fr_word, k=3)\n",
    "    for en_word in en_words:\n",
    "        print(f'en: \"{en_word}\"')"
   ]
  },
  {
   "cell_type": "markdown",
   "metadata": {},
   "source": [
    "If you want to dive deeper on this subject: https://github.com/facebookresearch/MUSE"
   ]
  },
  {
   "cell_type": "markdown",
   "metadata": {},
   "source": [
    "# 3) Sentence classification with BoV and scikit-learn"
   ]
  },
  {
   "cell_type": "code",
   "execution_count": 9,
   "metadata": {
    "scrolled": true
   },
   "outputs": [
    {
     "name": "stdout",
     "output_type": "stream",
     "text": [
      "Loading sentences...\n",
      "Loaded\n",
      "Loading sentences...\n",
      "Loaded\n",
      "Loading sentences...\n",
      "Loaded\n"
     ]
    }
   ],
   "source": [
    "# 1 - Load train/dev/test of Stanford Sentiment TreeBank (SST)\n",
    "#     (https://nlp.stanford.edu/~socherr/EMNLP2013_RNTN.pdf)\n",
    "train_filepath = PATH_TO_DATA / 'SST/stsa.fine.train'\n",
    "dev_filepath = PATH_TO_DATA / 'SST/stsa.fine.dev'\n",
    "test_filepath = PATH_TO_DATA / 'SST/stsa.fine.test.X'\n",
    "\n",
    "def import_sentences(path, label):\n",
    "    stc = []\n",
    "    lbl = []\n",
    "    print('Loading sentences...')\n",
    "    file = open(path)\n",
    "    c = 0\n",
    "    for line in file:\n",
    "        if label:\n",
    "            stc.append(line[1:].rstrip()) \n",
    "            lbl.append(line[0])\n",
    "        else:\n",
    "            stc.append(line.rstrip())\n",
    "    lbl = [int(label) for label in lbl]\n",
    "    print('Loaded')\n",
    "    if lbl:\n",
    "        return stc, lbl\n",
    "    return stc\n",
    "\n",
    "data_train, target_train = import_sentences(train_filepath, label = True)\n",
    "data_val, target_val = import_sentences(dev_filepath, label = True)\n",
    "data_test = import_sentences(test_filepath, label = False)"
   ]
  },
  {
   "cell_type": "code",
   "execution_count": 10,
   "metadata": {},
   "outputs": [],
   "source": [
    "# 2 - Encode sentences with the BoV model above\n",
    "\n",
    "#Build embeddings considering idf\n",
    "data = np.concatenate((data_train, data_test, data_val))\n",
    "idf = sentence2vec.build_idf(data)\n",
    "\n",
    "X_train = np.empty((len(data_train),300))\n",
    "X_train_idf = np.empty((len(data_train),300))\n",
    "\n",
    "X_val = np.empty((len(data_val),300))\n",
    "X_val_idf = np.empty((len(data_val),300))\n",
    "\n",
    "X_test = np.empty((len(data_test),300))\n",
    "X_test_idf = np.empty((len(data_test),300))\n",
    "\n",
    "for i in range(len(data_train)):\n",
    "    X_train[i] = sentence2vec.encode(data_train[i])\n",
    "    X_train_idf[i] = sentence2vec.encode(data_train[i], idf)\n",
    "\n",
    "for i in range(len(data_val)):\n",
    "    X_val[i] = sentence2vec.encode(data_val[i])\n",
    "    X_val_idf[i] = sentence2vec.encode(data_val[i], idf)\n",
    "\n",
    "for i in range(len(data_test)):\n",
    "    X_test[i] = sentence2vec.encode(data_test[i])\n",
    "    X_test_idf[i] = sentence2vec.encode(data_test[i], idf)"
   ]
  },
  {
   "cell_type": "code",
   "execution_count": 27,
   "metadata": {
    "scrolled": false
   },
   "outputs": [
    {
     "name": "stdout",
     "output_type": "stream",
     "text": [
      "train Without IDF 0.46945224719101125\n",
      "train With IDF 0.479751872659176\n",
      "dev Without IDF 0.4196185286103542\n",
      "dev With IDF 0.4087193460490463\n"
     ]
    }
   ],
   "source": [
    "# 3 - Learn Logistic Regression on top of sentence embeddings using scikit-learn\n",
    "#     (consider tuning the L2 regularization on the dev set)\n",
    "#     In the paper, the accuracy for average of word vectors is 32.7%\n",
    "#     (VecAvg, table 1, https://nlp.stanford.edu/~socherr/EMNLP2013_RNTN.pdf)\n",
    "#     We have done grid search by hand to have an intuition \n",
    "#     and then we try with the automatic one but we didn't obtained better\n",
    "#     results, so we kept our initial results find by hands.\n",
    "\n",
    "logreg = LogisticRegression(solver='lbfgs', multi_class='multinomial', C=15, max_iter=10000)\n",
    "logreg_idf = LogisticRegression(solver='lbfgs', multi_class='multinomial', C=5, max_iter=10000)\n",
    "mod = logreg.fit(X_train,target_train)\n",
    "mod_idf = logreg_idf.fit(X_train_idf, target_train)\n",
    "pred_idf = mod_idf.predict(X_val_idf)\n",
    "pred = mod.predict(X_val)\n",
    "pred_train = mod.predict(X_train)\n",
    "pred_idf_train = mod_idf.predict(X_train_idf)\n",
    "\n",
    "print('train Without IDF',accuracy_score(pred_train, target_train))\n",
    "print('train With IDF',accuracy_score(pred_idf_train, target_train))\n",
    "print('dev Without IDF',accuracy_score(pred, target_val))\n",
    "print('dev With IDF',accuracy_score(pred_idf, target_val))"
   ]
  },
  {
   "cell_type": "code",
   "execution_count": 28,
   "metadata": {
    "scrolled": true
   },
   "outputs": [
    {
     "name": "stdout",
     "output_type": "stream",
     "text": [
      "train Without IDF 0.492358116294677\n",
      "train With IDF 0.49192164861833776\n",
      "dev Without IDF 0.44850780591209355\n",
      "dev With IDF 0.42422729572766027\n"
     ]
    }
   ],
   "source": [
    "print('train Without IDF',f1_score(pred_train, target_train, average='weighted'))\n",
    "print('train With IDF',f1_score(pred_idf_train, target_train, average='weighted'))\n",
    "print('dev Without IDF',f1_score(pred, target_val, average='weighted'))\n",
    "print('dev With IDF',f1_score(pred_idf, target_val, average='weighted'))"
   ]
  },
  {
   "cell_type": "code",
   "execution_count": 29,
   "metadata": {},
   "outputs": [],
   "source": [
    "# 4 - Produce 2210 predictions for the test set (in the same order). One line = one prediction (=0,1,2,3,4).\n",
    "#     Attach the output file \"logreg_bov_y_test_sst.txt\" to your deliverable.\n",
    "#     You will be evaluated on the results of the test set.\n",
    "pred_test = mod.predict(X_test)\n",
    "pred_test = np.asarray(pred_test)\n",
    "pred_file = np.savetxt(\"logreg_bov_y_test_sst.txt\", pred_test, fmt='%d')"
   ]
  },
  {
   "cell_type": "code",
   "execution_count": 16,
   "metadata": {},
   "outputs": [],
   "source": [
    "# BONUS!\n",
    "# 5 - Try to improve performance with another classifier\n",
    "#     Attach the output file \"XXX_bov_y_test_sst.txt\" to your deliverable (where XXX = the name of the classifier)\n",
    "from sklearn.ensemble import GradientBoostingClassifier\n",
    "\n",
    "#     min_samples_leaf = 20 since the data set looks unbalanced\n",
    "# \n",
    "grid = {\"max_depth\":[2,3,5,7,12], \"max_features\":[15, 20, 40, 50]}\n",
    "mod_GB = GradientBoostingClassifier(n_estimators=1000, min_samples_leaf=20, learning_rate=0.1)\n",
    "mod = GridSearchCV(mod_GB, grid, \"accuracy\", n_jobs=-1, cv=3)\n",
    "clf = mod.fit(X_train_idf, target_train)\n",
    "# TYPE CODE HERE"
   ]
  },
  {
   "cell_type": "code",
   "execution_count": 18,
   "metadata": {
    "scrolled": true
   },
   "outputs": [
    {
     "name": "stdout",
     "output_type": "stream",
     "text": [
      "Accuracy with GB 0.3814713896457766\n"
     ]
    }
   ],
   "source": [
    "pred_GB = clf.predict(X_val_idf)\n",
    "print(\"Accuracy with GB\",accuracy_score(pred_GB,target_val))"
   ]
  },
  {
   "cell_type": "markdown",
   "metadata": {},
   "source": [
    "Unfortunately we didn't improve the baseline "
   ]
  },
  {
   "cell_type": "markdown",
   "metadata": {},
   "source": [
    "# 4) Sentence classification with LSTMs in Keras"
   ]
  },
  {
   "cell_type": "markdown",
   "metadata": {},
   "source": [
    "## 4.1 - Preprocessing"
   ]
  },
  {
   "cell_type": "code",
   "execution_count": 26,
   "metadata": {
    "jupyter": {
     "outputs_hidden": false
    }
   },
   "outputs": [
    {
     "name": "stderr",
     "output_type": "stream",
     "text": [
      "Using TensorFlow backend.\n"
     ]
    }
   ],
   "source": [
    "import tensorflow as tf\n",
    "from keras.preprocessing.text import one_hot\n",
    "from keras.preprocessing.sequence import pad_sequences"
   ]
  },
  {
   "cell_type": "code",
   "execution_count": 17,
   "metadata": {},
   "outputs": [],
   "source": [
    "# 1 - Using the same dataset, transform text to integers using tf.keras.preprocessing.text.one_hot function\n",
    "#     https://keras.io/preprocessing/text/\n",
    "\n",
    "voc = [word for sentence in data_train for word in sentence.split()] + [word for sentence in data_val for word in sentence.split()] + [word for sentence in data_test for word in sentence.split()] \n",
    "n_voc = len(np.unique(voc))\n",
    "n_hash = int(1.3*n_voc)+1\n",
    "onehot_train = []\n",
    "onehot_val = []\n",
    "onehot_test = []\n",
    "\n",
    "for sentence in data_train:\n",
    "    onehot_train.append(one_hot(sentence, n_hash, filters='!\"#$%&()*+,-./:;<=>?@[\\]^_`{|}~  ', lower=True, split=' '))\n",
    "\n",
    "for sentence in data_val:\n",
    "    onehot_val.append(one_hot(sentence, n_hash, filters='!\"#$%&()*+,-./:;<=>?@[\\]^_`{|}~  ', lower=True, split=' '))\n",
    "    \n",
    "for sentence in data_test:\n",
    "    onehot_test.append(one_hot(sentence, n_hash, filters='!\"#$%&()*+,-./:;<=>?@[\\]^_`{|}~  ', lower=True, split=' '))\n",
    "\n",
    "y_train = tf.keras.utils.to_categorical(target_train, num_classes=5)\n",
    "y_val = tf.keras.utils.to_categorical(target_val, num_classes=5)"
   ]
  },
  {
   "cell_type": "markdown",
   "metadata": {},
   "source": [
    "**Padding input data**\n",
    "\n",
    "Models in Keras (and elsewhere) take batches of sentences of the same length as input. It is because Deep Learning framework have been designed to handle well Tensors, which are particularly suited for fast computation on the GPU.\n",
    "\n",
    "Since sentences have different sizes, we \"pad\" them. That is, we add dummy \"padding\" tokens so that they all have the same length.\n",
    "\n",
    "The input to a Keras model thus has this size : (batchsize, maxseqlen) where maxseqlen is the maximum length of a sentence in the batch."
   ]
  },
  {
   "cell_type": "code",
   "execution_count": 21,
   "metadata": {},
   "outputs": [],
   "source": [
    "# 2 - Pad your sequences using tf.keras.preprocessing.sequence.pad_sequences\n",
    "#     https://keras.io/preprocessing/sequence/\n",
    "\n",
    "pad_length = np.max([len(sentence) for sentence in onehot_train])\n",
    "pad_train = pad_sequences(onehot_train, maxlen=pad_length, dtype='int32', padding='post', truncating='pre', value=0)\n",
    "pad_val = pad_sequences(onehot_val, maxlen=pad_length, dtype='int32', padding='post', truncating='pre', value=0)\n",
    "pad_test = pad_sequences(onehot_test, maxlen=pad_length, dtype='int32', padding='post', truncating='pre', value=0)"
   ]
  },
  {
   "cell_type": "markdown",
   "metadata": {},
   "source": [
    "## 4.2 - Design and train your model"
   ]
  },
  {
   "cell_type": "code",
   "execution_count": 102,
   "metadata": {},
   "outputs": [],
   "source": [
    "# 3 - Design your encoder + classifier using tensorflow.keras.layers\n",
    "#     In Keras, Torch and other deep learning framework, we create a \"container\" which is the Sequential() module.\n",
    "#     Then we add components to this container : the lookup-table, the LSTM, the classifier etc.\n",
    "#     All of these components are contained in the Sequential() and are trained together.\n",
    "#     Note that the embedding layer is initialized randomly and does not take advantage of pre-trained word embeddings.\n",
    "\n",
    "\n",
    "# ADAPT CODE BELOW\n",
    "\n",
    "\n",
    "from tensorflow.keras.models import Sequential\n",
    "from tensorflow.keras.layers import Embedding, LSTM, Dense, Activation, Bidirectional, MaxPooling1D, Dropout, Flatten\n",
    "\n",
    "\n",
    "embed_dim  = 300  # word embedding dimension\n",
    "nhid       = 35  # number of hidden units in the LSTM\n",
    "vocab_size = n_hash  # size of the vocabulary\n",
    "n_classes  = 5\n",
    "\n",
    "model = Sequential()\n",
    "model.add(Embedding(vocab_size, embed_dim, mask_zero=True,trainable=True))\n",
    "model.add(Dropout(0.5))\n",
    "model.add(Bidirectional(LSTM(nhid, dropout=0.5, recurrent_dropout=0.5)))\n",
    "model.add(Dense(nhid,activation='tanh'))\n",
    "model.add(Dense(n_classes, activation='softmax'))"
   ]
  },
  {
   "cell_type": "code",
   "execution_count": 103,
   "metadata": {
    "jupyter": {
     "outputs_hidden": false
    },
    "scrolled": false
   },
   "outputs": [
    {
     "name": "stdout",
     "output_type": "stream",
     "text": [
      "Model: \"sequential_21\"\n",
      "_________________________________________________________________\n",
      "Layer (type)                 Output Shape              Param #   \n",
      "=================================================================\n",
      "embedding_21 (Embedding)     (None, None, 300)         7619100   \n",
      "_________________________________________________________________\n",
      "dropout_21 (Dropout)         (None, None, 300)         0         \n",
      "_________________________________________________________________\n",
      "bidirectional_19 (Bidirectio (None, 70)                94080     \n",
      "_________________________________________________________________\n",
      "dense_42 (Dense)             (None, 35)                2485      \n",
      "_________________________________________________________________\n",
      "dense_43 (Dense)             (None, 5)                 180       \n",
      "=================================================================\n",
      "Total params: 7,715,845\n",
      "Trainable params: 7,715,845\n",
      "Non-trainable params: 0\n",
      "_________________________________________________________________\n",
      "None\n"
     ]
    }
   ],
   "source": [
    "# 4 - Define your loss/optimizer/metrics\n",
    "\n",
    "# MODIFY CODE BELOW\n",
    "\n",
    "loss_classif     =  'categorical_crossentropy' # find the right loss for multi-class classification\n",
    "optimizer        =  'RMSProp' # find the right optimizer\n",
    "metrics_classif  =  ['accuracy']\n",
    "\n",
    "# Observe how easy (but blackboxed) this is in Keras\n",
    "model.compile(loss=loss_classif,\n",
    "              optimizer=optimizer,\n",
    "              metrics=metrics_classif)\n",
    "print(model.summary())"
   ]
  },
  {
   "cell_type": "code",
   "execution_count": 104,
   "metadata": {
    "scrolled": true
   },
   "outputs": [
    {
     "name": "stdout",
     "output_type": "stream",
     "text": [
      "WARNING:tensorflow:The `nb_epoch` argument in `fit` has been renamed `epochs`.\n",
      "Train on 8544 samples, validate on 1101 samples\n",
      "Epoch 1/5\n",
      "8544/8544 [==============================] - 14s 2ms/sample - loss: 1.5618 - accuracy: 0.2886 - val_loss: 1.5289 - val_accuracy: 0.3415\n",
      "Epoch 2/5\n",
      "8544/8544 [==============================] - 10s 1ms/sample - loss: 1.4551 - accuracy: 0.3686 - val_loss: 1.4135 - val_accuracy: 0.3751\n",
      "Epoch 3/5\n",
      "8544/8544 [==============================] - 10s 1ms/sample - loss: 1.3181 - accuracy: 0.4368 - val_loss: 1.3542 - val_accuracy: 0.3942\n",
      "Epoch 4/5\n",
      "8544/8544 [==============================] - 10s 1ms/sample - loss: 1.1954 - accuracy: 0.4963 - val_loss: 1.3365 - val_accuracy: 0.4005\n",
      "Epoch 5/5\n",
      "8544/8544 [==============================] - 10s 1ms/sample - loss: 1.1094 - accuracy: 0.5339 - val_loss: 1.3661 - val_accuracy: 0.4033\n"
     ]
    }
   ],
   "source": [
    "# 5 - Train your model and find the best hyperparameters for your dev set\n",
    "#     you will be evaluated on the quality of your predictions on the test set\n",
    "#     Keras expects y_train and y_dev to be one-hot encodings of the labels, i.e. with shape=(n_samples, 5)\n",
    "\n",
    "\n",
    "# ADAPT CODE BELOW\n",
    "bs = 200\n",
    "n_epochs = 5\n",
    "history = model.fit(pad_train, y_train, batch_size=bs, nb_epoch=n_epochs, validation_data=(pad_val, y_val))"
   ]
  },
  {
   "cell_type": "code",
   "execution_count": 105,
   "metadata": {},
   "outputs": [],
   "source": [
    "# 6 - Generate your predictions on the test set using model.predict(x_test)\n",
    "#     https://keras.io/models/model/\n",
    "#     Log your predictions in a file (one line = one integer: 0,1,2,3,4)\n",
    "#     Attach the output file \"logreg_lstm_y_test_sst.txt\" to your deliverable.\n",
    "pred_test_LSTM = model.predict(pad_test)\n",
    "pred_int = np.argmax(pred_test_LSTM,axis=1)\n",
    "pred_file_LSTM = np.savetxt(\"logreg_lstm_y_test_sst.txt\", pred_int, fmt='%d')"
   ]
  },
  {
   "cell_type": "code",
   "execution_count": 108,
   "metadata": {},
   "outputs": [
    {
     "data": {
      "text/plain": [
       "<matplotlib.legend.Legend at 0x179e32550>"
      ]
     },
     "execution_count": 108,
     "metadata": {},
     "output_type": "execute_result"
    },
    {
     "data": {
      "image/png": "[encoded data removed]",
      "text/plain": [
       "<Figure size 720x360 with 1 Axes>"
      ]
     },
     "metadata": {
      "needs_background": "light"
     },
     "output_type": "display_data"
    },
    {
     "data": {
      "image/png": "[encoded data removed]",
      "text/plain": [
       "<Figure size 720x360 with 1 Axes>"
      ]
     },
     "metadata": {
      "needs_background": "light"
     },
     "output_type": "display_data"
    }
   ],
   "source": [
    "import matplotlib.pyplot as plt\n",
    "\n",
    "plt.subplots(figsize=(10,5))\n",
    "plt.plot(history.history['loss'])\n",
    "plt.plot(history.history['val_loss'])\n",
    "plt.legend(['train','dev'])\n",
    "\n",
    "plt.subplots(figsize=(10,5))\n",
    "plt.plot(history.history['accuracy'])\n",
    "plt.plot(history.history['val_accuracy'])\n",
    "plt.legend(['train','dev'])\n"
   ]
  },
  {
   "cell_type": "markdown",
   "metadata": {},
   "source": [
    "## 4.3 - innovate !"
   ]
  },
  {
   "cell_type": "code",
   "execution_count": null,
   "metadata": {},
   "outputs": [],
   "source": [
    "# 7 - Open question: find a model that is better on your dev set\n",
    "#     (e.g: use a 1D ConvNet, use a better classifier, pretrain your lookup tables ..)\n",
    "#     you will get point if the results on the test set are better: be careful of not overfitting your dev set too much..\n",
    "#     Attach the output file \"XXX_XXX_y_test_sst.txt\" to your deliverable.\n",
    "\n",
    "# TYPE CODE HERE"
   ]
  }
 ],
 "metadata": {
  "kernelspec": {
   "display_name": "Python 3",
   "language": "python",
   "name": "python3"
  },
  "language_info": {
   "codemirror_mode": {
    "name": "ipython",
    "version": 3
   },
   "file_extension": ".py",
   "mimetype": "text/x-python",
   "name": "python",
   "nbconvert_exporter": "python",
   "pygments_lexer": "ipython3",
   "version": "3.7.4"
  }
 },
 "nbformat": 4,
 "nbformat_minor": 4
}
