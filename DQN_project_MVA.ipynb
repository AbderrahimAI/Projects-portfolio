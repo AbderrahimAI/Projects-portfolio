{
  "nbformat": 4,
  "nbformat_minor": 0,
  "metadata": {
    "kernelspec": {
      "display_name": "Python 3",
      "language": "python",
      "name": "python3"
    },
    "language_info": {
      "codemirror_mode": {
        "name": "ipython",
        "version": 3
      },
      "file_extension": ".py",
      "mimetype": "text/x-python",
      "name": "python",
      "nbconvert_exporter": "python",
      "pygments_lexer": "ipython3",
      "version": "3.7.4"
    },
    "colab": {
      "name": "DQN_project_MVA.ipynb",
      "provenance": [],
      "collapsed_sections": []
    }
  },
  "cells": [
    {
      "cell_type": "markdown",
      "metadata": {
        "id": "JuuorBw_dZQw",
        "colab_type": "text"
      },
      "source": [
        "**You may need to install [OpenCV](https://pypi.python.org/pypi/opencv-python) and [scikit-video](http://www.scikit-video.org/stable/).**"
      ]
    },
    {
      "cell_type": "code",
      "metadata": {
        "id": "WBtdNsHhdZQ0",
        "colab_type": "code",
        "outputId": "73748374-b62b-470e-9434-bb54496b9a86",
        "colab": {
          "base_uri": "https://localhost:8080/",
          "height": 85
        }
      },
      "source": [
        "import keras\n",
        "import numpy as np\n",
        "import io\n",
        "import base64\n",
        "from IPython.display import HTML\n",
        "!pip install scikit-video\n",
        "import skvideo.io\n",
        "import cv2\n",
        "import json\n",
        "\n",
        "from keras.models import Sequential,model_from_json\n",
        "from keras.layers.core import Dense\n",
        "from keras.optimizers import sgd\n",
        "from keras.layers import Conv2D, MaxPooling2D, Activation, AveragePooling2D,Reshape,BatchNormalization, Flatten, Dropout\n",
        "\n"
      ],
      "execution_count": 4,
      "outputs": [
        {
          "output_type": "stream",
          "text": [
            "Requirement already satisfied: scikit-video in /usr/local/lib/python3.6/dist-packages (1.1.11)\n",
            "Requirement already satisfied: scipy in /usr/local/lib/python3.6/dist-packages (from scikit-video) (1.4.1)\n",
            "Requirement already satisfied: numpy in /usr/local/lib/python3.6/dist-packages (from scikit-video) (1.17.5)\n",
            "Requirement already satisfied: pillow in /usr/local/lib/python3.6/dist-packages (from scikit-video) (6.2.2)\n"
          ],
          "name": "stdout"
        }
      ]
    },
    {
      "cell_type": "markdown",
      "metadata": {
        "id": "9lC3ZoM3dZQ6",
        "colab_type": "text"
      },
      "source": [
        "# MiniProject on Deep Reinforcement Learning"
      ]
    },
    {
      "cell_type": "markdown",
      "metadata": {
        "id": "IxemdzsudZQ8",
        "colab_type": "text"
      },
      "source": [
        "__Notations__: $E_p$ is the expectation under probability $p$. Please justify each of your answer and widely comment your code."
      ]
    },
    {
      "cell_type": "markdown",
      "metadata": {
        "id": "T5Xqfs4adZQ9",
        "colab_type": "text"
      },
      "source": [
        "# Context"
      ]
    },
    {
      "cell_type": "markdown",
      "metadata": {
        "id": "bx_ONkvQdZQ-",
        "colab_type": "text"
      },
      "source": [
        "In a reinforcement learning algorithm, we modelize each step $t$ as an action $a_t$ obtained from a state $s_t$, i.e. $\\{(a_{t},s_{t})_{t\\leq T}\\}$ having the Markov property. We consider a discount factor $\\gamma \\in [0,1]$ that ensures convergence. The goal is to find among all the policies $\\pi$, one that maximizes the expected reward:\n",
        "\n",
        "\\begin{equation*}\n",
        "R(\\pi)=\\sum_{t\\leq T}E_{p^{\\pi}}[\\gamma^t r(s_{t},a_{t})] \\> ,\n",
        "\\end{equation*}\n",
        "\n",
        "where: \n",
        "\\begin{equation*}p^{\\pi}(a_{0},a_{1},s_{1},...,a_{T},s_{T})=p(a_{0})\\prod_{t=1}^{T}\\pi(a_{t}|s_{t})p(s_{t+1}|s_{t},a_{t}) \\> .\n",
        "\\end{equation*}\n",
        "\n",
        "We note the $Q$-function:\n",
        "\n",
        "\\begin{equation*}Q^\\pi(s,a)=E_{p^{\\pi}}[\\sum_{t\\leq T}\\gamma^{t}r(s_{t},a_{t})|s_{0}=s,a_{0}=a] \\> .\n",
        "\\end{equation*}\n",
        "\n",
        "Thus, the optimal Q function is:\n",
        "\\begin{equation*}\n",
        "Q^*(s,a)=\\max_{\\pi}Q^\\pi(s,a) \\> .\n",
        "\\end{equation*}\n",
        "\n",
        "In this project, we will apply the deep reinforcement learning techniques to a simple game: an agent will have to learn from scratch a policy that will permit it maximizing a reward."
      ]
    },
    {
      "cell_type": "markdown",
      "metadata": {
        "id": "eCJ6XimUdZQ_",
        "colab_type": "text"
      },
      "source": [
        "## The environment, the agent and the game"
      ]
    },
    {
      "cell_type": "markdown",
      "metadata": {
        "id": "CIZTHzcGdZRA",
        "colab_type": "text"
      },
      "source": [
        "### The environment"
      ]
    },
    {
      "cell_type": "markdown",
      "metadata": {
        "id": "MqTELmhrdZRC",
        "colab_type": "text"
      },
      "source": [
        "```Environment``` is an abstract class that represents the states, rewards, and actions to obtain the new state."
      ]
    },
    {
      "cell_type": "code",
      "metadata": {
        "id": "KNdUUKANdZRD",
        "colab_type": "code",
        "colab": {}
      },
      "source": [
        "class Environment(object):\n",
        "    def __init__(self):\n",
        "        pass\n",
        "\n",
        "    def act(self, act):\n",
        "        \"\"\"\n",
        "        One can act on the environment and obtain its reaction:\n",
        "        - the new state\n",
        "        - the reward of the new state\n",
        "        - should we continue the game?\n",
        "\n",
        "        :return: state, reward, game_over\n",
        "        \"\"\"\n",
        "        pass\n",
        "\n",
        "\n",
        "    def reset(self):\n",
        "        \"\"\"\n",
        "        Reinitialize the environment to a random state and returns\n",
        "        the original state\n",
        "\n",
        "        :return: state\n",
        "        \"\"\"\n",
        "        pass\n",
        "    \n",
        "    def draw(self):\n",
        "        \"\"\"\n",
        "        Visualize in the console or graphically the current state\n",
        "        \"\"\"\n",
        "        pass"
      ],
      "execution_count": 0,
      "outputs": []
    },
    {
      "cell_type": "markdown",
      "metadata": {
        "id": "vzzVhTgddZRH",
        "colab_type": "text"
      },
      "source": [
        "The method ```act``` allows to act on the environment at a given state $s_t$ (stored internally), via action $a_t$. The method will return the new state $s_{t+1}$, the reward $r(s_{t},a_{t})$ and determines if $t\\leq T$ (*game_over*).\n",
        "\n",
        "The method ```reset``` simply reinitializes the environment to a random state $s_0$.\n",
        "\n",
        "The method ```draw``` displays the current state $s_t$ (this is useful to check the behavior of the Agent).\n",
        "\n",
        "We modelize $s_t$ as a tensor, while $a_t$ is an integer."
      ]
    },
    {
      "cell_type": "markdown",
      "metadata": {
        "id": "fLZlNxTjdZRI",
        "colab_type": "text"
      },
      "source": [
        "### The Agent"
      ]
    },
    {
      "cell_type": "markdown",
      "metadata": {
        "id": "hluJV4x-dZRJ",
        "colab_type": "text"
      },
      "source": [
        "The goal of the ```Agent``` is to interact with the ```Environment``` by proposing actions $a_t$ obtained from a given state $s_t$ to attempt to maximize its __reward__ $r(s_t,a_t)$. We propose the following abstract class:"
      ]
    },
    {
      "cell_type": "code",
      "metadata": {
        "id": "U7SGRPTLdZRK",
        "colab_type": "code",
        "colab": {}
      },
      "source": [
        "class Agent(object):\n",
        "    def __init__(self, epsilon=0.1, n_action=4):\n",
        "        self.epsilon = epsilon\n",
        "        self.n_action = n_action\n",
        "    \n",
        "    def set_epsilon(self,e):\n",
        "        self.epsilon = e\n",
        "\n",
        "    def act(self,s,train=True):\n",
        "        \"\"\" This function should return the next action to do:\n",
        "        an integer between 0 and 4 (not included) with a random exploration of epsilon\"\"\"\n",
        "        if train:\n",
        "            if np.random.rand() <= self.epsilon:\n",
        "                a = np.random.randint(0, self.n_action, size=1)[0]\n",
        "            else:\n",
        "                a = self.learned_act(s)\n",
        "        else: # in some cases, this can improve the performance.. remove it if poor performances\n",
        "            a = self.learned_act(s)\n",
        "\n",
        "        return a\n",
        "\n",
        "    def learned_act(self,s):\n",
        "        \"\"\" Act via the policy of the agent, from a given state s\n",
        "        it proposes an action a\"\"\"\n",
        "        pass\n",
        "\n",
        "    def reinforce(self, s, n_s, a, r, game_over_):\n",
        "        \"\"\" This function is the core of the learning algorithm. \n",
        "        It takes as an input the current state s_, the next state n_s_\n",
        "        the action a_ used to move from s_ to n_s_ and the reward r_.\n",
        "        \n",
        "        Its goal is to learn a policy.\n",
        "        \"\"\"\n",
        "        pass\n",
        "\n",
        "    def save(self):\n",
        "        \"\"\" This function returns basic stats if applicable: the\n",
        "        loss and/or the model\"\"\"\n",
        "        pass\n",
        "\n",
        "    def load(self):\n",
        "        \"\"\" This function allows to restore a model\"\"\"\n",
        "        pass"
      ],
      "execution_count": 0,
      "outputs": []
    },
    {
      "cell_type": "markdown",
      "metadata": {
        "id": "XbowfIUJdZRO",
        "colab_type": "text"
      },
      "source": [
        "***\n",
        "__Question 1__:\n",
        "Explain the function act. Why is ```epsilon``` essential?"
      ]
    },
    {
      "cell_type": "markdown",
      "metadata": {
        "id": "ECjuxqX2dZRP",
        "colab_type": "text"
      },
      "source": [
        "This function returns the next action to do following the $\\epsilon$-greedy policy.\n",
        "\n",
        "The agent chooses a random action with propability $\\epsilon$ (exploration) or the action that maximizes the $Q$ function in state $s$ instead (exploitation) instead with propability $1-\\epsilon$.\n",
        "\n",
        "So there is a trade-off between exploration and exploitation when setting $\\epsilon$."
      ]
    },
    {
      "cell_type": "markdown",
      "metadata": {
        "id": "JhxSkIjJdZRQ",
        "colab_type": "text"
      },
      "source": [
        "***\n",
        "### The Game"
      ]
    },
    {
      "cell_type": "markdown",
      "metadata": {
        "id": "2y1mo1x5dZRR",
        "colab_type": "text"
      },
      "source": [
        "The ```Agent``` and the ```Environment``` work in an interlaced way as in the following (take some time to understand this code as it is the core of the project)\n",
        "\n",
        "```python\n",
        "\n",
        "epoch = 300\n",
        "env = Environment()\n",
        "agent = Agent()\n",
        "\n",
        "\n",
        "# Number of won games\n",
        "score = 0\n",
        "loss = 0\n",
        "\n",
        "\n",
        "for e in range(epoch):\n",
        "    # At each epoch, we restart to a fresh game and get the initial state\n",
        "    state = env.reset()\n",
        "    # This assumes that the games will end\n",
        "    game_over = False\n",
        "\n",
        "    win = 0\n",
        "    lose = 0\n",
        "    \n",
        "    while not game_over:\n",
        "        # The agent performs an action\n",
        "        action = agent.act(state)\n",
        "\n",
        "        # Apply an action to the environment, get the next state, the reward\n",
        "        # and if the games end\n",
        "        prev_state = state\n",
        "        state, reward, game_over = env.act(action)\n",
        "\n",
        "        # Update the counters\n",
        "        if reward > 0:\n",
        "            win = win + reward\n",
        "        if reward < 0:\n",
        "            lose = lose -reward\n",
        "\n",
        "        # Apply the reinforcement strategy\n",
        "        loss = agent.reinforce(prev_state, state,  action, reward, game_over)\n",
        "\n",
        "    # Save as a mp4\n",
        "    if e % 10 == 0:\n",
        "        env.draw(e)\n",
        "\n",
        "    # Update stats\n",
        "    score += win-lose\n",
        "\n",
        "    print(\"Epoch {:03d}/{:03d} | Loss {:.4f} | Win/lose count {}/{} ({})\"\n",
        "          .format(e, epoch, loss, win, lose, win-lose))\n",
        "    agent.save()\n",
        "```"
      ]
    },
    {
      "cell_type": "markdown",
      "metadata": {
        "id": "LVHSUB1IdZRS",
        "colab_type": "text"
      },
      "source": [
        "# The game, *eat cheese*"
      ]
    },
    {
      "cell_type": "markdown",
      "metadata": {
        "id": "j9uJQq7zdZRT",
        "colab_type": "text"
      },
      "source": [
        "A rat runs on an island and tries to eat as much as possible. The island is subdivided into $N\\times N$ cells, in which there are cheese (+0.5) and poisonous cells (-1). The rat has a visibility of 2 cells (thus it can see $5^2$ cells). The rat is given a time $T$ to accumulate as much food as possible. It can perform 4 actions: going up, down, left, right. \n",
        "\n",
        "The goal is to code an agent to solve this task that will learn by trial and error. We propose the following environment:"
      ]
    },
    {
      "cell_type": "code",
      "metadata": {
        "id": "P6z2cQpFdZRT",
        "colab_type": "code",
        "colab": {}
      },
      "source": [
        "class Environment(object):\n",
        "    def __init__(self, grid_size=10, max_time=500, temperature=0.1):\n",
        "        grid_size = grid_size+4\n",
        "        self.grid_size = grid_size\n",
        "        self.max_time = max_time\n",
        "        self.temperature = temperature\n",
        "\n",
        "        #board on which one plays\n",
        "        self.board = np.zeros((grid_size,grid_size))\n",
        "        self.position = np.zeros((grid_size,grid_size))\n",
        "\n",
        "        # coordinate of the cat\n",
        "        self.x = 0\n",
        "        self.y = 1\n",
        "\n",
        "        # self time\n",
        "        self.t = 0\n",
        "\n",
        "        self.scale=16\n",
        "\n",
        "        self.to_draw = np.zeros((max_time+2, grid_size*self.scale, grid_size*self.scale, 3))\n",
        "\n",
        "\n",
        "    def draw(self,e):\n",
        "        skvideo.io.vwrite(str(e) + '.mp4', self.to_draw)\n",
        "\n",
        "    def get_frame(self,t):\n",
        "        b = np.zeros((self.grid_size,self.grid_size,3))+128\n",
        "        b[self.board>0,0] = 256\n",
        "        b[self.board < 0, 2] = 256\n",
        "        b[self.x,self.y,:]=256\n",
        "        b[-2:,:,:]=0\n",
        "        b[:,-2:,:]=0\n",
        "        b[:2,:,:]=0\n",
        "        b[:,:2,:]=0\n",
        "        \n",
        "        b =  cv2.resize(b, None, fx=self.scale, fy=self.scale, interpolation=cv2.INTER_NEAREST)\n",
        "\n",
        "        self.to_draw[t,:,:,:]=b\n",
        "\n",
        "\n",
        "    def act(self, action):\n",
        "        \"\"\"This function returns the new state, reward and decides if the\n",
        "        game ends.\"\"\"\n",
        "\n",
        "        self.get_frame(int(self.t))\n",
        "\n",
        "        self.position = np.zeros((self.grid_size, self.grid_size))\n",
        "\n",
        "        self.position[0:2,:]= -1\n",
        "        self.position[:,0:2] = -1\n",
        "        self.position[-2:, :] = -1\n",
        "        self.position[:, -2:] = -1\n",
        "\n",
        "        self.position[self.x, self.y] = 1\n",
        "        if action == 0:\n",
        "            if self.x == self.grid_size-3:\n",
        "                self.x = self.x-1\n",
        "            else:\n",
        "                self.x = self.x + 1\n",
        "        elif action == 1:\n",
        "            if self.x == 2:\n",
        "                self.x = self.x+1\n",
        "            else:\n",
        "                self.x = self.x-1\n",
        "        elif action == 2:\n",
        "            if self.y == self.grid_size - 3:\n",
        "                self.y = self.y - 1\n",
        "            else:\n",
        "                self.y = self.y + 1\n",
        "        elif action == 3:\n",
        "            if self.y == 2:\n",
        "                self.y = self.y + 1\n",
        "            else:\n",
        "                self.y = self.y - 1\n",
        "        else:\n",
        "            RuntimeError('Error: action not recognized')\n",
        "\n",
        "        self.t = self.t + 1\n",
        "        reward = self.board[self.x, self.y]\n",
        "        self.board[self.x, self.y] = 0\n",
        "        game_over = self.t > self.max_time\n",
        "        state = np.concatenate((self.board.reshape(self.grid_size, self.grid_size,1),\n",
        "                        self.position.reshape(self.grid_size, self.grid_size,1)),axis=2)\n",
        "        state = state[self.x-2:self.x+3,self.y-2:self.y+3,:]\n",
        "\n",
        "        return state, reward, game_over\n",
        "\n",
        "    def reset(self):\n",
        "        \"\"\"This function resets the game and returns the initial state\"\"\"\n",
        "\n",
        "        self.x = np.random.randint(3, self.grid_size-3, size=1)[0]\n",
        "        self.y = np.random.randint(3, self.grid_size-3, size=1)[0]\n",
        "\n",
        "\n",
        "        bonus = 0.5*np.random.binomial(1,self.temperature,size=self.grid_size**2)\n",
        "        bonus = bonus.reshape(self.grid_size,self.grid_size)\n",
        "\n",
        "        malus = -1.0*np.random.binomial(1,self.temperature,size=self.grid_size**2)\n",
        "        malus = malus.reshape(self.grid_size, self.grid_size)\n",
        "\n",
        "        self.to_draw = np.zeros((self.max_time+2, self.grid_size*self.scale, self.grid_size*self.scale, 3))\n",
        "\n",
        "\n",
        "        malus[bonus>0]=0\n",
        "\n",
        "        self.board = bonus + malus\n",
        "\n",
        "        self.position = np.zeros((self.grid_size, self.grid_size))\n",
        "        self.position[0:2,:]= -1\n",
        "        self.position[:,0:2] = -1\n",
        "        self.position[-2:, :] = -1\n",
        "        self.position[:, -2:] = -1\n",
        "        self.board[self.x,self.y] = 0\n",
        "        self.t = 0\n",
        "\n",
        "        state = np.concatenate((\n",
        "                               self.board.reshape(self.grid_size, self.grid_size,1),\n",
        "                        self.position.reshape(self.grid_size, self.grid_size,1)),axis=2)\n",
        "\n",
        "        state = state[self.x - 2:self.x + 3, self.y - 2:self.y + 3, :]\n",
        "        return state"
      ],
      "execution_count": 0,
      "outputs": []
    },
    {
      "cell_type": "markdown",
      "metadata": {
        "id": "GoY6BT5CdZRV",
        "colab_type": "text"
      },
      "source": [
        "The following elements are important because they correspond to the hyper parameters for this project:"
      ]
    },
    {
      "cell_type": "code",
      "metadata": {
        "id": "2gvr8t1YdZRW",
        "colab_type": "code",
        "colab": {}
      },
      "source": [
        "# parameters\n",
        "size = 13\n",
        "T=200\n",
        "temperature=0.3\n",
        "epochs_train=70 # set small when debugging\n",
        "epochs_test=30 # set small when debugging\n",
        "\n",
        "# display videos\n",
        "def display_videos(name):\n",
        "    video = io.open(name, 'r+b').read()\n",
        "    encoded = base64.b64encode(video)\n",
        "    return '''<video alt=\"test\" controls>\n",
        "                <source src=\"data:video/mp4;base64,{0}\" type=\"video/mp4\" />\n",
        "             </video>'''.format(encoded.decode('ascii'))"
      ],
      "execution_count": 0,
      "outputs": []
    },
    {
      "cell_type": "markdown",
      "metadata": {
        "id": "VdtldOQgdZRY",
        "colab_type": "text"
      },
      "source": [
        "__Question 2__ Explain the use of the arrays ```position``` and ```board```."
      ]
    },
    {
      "cell_type": "markdown",
      "metadata": {
        "id": "u_4lPKQndZRY",
        "colab_type": "text"
      },
      "source": [
        "The array position is used to store the position of the agent on the map during the game, (x,y)=1 if the agent is on (x,y) or 0 other wise. <br>\n",
        "The array board stores the rewards signals the agent gets whent it raaches a location. "
      ]
    },
    {
      "cell_type": "markdown",
      "metadata": {
        "id": "n30TeDpjdZRZ",
        "colab_type": "text"
      },
      "source": [
        "## Random Agent"
      ]
    },
    {
      "cell_type": "markdown",
      "metadata": {
        "id": "OhmN3sIqdZRa",
        "colab_type": "text"
      },
      "source": [
        "***\n",
        "__Question 3__ Implement a random Agent (only ```learned_act``` needs to be implemented):"
      ]
    },
    {
      "cell_type": "code",
      "metadata": {
        "id": "1bN26RKEdZRa",
        "colab_type": "code",
        "colab": {}
      },
      "source": [
        "class RandomAgent(Agent):\n",
        "    def __init__(self):\n",
        "        super(RandomAgent, self).__init__()\n",
        "        pass\n",
        "\n",
        "    def learned_act(self, s):\n",
        "        action = np.random.randint(0, self.n_action)\n",
        "        return action"
      ],
      "execution_count": 0,
      "outputs": []
    },
    {
      "cell_type": "markdown",
      "metadata": {
        "id": "cRgsNJ8MdZRc",
        "colab_type": "text"
      },
      "source": [
        "***\n",
        "***\n",
        "__Question 4__ Visualize the game moves. You need to fill in the following function for the evaluation:"
      ]
    },
    {
      "cell_type": "code",
      "metadata": {
        "id": "etT77uc6dZRd",
        "colab_type": "code",
        "colab": {}
      },
      "source": [
        "def test(agent,env,epochs,prefix=''):\n",
        "    # Number of won games\n",
        "    score = 0\n",
        "    loss = 0\n",
        "\n",
        "    for e in range(epochs):\n",
        "        \n",
        "        ##### FILL IN HERE\n",
        "        state = env.reset()\n",
        "        game_over = False\n",
        "        \n",
        "        win = 0\n",
        "        lose = 0\n",
        "\n",
        "        while game_over == False:\n",
        "            # Do an action\n",
        "            action = agent.act(state)\n",
        "\n",
        "            # Apply an action to the environment, get the next state, the reward\n",
        "            prev_state = state\n",
        "            state, reward, game_over = env.act(action)\n",
        "\n",
        "            # Update the counters\n",
        "            if reward > 0:\n",
        "                win += reward\n",
        "            if reward < 0:\n",
        "                lose -= reward\n",
        "\n",
        "            # Apply the reinforcement strategy\n",
        "            #loss = agent.reinforce(prev_state, state,  action, reward, game_over)\n",
        "\n",
        "        # Save as a mp4\n",
        "        env.draw(prefix+str(e))\n",
        "\n",
        "        # Update stats\n",
        "        score = score + win-lose\n",
        "\n",
        "        print(\"Win/lose count {}/{}. Average score ({})\"\n",
        "              .format(win, lose, score/(1+e)))\n",
        "    print('Final score: '+str(score/epochs))"
      ],
      "execution_count": 0,
      "outputs": []
    },
    {
      "cell_type": "code",
      "metadata": {
        "scrolled": false,
        "id": "3hXvH4ZndZRe",
        "colab_type": "code",
        "outputId": "8a3f041a-29d4-481d-cbcd-5ee361c529ee",
        "colab": {
          "base_uri": "https://localhost:8080/",
          "height": 820
        }
      },
      "source": [
        "# Initialize the game\n",
        "env = Environment(grid_size=size, max_time=T,temperature=temperature)\n",
        "\n",
        "# Initialize the agent!\n",
        "agent = RandomAgent()\n",
        "\n",
        "test(agent,env,epochs_test,prefix='random')\n",
        "HTML(display_videos('random0.mp4'))"
      ],
      "execution_count": 11,
      "outputs": [
        {
          "output_type": "stream",
          "text": [
            "Win/lose count 9.0/14.0. Average score (-5.0)\n",
            "Win/lose count 7.5/11.0. Average score (-4.25)\n",
            "Win/lose count 8.5/4.0. Average score (-1.3333333333333333)\n",
            "Win/lose count 7.0/5.0. Average score (-0.5)\n",
            "Win/lose count 9.0/14.0. Average score (-1.4)\n",
            "Win/lose count 10.0/13.0. Average score (-1.6666666666666667)\n",
            "Win/lose count 11.0/22.0. Average score (-3.0)\n",
            "Win/lose count 12.0/16.0. Average score (-3.125)\n",
            "Win/lose count 14.0/19.0. Average score (-3.3333333333333335)\n",
            "Win/lose count 12.0/16.0. Average score (-3.4)\n",
            "Win/lose count 11.0/13.0. Average score (-3.272727272727273)\n",
            "Win/lose count 13.5/10.0. Average score (-2.7083333333333335)\n",
            "Win/lose count 11.5/21.0. Average score (-3.230769230769231)\n",
            "Win/lose count 7.5/16.0. Average score (-3.607142857142857)\n",
            "Win/lose count 12.5/11.0. Average score (-3.2666666666666666)\n",
            "Win/lose count 7.0/7.0. Average score (-3.0625)\n",
            "Win/lose count 11.0/12.0. Average score (-2.9411764705882355)\n",
            "Win/lose count 8.0/13.0. Average score (-3.0555555555555554)\n",
            "Win/lose count 10.0/13.0. Average score (-3.0526315789473686)\n",
            "Win/lose count 10.0/8.0. Average score (-2.8)\n",
            "Win/lose count 10.5/11.0. Average score (-2.6904761904761907)\n",
            "Win/lose count 9.0/14.0. Average score (-2.7954545454545454)\n",
            "Win/lose count 11.5/16.0. Average score (-2.869565217391304)\n",
            "Win/lose count 6.5/16.0. Average score (-3.1458333333333335)\n",
            "Win/lose count 11.0/10.0. Average score (-2.98)\n",
            "Win/lose count 10.5/17.0. Average score (-3.1153846153846154)\n",
            "Win/lose count 8.5/18.0. Average score (-3.3518518518518516)\n",
            "Win/lose count 14.5/15.0. Average score (-3.25)\n",
            "Win/lose count 11.5/16.0. Average score (-3.293103448275862)\n",
            "Win/lose count 9.0/11.0. Average score (-3.25)\n",
            "Final score: -3.25\n"
          ],
          "name": "stdout"
        },
        {
          "output_type": "execute_result",
          "data": {
            "text/html": [
              "<video alt=\"test\" controls>\n",
              "                <source src=\"data:video/mp4;base64,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\" type=\"video/mp4\" />\n",
              "             </video>"
            ],
            "text/plain": [
              "<IPython.core.display.HTML object>"
            ]
          },
          "metadata": {
            "tags": []
          },
          "execution_count": 11
        }
      ]
    },
    {
      "cell_type": "markdown",
      "metadata": {
        "id": "Oe42nhNrdZRg",
        "colab_type": "text"
      },
      "source": [
        "***\n",
        "## DQN"
      ]
    },
    {
      "cell_type": "markdown",
      "metadata": {
        "id": "lLIIJvS_dZRh",
        "colab_type": "text"
      },
      "source": [
        "Let us assume here that $T=\\infty$.\n",
        "\n",
        "***\n",
        "__Question 5__ Let $\\pi$ be a policy, show that:\n",
        "\n",
        "\\begin{equation*}\n",
        "Q^{\\pi}(s,a)=E_{(s',a')\\sim p(.|s,a)}[r(s,a)+\\gamma Q^{\\pi}(s',a')]\n",
        "\\end{equation*}\n",
        "\n",
        "Then, show that for the optimal policy $\\pi^*$ (we assume its existence), the following holds: \n",
        "\n",
        "\\begin{equation*}\n",
        "Q^{*}(s,a)=E_{s'\\sim \\pi^*(.|s,a)}[r(s,a)+\\gamma\\max_{a'}Q^{*}(s',a')].\n",
        "\\end{equation*}\n",
        "Finally, deduce that a plausible objective is:\n",
        "\n",
        "\\begin{equation*}\n",
        "\\mathcal{L}(\\theta)=E_{s' \\sim \\pi^*(.|s,a)}\\Vert r+\\gamma\\max\\max_{a'}Q(s',a',\\theta)-Q(s,a,\\theta)\\Vert^{2}.\n",
        "\\end{equation*}\n",
        "\n",
        "\n"
      ]
    },
    {
      "cell_type": "markdown",
      "metadata": {
        "id": "uC6QwglhdZRi",
        "colab_type": "text"
      },
      "source": [
        "__Question 5.1__\n",
        "\n",
        "\n",
        "By definition : $$ Q^{\\pi}(s,a) = E_{p^{\\pi}}[\\sum\\limits_{t = 0}^{\\infty}\\gamma^{t}r(s_{t},a_{t})\\|s_0=s,a_0=a]$$ \n",
        "\n",
        "\n",
        "$$  Q^{\\pi}(s,a) = E_{p^{\\pi}}[r(s,a) + \\sum\\limits_{t = 1}^{\\infty}\\gamma^{t}r(s_{t},a_{t})|s_0=s,a_0=a]$$ \n",
        "\n",
        "\n",
        "$$  Q^{\\pi}(s,a) = E_{p^{\\pi}}[r(s,a) + \\gamma E_{p^{\\pi}}[\\sum\\limits_{t = 1}^{\\infty}\\gamma^{t-1}r(s_{t},a_{t})|s_1=s',a_1=a']|s_0=s,a_0=a]$$ \n",
        "\n",
        "$$ = E_{(s',a')\\sim p^{\\pi}(.|s,a)}[r(s,a)+\\gamma Q^{\\pi}(s',a')]$$ \n",
        "\n",
        "__Question 5.2__ By applying the first equlity to $\\pi$ we have:\n",
        "\n",
        "$$Q^{\\pi}(s,a)=E_{(s',a')\\sim p^{\\pi^{*}}(.|s,a)}[r(s,a)+\\gamma Q^{\\pi}(s',a')]$$\n",
        "\n",
        "$$Q^{\\pi}(s,a)= r(s,a) + \\gamma\\sum\\limits_{s'\\in S}p(s'|s,a)\\pi(a'|s')Q^{\\pi}(s',a')$$ and since $\\pi$ follows the greedy policy we have: $\\pi(a'|s') = 1$  function for $a' = argmax_{a'} Q^{\\pi^{*}}(s',a')$ so the action-value function q can be rewritten as:\n",
        "\n",
        "$$Q^{\\pi}(s,a)= E_{s'\\sim \\pi(.|s,a)}[r(s,a)+\\gamma max_{a'}Q^{\\pi}(s',a')]$$\n",
        "\n",
        "But since $\\pi*$ is optimal, a greedy policy of that policy is the optimal policy itself, hence $\\pi = \\pi^{*}$\n",
        "\n",
        "Finally, $$Q^{*}(s,a)=E_{s'\\sim \\pi^*(.|s,a)}[r(s,a)+\\gamma\\max_{a'}Q^{*}(s',a')].$$\n",
        "\n",
        "\n",
        "We have then proved that knowing the optimal action-value fucntion is equivalent to know the optimal policy since any greedy policy w.r.t to that value function is optimal.\n",
        " \n",
        "__Question 5.3__\n",
        "We want to decrease this gap between the prediction of our model $Q(s,a;\\theta)$ and the target $E_{s'\\sim \\pi^*(.|s,a)}[r(s,a)+\\gamma\\max_{a'}Q^{*}(s',a')]$ by adjusting the model parameters $\\theta$. It results that a plausible objective to minimize is the loss \n",
        "$$\\mathcal{L}(\\theta)=E_{s' \\sim \\pi^*(.|s,a)}\\Vert r+\\gamma\\max\\max_{a'}Q(s',a',\\theta)-Q(s,a,\\theta)\\Vert^{2}$$\n",
        "\n"
      ]
    },
    {
      "cell_type": "markdown",
      "metadata": {
        "id": "DitALMfYdZRi",
        "colab_type": "text"
      },
      "source": [
        "***\n",
        "The DQN-learning algorithm relies on these derivations to train the parameters $\\theta$ of a Deep Neural Network:\n",
        "\n",
        "1. At the state $s_t$, select the action $a_t$ with best reward using $Q_t$ and store the results;\n",
        "\n",
        "2. Obtain the new state $s_{t+1}$ from the environment $p$;\n",
        "\n",
        "3. Store $(s_t,a_t,s_{t+1})$;\n",
        "\n",
        "4. Obtain $Q_{t+1}$ by minimizing  $\\mathcal{L}$ from a recovered batch from the previously stored results.\n",
        "\n",
        "***\n",
        "__Question 6__ Implement the class ```Memory``` that stores moves (in a replay buffer) via ```remember``` and provides a ```random_access``` to these. Specify a maximum memory size to avoid side effects. You can for example use a ```list()``` and set by default ```max_memory=100```."
      ]
    },
    {
      "cell_type": "code",
      "metadata": {
        "id": "HPBDCFesdZRj",
        "colab_type": "code",
        "colab": {}
      },
      "source": [
        "class Memory(object):\n",
        "    def __init__(self, max_memory=100):\n",
        "        self.max_memory = max_memory\n",
        "        self.memory = list()\n",
        "\n",
        "    def remember(self, m):\n",
        "        if len(self.memory)<self.max_memory:\n",
        "            self.memory.append(m)\n",
        "\n",
        "    def random_access(self):\n",
        "        return self.memory[np.random.randint(0, len(self.memory))]"
      ],
      "execution_count": 0,
      "outputs": []
    },
    {
      "cell_type": "markdown",
      "metadata": {
        "id": "_YYk8vePdZRl",
        "colab_type": "text"
      },
      "source": [
        "***\n",
        "The pipeline we will use for training is given below:"
      ]
    },
    {
      "cell_type": "code",
      "metadata": {
        "id": "kNHsY0lldZRl",
        "colab_type": "code",
        "colab": {}
      },
      "source": [
        "def train(agent,env,epoch,prefix=''):\n",
        "    # Number of won games\n",
        "    score = 0\n",
        "    loss = 0\n",
        "\n",
        "    for e in range(epoch):\n",
        "        # At each epoch, we restart to a fresh game and get the initial state\n",
        "        state = env.reset()\n",
        "        # This assumes that the games will terminate\n",
        "        game_over = False\n",
        "\n",
        "        win = 0\n",
        "        lose = 0\n",
        "\n",
        "        while not game_over:\n",
        "            # The agent performs an action\n",
        "            action = agent.act(state)\n",
        "\n",
        "            # Apply an action to the environment, get the next state, the reward\n",
        "            # and if the games end\n",
        "            prev_state = state\n",
        "            state, reward, game_over = env.act(action)\n",
        "\n",
        "            # Update the counters\n",
        "            if reward > 0:\n",
        "                win = win + reward\n",
        "            if reward < 0:\n",
        "                lose = lose -reward\n",
        "\n",
        "            # Apply the reinforcement strategy\n",
        "            loss = agent.reinforce(prev_state, state,  action, reward, game_over)\n",
        "\n",
        "        # Save as a mp4\n",
        "        if e % 10 == 0:\n",
        "            env.draw(prefix+str(e))\n",
        "\n",
        "        # Update stats\n",
        "        score += win-lose\n",
        "\n",
        "        print(\"Epoch {:03d}/{:03d} | Loss {:.4f} | Win/lose count {}/{} ({})\"\n",
        "              .format(e, epoch, loss, win, lose, win-lose))\n",
        "        agent.save(name_weights=prefix+'model.h5',name_model=prefix+'model.json')"
      ],
      "execution_count": 0,
      "outputs": []
    },
    {
      "cell_type": "markdown",
      "metadata": {
        "id": "pBZvdH--dZRn",
        "colab_type": "text"
      },
      "source": [
        "***\n",
        "__Question 7__ Implement the DQN training algorithm using a cascade of fully connected layers. You can use different learning rate, batch size or memory size parameters. In particular, the loss might oscillate while the player will start to win the games. You have to find a good criterium."
      ]
    },
    {
      "cell_type": "code",
      "metadata": {
        "id": "huNF25D_dZRn",
        "colab_type": "code",
        "colab": {}
      },
      "source": [
        "class DQN(Agent):\n",
        "    def __init__(self, grid_size,  epsilon = 0.1, memory_size=100, batch_size = 16,n_state=2):\n",
        "        super(DQN, self).__init__(epsilon = epsilon)\n",
        "\n",
        "        # Discount for Q learning\n",
        "        self.discount = 0.99\n",
        "        \n",
        "        self.grid_size = grid_size\n",
        "        \n",
        "        # number of state\n",
        "        self.n_state = n_state\n",
        "\n",
        "        # Memory\n",
        "        self.memory = Memory(memory_size)\n",
        "        \n",
        "        # Batch size when learning\n",
        "        self.batch_size = batch_size\n",
        "\n",
        "    def learned_act(self, s):\n",
        "        return np.argmax(self.model.predict(s.reshape((1,5,5,self.n_state))))\n",
        "\n",
        "    def reinforce(self, s_, n_s_, a_, r_, game_over_):\n",
        "        # Two steps: first memorize the states, second learn from the pool\n",
        "\n",
        "        self.memory.remember([s_, n_s_, a_, r_, game_over_])\n",
        "        \n",
        "        input_states = np.zeros((self.batch_size, 5,5,self.n_state))\n",
        "        target_q = np.zeros((self.batch_size, 4))\n",
        "        \n",
        "        for i in range(self.batch_size):\n",
        "            ######## FILL IN\n",
        "            s_, n_s_, a_, r_, game_over_  = self.memory.random_access()\n",
        "            \n",
        "            target_q[i] =self.model.predict(s_.reshape([1,s_.shape[0],s_.shape[1],s_.shape[2]]))[0]\n",
        "            \n",
        "            input_states[i] = s_\n",
        "            \n",
        "            if game_over_:\n",
        "                ######## FILL IN\n",
        "                target_q[i,a_] = r_\n",
        "            else:\n",
        "                ######## FILL IN\n",
        "                q_est = self.model.predict(np.expand_dims(n_s_, 0))\n",
        "                target_q[i, a_] = r_ + self.discount * np.max(q_est)\n",
        "                \n",
        "                \n",
        "        ######## FILL IN\n",
        "        # HINT: Clip the target to avoid exploiding gradients.. -- clipping is a bit tighter\n",
        "        target_q = np.clip(target_q, -3, 3)\n",
        "        l = self.model.train_on_batch(input_states, target_q)\n",
        "\n",
        "        return l\n",
        "\n",
        "    def save(self,name_weights='model.h5',name_model='model.json'):\n",
        "        self.model.save_weights(name_weights, overwrite=True)\n",
        "        with open(name_model, \"w\") as outfile:\n",
        "            json.dump(self.model.to_json(), outfile)\n",
        "            \n",
        "    def load(self,name_weights='model.h5',name_model='model.json'):\n",
        "        with open(name_model, \"r\") as jfile:\n",
        "            model = model_from_json(json.load(jfile))\n",
        "        model.load_weights(name_weights)\n",
        "        model.compile(\"sgd\", \"mse\")\n",
        "        self.model = model\n",
        "\n",
        "            \n",
        "class DQN_FC(DQN):\n",
        "    def __init__(self, *args, lr=1,**kwargs):\n",
        "        super(DQN_FC, self).__init__( *args,**kwargs)\n",
        "        \n",
        "        # NN Model\n",
        "        \n",
        "        ####### FILL IN\n",
        "        model = Sequential()\n",
        "\n",
        "        model.add(Flatten(input_shape=(5,5,self.n_state,)))\n",
        "        model.add(Dense(16,activation ='relu')) \n",
        "        #model.add(Dense(64,activation ='relu')) \n",
        "        #model.add(Dense(128,activation ='relu')) \n",
        "        #model.add(Dense(256,activation ='relu')) \n",
        "        model.add(Dense(4))\n",
        "        adadelta = keras.optimizers.Adadelta()\n",
        "        model.compile(sgd(lr=lr, decay=1e-4, momentum=0.0), \"mse\")\n",
        "        self.model = model\n",
        "        "
      ],
      "execution_count": 0,
      "outputs": []
    },
    {
      "cell_type": "code",
      "metadata": {
        "id": "l6iO6T5ndZRp",
        "colab_type": "code",
        "outputId": "6c4c1296-36c8-49a2-b1e5-6adb02c13400",
        "colab": {
          "base_uri": "https://localhost:8080/",
          "height": 1000
        }
      },
      "source": [
        "env = Environment(grid_size=size, max_time=T, temperature=0.3)\n",
        "agent = DQN_FC(size, lr=.1, epsilon = 0.08, memory_size=2000, batch_size = 16)\n",
        "train(agent, env, epochs_train, prefix='fc_train')\n",
        "HTML(display_videos('fc_train10.mp4'))"
      ],
      "execution_count": 15,
      "outputs": [
        {
          "output_type": "stream",
          "text": [
            "WARNING:tensorflow:From /usr/local/lib/python3.6/dist-packages/keras/backend/tensorflow_backend.py:66: The name tf.get_default_graph is deprecated. Please use tf.compat.v1.get_default_graph instead.\n",
            "\n",
            "WARNING:tensorflow:From /usr/local/lib/python3.6/dist-packages/keras/backend/tensorflow_backend.py:541: The name tf.placeholder is deprecated. Please use tf.compat.v1.placeholder instead.\n",
            "\n",
            "WARNING:tensorflow:From /usr/local/lib/python3.6/dist-packages/keras/backend/tensorflow_backend.py:4432: The name tf.random_uniform is deprecated. Please use tf.random.uniform instead.\n",
            "\n",
            "WARNING:tensorflow:From /usr/local/lib/python3.6/dist-packages/keras/optimizers.py:793: The name tf.train.Optimizer is deprecated. Please use tf.compat.v1.train.Optimizer instead.\n",
            "\n",
            "WARNING:tensorflow:From /usr/local/lib/python3.6/dist-packages/keras/backend/tensorflow_backend.py:3005: The name tf.Session is deprecated. Please use tf.compat.v1.Session instead.\n",
            "\n",
            "WARNING:tensorflow:From /usr/local/lib/python3.6/dist-packages/keras/backend/tensorflow_backend.py:190: The name tf.get_default_session is deprecated. Please use tf.compat.v1.get_default_session instead.\n",
            "\n",
            "WARNING:tensorflow:From /usr/local/lib/python3.6/dist-packages/keras/backend/tensorflow_backend.py:197: The name tf.ConfigProto is deprecated. Please use tf.compat.v1.ConfigProto instead.\n",
            "\n",
            "WARNING:tensorflow:From /usr/local/lib/python3.6/dist-packages/keras/backend/tensorflow_backend.py:207: The name tf.global_variables is deprecated. Please use tf.compat.v1.global_variables instead.\n",
            "\n",
            "WARNING:tensorflow:From /usr/local/lib/python3.6/dist-packages/keras/backend/tensorflow_backend.py:216: The name tf.is_variable_initialized is deprecated. Please use tf.compat.v1.is_variable_initialized instead.\n",
            "\n",
            "WARNING:tensorflow:From /usr/local/lib/python3.6/dist-packages/keras/backend/tensorflow_backend.py:223: The name tf.variables_initializer is deprecated. Please use tf.compat.v1.variables_initializer instead.\n",
            "\n",
            "WARNING:tensorflow:From /usr/local/lib/python3.6/dist-packages/keras/backend/tensorflow_backend.py:1033: The name tf.assign_add is deprecated. Please use tf.compat.v1.assign_add instead.\n",
            "\n",
            "WARNING:tensorflow:From /usr/local/lib/python3.6/dist-packages/keras/backend/tensorflow_backend.py:1020: The name tf.assign is deprecated. Please use tf.compat.v1.assign instead.\n",
            "\n",
            "Epoch 000/070 | Loss 0.0613 | Win/lose count 1.5/9.0 (-7.5)\n",
            "Epoch 001/070 | Loss 0.0010 | Win/lose count 1.5/4.0 (-2.5)\n",
            "Epoch 002/070 | Loss 0.0028 | Win/lose count 2.5/8.0 (-5.5)\n",
            "Epoch 003/070 | Loss 0.0117 | Win/lose count 5.0/5.0 (0.0)\n",
            "Epoch 004/070 | Loss 0.0074 | Win/lose count 1.5/3.0 (-1.5)\n",
            "Epoch 005/070 | Loss 0.0052 | Win/lose count 3.5/2.0 (1.5)\n",
            "Epoch 006/070 | Loss 0.0129 | Win/lose count 7.0/6.0 (1.0)\n",
            "Epoch 007/070 | Loss 0.0046 | Win/lose count 4.5/3.0 (1.5)\n",
            "Epoch 008/070 | Loss 0.0033 | Win/lose count 4.0/2.0 (2.0)\n",
            "Epoch 009/070 | Loss 0.0114 | Win/lose count 7.0/2.0 (5.0)\n",
            "Epoch 010/070 | Loss 0.0038 | Win/lose count 2.5/2.0 (0.5)\n",
            "Epoch 011/070 | Loss 0.0222 | Win/lose count 2.5/4.0 (-1.5)\n",
            "Epoch 012/070 | Loss 0.0047 | Win/lose count 1.5/3.0 (-1.5)\n",
            "Epoch 013/070 | Loss 0.0139 | Win/lose count 3.5/1.0 (2.5)\n",
            "Epoch 014/070 | Loss 0.0011 | Win/lose count 1.0/3.0 (-2.0)\n",
            "Epoch 015/070 | Loss 0.0212 | Win/lose count 1.5/5.0 (-3.5)\n",
            "Epoch 016/070 | Loss 0.0148 | Win/lose count 3.5/4.0 (-0.5)\n",
            "Epoch 017/070 | Loss 0.0056 | Win/lose count 2.5/1.0 (1.5)\n",
            "Epoch 018/070 | Loss 0.0151 | Win/lose count 4.5/5.0 (-0.5)\n",
            "Epoch 019/070 | Loss 0.0113 | Win/lose count 2.5/2.0 (0.5)\n",
            "Epoch 020/070 | Loss 0.0101 | Win/lose count 3.5/3.0 (0.5)\n",
            "Epoch 021/070 | Loss 0.0012 | Win/lose count 3.0/3.0 (0.0)\n",
            "Epoch 022/070 | Loss 0.0028 | Win/lose count 0.5/5.0 (-4.5)\n",
            "Epoch 023/070 | Loss 0.0065 | Win/lose count 7.0/1.0 (6.0)\n",
            "Epoch 024/070 | Loss 0.0015 | Win/lose count 3.5/6.0 (-2.5)\n",
            "Epoch 025/070 | Loss 0.0010 | Win/lose count 0.5/1.0 (-0.5)\n",
            "Epoch 026/070 | Loss 0.0086 | Win/lose count 6.5/4.0 (2.5)\n",
            "Epoch 027/070 | Loss 0.0007 | Win/lose count 2.0/1.0 (1.0)\n",
            "Epoch 028/070 | Loss 0.0009 | Win/lose count 12.5/5.0 (7.5)\n",
            "Epoch 029/070 | Loss 0.0019 | Win/lose count 5.0/1.0 (4.0)\n",
            "Epoch 030/070 | Loss 0.0051 | Win/lose count 4.5/1.0 (3.5)\n",
            "Epoch 031/070 | Loss 0.0028 | Win/lose count 4.5/3.0 (1.5)\n",
            "Epoch 032/070 | Loss 0.0038 | Win/lose count 3.5/6.0 (-2.5)\n",
            "Epoch 033/070 | Loss 0.0014 | Win/lose count 4.5/3.0 (1.5)\n",
            "Epoch 034/070 | Loss 0.0021 | Win/lose count 2.5/3.0 (-0.5)\n",
            "Epoch 035/070 | Loss 0.0021 | Win/lose count 7.5/4.0 (3.5)\n",
            "Epoch 036/070 | Loss 0.0011 | Win/lose count 3.0/3.0 (0.0)\n",
            "Epoch 037/070 | Loss 0.0028 | Win/lose count 2.5/3.0 (-0.5)\n",
            "Epoch 038/070 | Loss 0.0015 | Win/lose count 3.0/6.0 (-3.0)\n",
            "Epoch 039/070 | Loss 0.0015 | Win/lose count 2.0/3.0 (-1.0)\n",
            "Epoch 040/070 | Loss 0.0017 | Win/lose count 7.5/3.0 (4.5)\n",
            "Epoch 041/070 | Loss 0.0023 | Win/lose count 3.0/0 (3.0)\n",
            "Epoch 042/070 | Loss 0.0057 | Win/lose count 8.0/3.0 (5.0)\n",
            "Epoch 043/070 | Loss 0.0030 | Win/lose count 3.5/6.0 (-2.5)\n",
            "Epoch 044/070 | Loss 0.0023 | Win/lose count 7.5/5.0 (2.5)\n",
            "Epoch 045/070 | Loss 0.0026 | Win/lose count 5.5/1.0 (4.5)\n",
            "Epoch 046/070 | Loss 0.0016 | Win/lose count 7.0/4.0 (3.0)\n",
            "Epoch 047/070 | Loss 0.0010 | Win/lose count 8.0/3.0 (5.0)\n",
            "Epoch 048/070 | Loss 0.0022 | Win/lose count 4.0/1.0 (3.0)\n",
            "Epoch 049/070 | Loss 0.0040 | Win/lose count 6.5/1.0 (5.5)\n",
            "Epoch 050/070 | Loss 0.0038 | Win/lose count 4.0/1.0 (3.0)\n",
            "Epoch 051/070 | Loss 0.0019 | Win/lose count 4.0/6.0 (-2.0)\n",
            "Epoch 052/070 | Loss 0.0013 | Win/lose count 5.0/2.0 (3.0)\n",
            "Epoch 053/070 | Loss 0.0011 | Win/lose count 16.5/4.0 (12.5)\n",
            "Epoch 054/070 | Loss 0.0013 | Win/lose count 6.5/3.0 (3.5)\n",
            "Epoch 055/070 | Loss 0.0046 | Win/lose count 10.0/7.0 (3.0)\n",
            "Epoch 056/070 | Loss 0.1148 | Win/lose count 3.0/3.0 (0.0)\n",
            "Epoch 057/070 | Loss 0.0094 | Win/lose count 4.5/0 (4.5)\n",
            "Epoch 058/070 | Loss 0.0024 | Win/lose count 4.0/2.0 (2.0)\n",
            "Epoch 059/070 | Loss 0.0016 | Win/lose count 5.0/1.0 (4.0)\n",
            "Epoch 060/070 | Loss 0.0009 | Win/lose count 4.5/4.0 (0.5)\n",
            "Epoch 061/070 | Loss 0.0010 | Win/lose count 6.5/0 (6.5)\n",
            "Epoch 062/070 | Loss 0.0011 | Win/lose count 5.5/2.0 (3.5)\n",
            "Epoch 063/070 | Loss 0.0030 | Win/lose count 2.5/3.0 (-0.5)\n",
            "Epoch 064/070 | Loss 0.0003 | Win/lose count 6.5/1.0 (5.5)\n",
            "Epoch 065/070 | Loss 0.0033 | Win/lose count 11.0/1.0 (10.0)\n",
            "Epoch 066/070 | Loss 0.0018 | Win/lose count 6.5/0 (6.5)\n",
            "Epoch 067/070 | Loss 0.0011 | Win/lose count 7.5/5.0 (2.5)\n",
            "Epoch 068/070 | Loss 0.0014 | Win/lose count 3.5/2.0 (1.5)\n",
            "Epoch 069/070 | Loss 0.0012 | Win/lose count 3.0/3.0 (0.0)\n"
          ],
          "name": "stdout"
        },
        {
          "output_type": "execute_result",
          "data": {
            "text/html": [
              "<video alt=\"test\" controls>\n",
              "                <source src=\"data:video/mp4;base64,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\" type=\"video/mp4\" />\n",
              "             </video>"
            ],
            "text/plain": [
              "<IPython.core.display.HTML object>"
            ]
          },
          "metadata": {
            "tags": []
          },
          "execution_count": 15
        }
      ]
    },
    {
      "cell_type": "markdown",
      "metadata": {
        "id": "eOrC4XdzdZRq",
        "colab_type": "text"
      },
      "source": [
        "***\n",
        "***\n",
        "__Question 8__ Implement the DQN training algorithm using a CNN (for example, 2 convolutional layers and one final fully connected layer)."
      ]
    },
    {
      "cell_type": "code",
      "metadata": {
        "id": "jam5dvWudZRq",
        "colab_type": "code",
        "colab": {}
      },
      "source": [
        "class DQN_CNN(DQN):\n",
        "    def __init__(self, *args,lr=0.1,**kwargs):\n",
        "        super(DQN_CNN, self).__init__(*args,**kwargs)\n",
        "        \n",
        "        model = Sequential()\n",
        "        model.add(Conv2D(32,(2,2),input_shape=(5,5,self.n_state,),activation='relu'))\n",
        "        model.add(Conv2D(64,(2,2),activation='relu'))\n",
        "        model.add(Flatten())\n",
        "        model.add(Dense(4))\n",
        "        model.compile(sgd(lr=lr, decay=1e-4, momentum=0.0), \"mse\")\n",
        "        self.model = model"
      ],
      "execution_count": 0,
      "outputs": []
    },
    {
      "cell_type": "code",
      "metadata": {
        "id": "uYPqE467dZRs",
        "colab_type": "code",
        "outputId": "1616dda5-e7e1-4ae8-ed61-f74c48a564a8",
        "colab": {
          "base_uri": "https://localhost:8080/",
          "height": 1000
        }
      },
      "source": [
        "env = Environment(grid_size=size, max_time=T, temperature=0.3)\n",
        "agent = DQN_CNN(size, lr=.1, epsilon = 0.1, memory_size=2000, batch_size = 16)\n",
        "train(agent,env,epochs_train,prefix='cnn_train')\n",
        "HTML(display_videos('cnn_train10.mp4'))"
      ],
      "execution_count": 17,
      "outputs": [
        {
          "output_type": "stream",
          "text": [
            "Epoch 000/070 | Loss 0.0063 | Win/lose count 2.5/6.0 (-3.5)\n",
            "Epoch 001/070 | Loss 0.0007 | Win/lose count 6.0/4.0 (2.0)\n",
            "Epoch 002/070 | Loss 0.0034 | Win/lose count 6.5/8.0 (-1.5)\n",
            "Epoch 003/070 | Loss 0.0029 | Win/lose count 3.5/2.0 (1.5)\n",
            "Epoch 004/070 | Loss 0.0054 | Win/lose count 3.0/4.0 (-1.0)\n",
            "Epoch 005/070 | Loss 0.0023 | Win/lose count 4.5/3.0 (1.5)\n",
            "Epoch 006/070 | Loss 0.0013 | Win/lose count 7.0/3.0 (4.0)\n",
            "Epoch 007/070 | Loss 0.0018 | Win/lose count 11.0/2.0 (9.0)\n",
            "Epoch 008/070 | Loss 0.1173 | Win/lose count 6.0/2.0 (4.0)\n",
            "Epoch 009/070 | Loss 0.0060 | Win/lose count 13.5/6.0 (7.5)\n",
            "Epoch 010/070 | Loss 0.0022 | Win/lose count 7.5/0 (7.5)\n",
            "Epoch 011/070 | Loss 0.0004 | Win/lose count 10.0/3.0 (7.0)\n",
            "Epoch 012/070 | Loss 0.0046 | Win/lose count 9.0/4.0 (5.0)\n",
            "Epoch 013/070 | Loss 0.0024 | Win/lose count 11.5/3.0 (8.5)\n",
            "Epoch 014/070 | Loss 0.0016 | Win/lose count 11.5/0 (11.5)\n",
            "Epoch 015/070 | Loss 0.0012 | Win/lose count 14.5/3.0 (11.5)\n",
            "Epoch 016/070 | Loss 0.0006 | Win/lose count 3.5/1.0 (2.5)\n",
            "Epoch 017/070 | Loss 0.0060 | Win/lose count 10.0/2.0 (8.0)\n",
            "Epoch 018/070 | Loss 0.0041 | Win/lose count 4.0/2.0 (2.0)\n",
            "Epoch 019/070 | Loss 0.0079 | Win/lose count 8.5/1.0 (7.5)\n",
            "Epoch 020/070 | Loss 0.0069 | Win/lose count 8.5/2.0 (6.5)\n",
            "Epoch 021/070 | Loss 0.0006 | Win/lose count 10.0/2.0 (8.0)\n",
            "Epoch 022/070 | Loss 0.0070 | Win/lose count 2.0/1.0 (1.0)\n",
            "Epoch 023/070 | Loss 0.0014 | Win/lose count 9.5/3.0 (6.5)\n",
            "Epoch 024/070 | Loss 0.0059 | Win/lose count 5.5/3.0 (2.5)\n",
            "Epoch 025/070 | Loss 0.0013 | Win/lose count 17.5/3.0 (14.5)\n",
            "Epoch 026/070 | Loss 0.0023 | Win/lose count 8.0/1.0 (7.0)\n",
            "Epoch 027/070 | Loss 0.0979 | Win/lose count 7.5/1.0 (6.5)\n",
            "Epoch 028/070 | Loss 0.0010 | Win/lose count 8.0/3.0 (5.0)\n",
            "Epoch 029/070 | Loss 0.0018 | Win/lose count 9.5/0 (9.5)\n",
            "Epoch 030/070 | Loss 0.0007 | Win/lose count 8.5/3.0 (5.5)\n",
            "Epoch 031/070 | Loss 0.0007 | Win/lose count 10.5/2.0 (8.5)\n",
            "Epoch 032/070 | Loss 0.0052 | Win/lose count 10.0/3.0 (7.0)\n",
            "Epoch 033/070 | Loss 0.0020 | Win/lose count 9.5/7.0 (2.5)\n",
            "Epoch 034/070 | Loss 0.0023 | Win/lose count 12.0/6.0 (6.0)\n",
            "Epoch 035/070 | Loss 0.0006 | Win/lose count 7.5/3.0 (4.5)\n",
            "Epoch 036/070 | Loss 0.0013 | Win/lose count 11.5/2.0 (9.5)\n",
            "Epoch 037/070 | Loss 0.0010 | Win/lose count 4.0/2.0 (2.0)\n",
            "Epoch 038/070 | Loss 0.0005 | Win/lose count 3.5/1.0 (2.5)\n",
            "Epoch 039/070 | Loss 0.0002 | Win/lose count 7.0/3.0 (4.0)\n",
            "Epoch 040/070 | Loss 0.0078 | Win/lose count 4.0/1.0 (3.0)\n",
            "Epoch 041/070 | Loss 0.0017 | Win/lose count 7.0/0 (7.0)\n",
            "Epoch 042/070 | Loss 0.0005 | Win/lose count 4.5/0 (4.5)\n",
            "Epoch 043/070 | Loss 0.0006 | Win/lose count 3.0/6.0 (-3.0)\n",
            "Epoch 044/070 | Loss 0.0019 | Win/lose count 10.0/1.0 (9.0)\n",
            "Epoch 045/070 | Loss 0.0027 | Win/lose count 12.5/7.0 (5.5)\n",
            "Epoch 046/070 | Loss 0.0008 | Win/lose count 9.0/3.0 (6.0)\n",
            "Epoch 047/070 | Loss 0.0010 | Win/lose count 2.5/3.0 (-0.5)\n",
            "Epoch 048/070 | Loss 0.0008 | Win/lose count 13.0/6.0 (7.0)\n",
            "Epoch 049/070 | Loss 0.0009 | Win/lose count 9.5/1.0 (8.5)\n",
            "Epoch 050/070 | Loss 0.0004 | Win/lose count 10.0/4.0 (6.0)\n",
            "Epoch 051/070 | Loss 0.0031 | Win/lose count 3.5/2.0 (1.5)\n",
            "Epoch 052/070 | Loss 0.0916 | Win/lose count 4.0/3.0 (1.0)\n",
            "Epoch 053/070 | Loss 0.0028 | Win/lose count 14.5/2.0 (12.5)\n",
            "Epoch 054/070 | Loss 0.0010 | Win/lose count 10.5/4.0 (6.5)\n",
            "Epoch 055/070 | Loss 0.0041 | Win/lose count 4.5/2.0 (2.5)\n",
            "Epoch 056/070 | Loss 0.0013 | Win/lose count 11.0/7.0 (4.0)\n",
            "Epoch 057/070 | Loss 0.0029 | Win/lose count 9.5/4.0 (5.5)\n",
            "Epoch 058/070 | Loss 0.0006 | Win/lose count 6.0/3.0 (3.0)\n",
            "Epoch 059/070 | Loss 0.0018 | Win/lose count 10.5/2.0 (8.5)\n",
            "Epoch 060/070 | Loss 0.0047 | Win/lose count 16.5/3.0 (13.5)\n",
            "Epoch 061/070 | Loss 0.0017 | Win/lose count 14.5/6.0 (8.5)\n",
            "Epoch 062/070 | Loss 0.0051 | Win/lose count 11.5/1.0 (10.5)\n",
            "Epoch 063/070 | Loss 0.0007 | Win/lose count 8.0/4.0 (4.0)\n",
            "Epoch 064/070 | Loss 0.1100 | Win/lose count 8.5/3.0 (5.5)\n",
            "Epoch 065/070 | Loss 0.0037 | Win/lose count 5.0/1.0 (4.0)\n",
            "Epoch 066/070 | Loss 0.0009 | Win/lose count 3.0/0 (3.0)\n",
            "Epoch 067/070 | Loss 0.0015 | Win/lose count 5.0/0 (5.0)\n",
            "Epoch 068/070 | Loss 0.0009 | Win/lose count 9.5/3.0 (6.5)\n",
            "Epoch 069/070 | Loss 0.0007 | Win/lose count 10.5/2.0 (8.5)\n"
          ],
          "name": "stdout"
        },
        {
          "output_type": "execute_result",
          "data": {
            "text/html": [
              "<video alt=\"test\" controls>\n",
              "                <source src=\"data:video/mp4;base64,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\" type=\"video/mp4\" />\n",
              "             </video>"
            ],
            "text/plain": [
              "<IPython.core.display.HTML object>"
            ]
          },
          "metadata": {
            "tags": []
          },
          "execution_count": 17
        }
      ]
    },
    {
      "cell_type": "markdown",
      "metadata": {
        "id": "88wVVEEodZRt",
        "colab_type": "text"
      },
      "source": [
        "***\n",
        "***\n",
        "__Question 9__ Test both algorithms and compare their performances. Which issue(s) do you observe? Observe also different behaviors by changing the temperature."
      ]
    },
    {
      "cell_type": "code",
      "metadata": {
        "id": "4XR90PFddZRt",
        "colab_type": "code",
        "outputId": "0c8aebda-f3b7-4a85-b109-be74a14ea6cc",
        "colab": {
          "base_uri": "https://localhost:8080/",
          "height": 561
        }
      },
      "source": [
        "env = Environment(grid_size=size, max_time=T,temperature=0.3)\n",
        "agent_cnn = DQN_CNN(size, lr=.1, epsilon = 0.1, memory_size=2000, batch_size = 16)\n",
        "agent_cnn.load(name_weights='cnn_trainmodel.h5',name_model='cnn_trainmodel.json')\n",
        "print('Test of the CNN')\n",
        "test(agent_cnn,env,epochs_test,prefix='cnn_test')"
      ],
      "execution_count": 18,
      "outputs": [
        {
          "output_type": "stream",
          "text": [
            "Test of the CNN\n",
            "Win/lose count 11.0/3.0. Average score (8.0)\n",
            "Win/lose count 7.5/0. Average score (7.75)\n",
            "Win/lose count 10.5/2.0. Average score (8.0)\n",
            "Win/lose count 4.0/2.0. Average score (6.5)\n",
            "Win/lose count 8.5/4.0. Average score (6.1)\n",
            "Win/lose count 3.5/3.0. Average score (5.166666666666667)\n",
            "Win/lose count 10.0/2.0. Average score (5.571428571428571)\n",
            "Win/lose count 6.0/0. Average score (5.625)\n",
            "Win/lose count 4.5/2.0. Average score (5.277777777777778)\n",
            "Win/lose count 10.5/1.0. Average score (5.7)\n",
            "Win/lose count 11.0/2.0. Average score (6.0)\n",
            "Win/lose count 9.5/3.0. Average score (6.041666666666667)\n",
            "Win/lose count 10.5/3.0. Average score (6.153846153846154)\n",
            "Win/lose count 13.0/4.0. Average score (6.357142857142857)\n",
            "Win/lose count 19.5/3.0. Average score (7.033333333333333)\n",
            "Win/lose count 4.5/3.0. Average score (6.6875)\n",
            "Win/lose count 13.5/2.0. Average score (6.970588235294118)\n",
            "Win/lose count 2.5/0. Average score (6.722222222222222)\n",
            "Win/lose count 10.5/3.0. Average score (6.7631578947368425)\n",
            "Win/lose count 13.5/4.0. Average score (6.9)\n",
            "Win/lose count 8.0/3.0. Average score (6.809523809523809)\n",
            "Win/lose count 13.0/0. Average score (7.090909090909091)\n",
            "Win/lose count 15.0/3.0. Average score (7.304347826086956)\n",
            "Win/lose count 9.0/3.0. Average score (7.25)\n",
            "Win/lose count 8.5/2.0. Average score (7.22)\n",
            "Win/lose count 8.0/2.0. Average score (7.173076923076923)\n",
            "Win/lose count 17.0/4.0. Average score (7.388888888888889)\n",
            "Win/lose count 6.0/2.0. Average score (7.267857142857143)\n",
            "Win/lose count 7.0/3.0. Average score (7.155172413793103)\n",
            "Win/lose count 4.0/3.0. Average score (6.95)\n",
            "Final score: 6.95\n"
          ],
          "name": "stdout"
        }
      ]
    },
    {
      "cell_type": "code",
      "metadata": {
        "id": "FD14bF_tDBsM",
        "colab_type": "code",
        "outputId": "a8a06cfc-0d93-44b2-96a4-d0dd029e0852",
        "colab": {
          "base_uri": "https://localhost:8080/",
          "height": 561
        }
      },
      "source": [
        "agent_fc = DQN_FC(size, lr=.1, epsilon = 0.1, memory_size=2000, batch_size = 16)\n",
        "agent_fc.load(name_weights='fc_trainmodel.h5',name_model='fc_trainmodel.json')\n",
        "print('Test of the FC')\n",
        "test(agent_fc,env,epochs_test,prefix='fc_test')"
      ],
      "execution_count": 19,
      "outputs": [
        {
          "output_type": "stream",
          "text": [
            "Test of the FC\n",
            "Win/lose count 8.0/4.0. Average score (4.0)\n",
            "Win/lose count 2.5/3.0. Average score (1.75)\n",
            "Win/lose count 3.5/3.0. Average score (1.3333333333333333)\n",
            "Win/lose count 4.5/4.0. Average score (1.125)\n",
            "Win/lose count 10.0/5.0. Average score (1.9)\n",
            "Win/lose count 7.0/3.0. Average score (2.25)\n",
            "Win/lose count 2.0/3.0. Average score (1.7857142857142858)\n",
            "Win/lose count 5.0/7.0. Average score (1.3125)\n",
            "Win/lose count 1.0/0. Average score (1.2777777777777777)\n",
            "Win/lose count 2.0/2.0. Average score (1.15)\n",
            "Win/lose count 2.5/4.0. Average score (0.9090909090909091)\n",
            "Win/lose count 3.5/2.0. Average score (0.9583333333333334)\n",
            "Win/lose count 6.0/2.0. Average score (1.1923076923076923)\n",
            "Win/lose count 2.5/1.0. Average score (1.2142857142857142)\n",
            "Win/lose count 1.5/4.0. Average score (0.9666666666666667)\n",
            "Win/lose count 6.5/3.0. Average score (1.125)\n",
            "Win/lose count 2.0/7.0. Average score (0.7647058823529411)\n",
            "Win/lose count 8.0/3.0. Average score (1.0)\n",
            "Win/lose count 3.0/0. Average score (1.105263157894737)\n",
            "Win/lose count 4.0/1.0. Average score (1.2)\n",
            "Win/lose count 7.0/2.0. Average score (1.380952380952381)\n",
            "Win/lose count 9.5/1.0. Average score (1.7045454545454546)\n",
            "Win/lose count 1.5/0. Average score (1.6956521739130435)\n",
            "Win/lose count 13.5/7.0. Average score (1.8958333333333333)\n",
            "Win/lose count 7.0/3.0. Average score (1.98)\n",
            "Win/lose count 6.5/0. Average score (2.1538461538461537)\n",
            "Win/lose count 4.0/6.0. Average score (2.0)\n",
            "Win/lose count 9.0/0. Average score (2.25)\n",
            "Win/lose count 4.5/4.0. Average score (2.189655172413793)\n",
            "Win/lose count 5.0/0. Average score (2.283333333333333)\n",
            "Final score: 2.283333333333333\n"
          ],
          "name": "stdout"
        }
      ]
    },
    {
      "cell_type": "code",
      "metadata": {
        "id": "frnpOh2bdZRu",
        "colab_type": "code",
        "outputId": "621db524-d37c-4667-de52-bdcb0626f71c",
        "colab": {
          "base_uri": "https://localhost:8080/",
          "height": 293
        }
      },
      "source": [
        "HTML(display_videos('cnn_test10.mp4'))"
      ],
      "execution_count": 20,
      "outputs": [
        {
          "output_type": "execute_result",
          "data": {
            "text/html": [
              "<video alt=\"test\" controls>\n",
              "                <source src=\"data:video/mp4;base64,AAAAIGZ0eXBpc29tAAACAGlzb21pc28yYXZjMW1wNDEAAAAIZnJlZQAAF8NtZGF0AAACrQYF//+p3EXpvebZSLeWLNgg2SPu73gyNjQgLSBjb3JlIDE1MiByMjg1NCBlOWE1OTAzIC0gSC4yNjQvTVBFRy00IEFWQyBjb2RlYyAtIENvcHlsZWZ0IDIwMDMtMjAxNyAtIGh0dHA6Ly93d3cudmlkZW9sYW4ub3JnL3gyNjQuaHRtbCAtIG9wdGlvbnM6IGNhYmFjPTEgcmVmPTMgZGVibG9jaz0xOjA6MCBhbmFseXNlPTB4MToweDExMSBtZT1oZXggc3VibWU9NyBwc3k9MSBwc3lfcmQ9MS4wMDowLjAwIG1peGVkX3JlZj0xIG1lX3JhbmdlPTE2IGNocm9tYV9tZT0xIHRyZWxsaXM9MSA4eDhkY3Q9MCBjcW09MCBkZWFkem9uZT0yMSwxMSBmYXN0X3Bza2lwPTEgY2hyb21hX3FwX29mZnNldD00IHRocmVhZHM9MyBsb29rYWhlYWRfdGhyZWFkcz0xIHNsaWNlZF90aHJlYWRzPTAgbnI9MCBkZWNpbWF0ZT0xIGludGVybGFjZWQ9MCBibHVyYXlfY29tcGF0PTAgY29uc3RyYWluZWRfaW50cmE9MCBiZnJhbWVzPTMgYl9weXJhbWlkPTIgYl9hZGFwdD0xIGJfYmlhcz0wIGRpcmVjdD0xIHdlaWdodGI9MSBvcGVuX2dvcD0wIHdlaWdodHA9MiBrZXlpbnQ9MjUwIGtleWludF9taW49MjUgc2NlbmVjdXQ9NDAgaW50cmFfcmVmcmVzaD0wIHJjX2xvb2thaGVhZD00MCByYz1jcmYgbWJ0cmVlPTEgY3JmPTIzLjAgcWNvbXA9MC42MCBxcG1pbj0wIHFwbWF4PTY5IHFwc3RlcD00IGlwX3JhdGlvPTEuNDAgYXE9MToxLjAwAIAAAALvZYiEADf//vaH+BTZWBP+Wb/9DX/cj9uPrP1xYyEE31qvIejAGS+1H+b/rFFs6Z6UB/fgCJQAc24ZwpHZJ46w5MIvVHwKXAT74FNJkUf2kz8kZ79iJJSawDtpALgjwtGVac6NE7h3De3tY5cJ4/EOZNpS73Vkt8q2b74V0X2KxXATRX7bYTamtwEtoKuqrqKzZ3TFoxvluSnncgOqCGVvldTGdjPAkrDwC2becbT34BgobUxSEoqbqzE/3wkOa+EjZjmPwwbKsIzqjJMLZInPfuxhpRtcEbnIIml89epoDlkb72bs1BnIYIZg+7oaHRGP3owOchG3CfI1JNwR2cmXxI0G/gBsFkN43DjrnAE0l+odxFVzccvyyA2xyAXt6bkQL/50ylr9ExAGsB76rRZNpCM8v1JML2Y0T8f1Zex+OGoREJO8DEyoH+UCkjmlN1ZjaJdZdzpBq/lUCeO+D9L2+0iG6dCpuRiJrf7d0exPh1olj6UKMJrWTM0acLUa4kz+v3SfdL82UkdsWgExTofu2dn+BrvS7PcFfzK2cTR7TUtEJTwUiiMelk5KSziQqGBKIMW4yzDYBfTL/6EFKTdXuuUPZTz9KVZoKOJIN86tbSYUGbGT5u+wZbAgQCPuSFthBmDKsJIH0szK6h66FlDTLQ8fy0YiAdozuzEP/oBTMSjozAdI+8pN5yBDQNIJxYLCbt7YcEloRQ1XSv38DVu5i9zFajM4OoD42LdtGXchP4MaQ8YhMNC7i5NLU7P5+sXwaznIUnMeY5KF6UXuizjQANmLG/EhCEeqVu3At4mhozKiut4/rFb2DY3uZCRxlURi0EAME8Uo/1xvzimRERFAN3IUv99lQrRIVFJq4QPojIjS0cA1sBB9droXx6J/HAN3+HBGHCMyPm8K+mZMqTRgApPip6PFAXU+Hm+xIqV2X15ImZWiTx/gZvaaVL4325PlJfLF92/KUR1Y+SD46OudL2hxgPk5JBiioheCAAAnoQAAABlBmiJsQ3/+p4QABdfdT9qwePHFBZihIo8IAAAAEAGeQXkK/wAEtlderOXM9cEAAAAcQZpEPCGTKYQ3//6nhAADo/AZK/qKoS2QZbZegAAAAA8BnmNqQr8AAvxF8zbMjzMAAAAYQZplSeEPJlMCG//+p4QAA3fsHr2Z8EanAAAAHUGaiEnhDyZTAhn//p4QABRuDHP4c+ICmfNWfViZAAAAEUGepkURPCv/AAQ3Z3/RyRbLAAAADwGex2pCvwAEN2I8mB6+3wAAABpBmslJqEFomUwIb//+p4QABWMVo6PuNmDHUAAAABhBmupJ4QpSZTAhv/6nhAAFhxWkEIn+XHsAAAAeQZsMSeEOiZTBTRMN//6nhAAFzxbF6PuNkMH+rYFgAAAAEAGfK2pCvwAEt2I8lzPlgYAAAAARQZswSeEPJlMCG//+p4QAAScAAAAMQZ9ORRE8L/8AALKBAAAAEAGfbXRCvwAEqVI78AH3U0EAAAAQAZ9vakK/AAdA1DoTY328oAAAABxBm3JJqEFomUwU8M/+nhAAFs9032lULl1s1dggAAAADwGfkWpCvwAEtlbpRpDzJwAAABhBm5NJ4QpSZTAhv/6nhAADo+wevZnwRpcAAAAYQZu0SeEOiZTAhv/+p4QAA43sHr2Z8EafAAAAKEGb2EnhDyZTAhn//p4QAB/fZHV5lljCp+ZZMHAeZW/F2D5Kk7TON2EAAAAVQZ/2RRE8L/8ABPp9e0MT92sKpdlmAAAAEAGeFXRCvwAEN9RInxZipPEAAAAQAZ4XakK/AAbB1TyYHr5wgQAAABhBmhlJqEFomUwIZ//+nhAAIKIcfAvmvSQAAAAXQZo6SeEKUmUwIZ/+nhAAM3IY5+l/c78AAAAYQZpbSeEOiZTAhn/+nhAAT3gxz+HOb65pAAAAH0GafUnhDyZTBRE8M//+nhAAdn1y62OGz8Q/m4eXaeEAAAAQAZ6cakK/ABknbhNxn16h+QAAABpBmp5J4Q8mUwIZ//6eEAC58GOfw58QOH+FJwAAABlBmr9J4Q8mUwIZ//6eEAC+r7i/8R1CW9OAAAAAGUGawEnhDyZTAhv//qeEAEtQBZttn2fNS8EAAAAZQZrhSeEPJlMCG//+p4QAS1AFmDHZk1boEAAAABxBmwRJ4Q8mUwIb//6nhABxAfxnVSYP6AFCeCRhAAAAEkGfIkURPCv/AF0wdd3gU1BzQAAAAA4Bn0NqQr8AXRt14Da7hwAAABlBm0VJqEFomUwIb//+p4QAL/7B69mfBFhtAAAAHkGbaUnhClJlMCG//qeEAEe+OmP8TXGqIPm1gmpSfQAAABFBn4dFNEwv/wArLHkFV68xsQAAAA8Bn6Z0Qr8AOhYrGEKtg0AAAAAQAZ+oakK/ADis+Y3Q5IOQuAAAABpBm6pJqEFomUwIb//+p4QARb46fUcaEhxgQQAAABlBm8tJ4QpSZTAh3/6plgAW/31ZVZm2YEzAAAAAGUGb70nhDomUwIb//qeEAEO+On3M3Wli6zAAAAAQQZ4NRRE8L/8AKOywUtwmkQAAABABnix0Qr8AN1ZV3V+O8AphAAAADwGeLmpCvwAjSpG6z1Z8LwAAABpBmjBJqEFomUwId//+qZYAFm99WVWZtmBOwAAAABJBmlRJ4QpSZTAh3/6plgAAlYAAAAAMQZ5yRTRML/8AALKBAAAADwGekXRCvwAiSpHEdl2WUwAAAA8BnpNqQr8AI680QWo8vC4AAAAaQZqXSahBaJlMCHf//qmWABZNLK4zS/tgTsEAAAAPQZ61RREsK/8AI7JuGzHAAAAADQGe1mpCvwAjwaRb2Y8AAAATQZrbSahBbJlMCHf//qmWAACVgQAAAAxBnvlFFSwv/wAAsoAAAAAPAZ8YdEK/ACS7jujtvhZBAAAADwGfGmpCvwAjSpG6z1Z8LgAAABNBmx9JqEFsmUwId//+qZYAAJWBAAAADEGfPUUVLC//AACygQAAAA8Bn1x0Qr8AI0qRxHZdlkkAAAAPAZ9eakK/ACNKkbrPVnwuAAAAE0GbQ0moQWyZTAh3//6plgAAlYEAAAAMQZ9hRRUsL/8AALKAAAAADwGfgHRCvwAjSpHEdl2WSQAAAA8Bn4JqQr8AI0qRus9WfC4AAAATQZuHSahBbJlMCHf//qmWAACVgQAAAAxBn6VFFSwv/wAAsoEAAAAPAZ/EdEK/ACNKkcR2XZZJAAAADwGfxmpCvwAjSpG6z1Z8LwAAABNBm8tJqEFsmUwId//+qZYAAJWAAAAADEGf6UUVLC//AACygAAAAA8Bngh0Qr8AI0qRxHZdlkkAAAAPAZ4KakK/ACNKkbrPVnwuAAAAE0GaD0moQWyZTAh3//6plgAAlYAAAAAMQZ4tRRUsL/8AALKBAAAADwGeTHRCvwAjSpHEdl2WSQAAAA8Bnk5qQr8AI0qRus9WfC8AAAAaQZpSSahBbJlMCHf//qmWABZvfVlVmbZgTsAAAAAPQZ5wRRUsK/8AI7JuGzHAAAAADQGekWpCvwAjwaRb2Y8AAAATQZqWSahBbJlMCHf//qmWAACVgAAAABJBnrRFFSwv/wAo9xNiup1dz1gAAAAQAZ7TdEK/ADdSLKvAiu47gQAAAA8BntVqQr8AN0S0qRQJVd0AAAATQZraSahBbJlMCHf//qmWAACVgQAAAAxBnvhFFSwv/wAAsoEAAAAPAZ8XdEK/ACO7jujtvhZJAAAADwGfGWpCvwAjrzRBajy8LwAAABJBmx5JqEFsmUwIb//+p4QAAScAAAAMQZ88RRUsL/8AALKBAAAADwGfW3RCvwAju47o7b4WSQAAAA8Bn11qQr8AI680QWo8vC4AAAAcQZtCSahBbJlMCG///qeEACte6n7rSzNTbotkGAAAABBBn2BFFSwv/wAZxV43sE05AAAADgGfn3RCvwAju47zzi4XAAAAEAGfgWpCvwAjuaN5pirafsEAAAAZQZuFSahBbJlMCGf//p4QAKxwY5+jAgUhggAAAA9Bn6NFFSwr/wAjsrgSq0EAAAAPAZ/EakK/ACSvNE1JTl6BAAAAGkGbxkmoQWyZTAhv//6nhABDUAWbbZ9nzVTBAAAAGUGb50nhClJlMCG//qeEAGlpE/1W+Y/EPmEAAAAZQZoISeEOiZTAh3/+qZYAUn5BmgD0l9f90AAAABlBmitJ4Q8mUwId//6plgBUtLK4zS/tgFNAAAAAD0GeSUURPCv/AIbJuGt3QQAAAA0BnmpqQr8AhwaRb1u6AAAAG0Gab0moQWiZTAhv//6nhACofGn8f0JitzHbKAAAABVBno1FESwv/wBkhHG6p0uRI52+o0kAAAAQAZ6sdEK/AIruO8rZQ9IhgQAAAA8Bnq5qQr8AWtrKZtmRrekAAAAaQZqwSahBbJlMCHf//qmWADVe0v53SFMImzAAAAAbQZrUSeEKUmUwId/+qZYAIj8efy7PahZClz6zAAAAEEGe8kU0TC//ACjssE+N+sEAAAAQAZ8RdEK/ADdAHxSbZKrugAAAAA8BnxNqQr8AI680TUlOY4AAAAATQZsYSahBaJlMCHf//qmWAACVgQAAAAxBnzZFESwv/wAAsoAAAAAPAZ9VdEK/ACO7jujtvhZJAAAADwGfV2pCvwAjrzRBajy8LwAAABNBm1xJqEFsmUwId//+qZYAAJWAAAAADEGfekUVLC//AACygQAAAA8Bn5l0Qr8AI7uO6O2+FkkAAAAPAZ+bakK/ACOvNEFqPLwvAAAAE0GbgEmoQWyZTAh3//6plgAAlYEAAAAMQZ++RRUsL/8AALKAAAAADwGf3XRCvwAju47o7b4WSQAAAA8Bn99qQr8AI680QWo8vC8AAAATQZvESahBbJlMCHf//qmWAACVgAAAAAxBn+JFFSwv/wAAsoEAAAAPAZ4BdEK/ACO7jujtvhZJAAAADwGeA2pCvwAjrzRBajy8LwAAABNBmghJqEFsmUwId//+qZYAAJWBAAAADEGeJkUVLC//AACygQAAAA8BnkV0Qr8AI7uO6O2+FkkAAAAPAZ5HakK/ACJKkbrPVnw+AAAAE0GaTEmoQWyZTAh3//6plgAAlYAAAAAMQZ5qRRUsL/8AALKBAAAADwGeiXRCvwAju47o7b4WSQAAAA8BnotqQr8AI680QWo8vC4AAAATQZqQSahBbJlMCHf//qmWAACVgQAAAAxBnq5FFSwv/wAAsoEAAAAPAZ7NdEK/ACO7jujtvhZJAAAADwGez2pCvwAjrzRBajy8LgAAABpBmtNJqEFsmUwId//+qZYAIQiw3RiEc+wU4AAAABJBnvFFFSwr/wA2Dtwuw30vO3UAAAAPAZ8SakK/ADYO3CcEDkTgAAAAHEGbF0moQWyZTAh3//6plgAhPx5+XS9eaHSoE+AAAAAVQZ81RRUsL/8AJ8xt0ZSEzn7tYjoPAAAAEAGfVHRCvwA2AAAZJb/XIEAAAAAQAZ9WakK/ACO7EeS5nyV8gQAAABJBm1tJqEFsmUwIb//+p4QAAScAAAAMQZ95RRUsL/8AALKAAAAADwGfmHRCvwAjSpHEdl2WSQAAAA8Bn5pqQr8AI0qRus9WfC4AAAAdQZudSahBbJlMFEw3//6nhABBR81TWbc146fav1kAAAAQAZ+8akK/ADYO3CbjPr07dQAAABxBm79J4QpSZTBSw3/+p4QAaV1apj/Vu32D9cJ8AAAAEAGf3mpCvwBWbCPJgevb7oAAAAAcQZvBSeEOiZTBRMN//qeEAGn9g/zyCtUyEi3p2QAAABABn+BqQr8AWKlG80xVtJ7gAAAAGEGb5UnhDyZTAhn//p4QAZumrEdff0vx4QAAABVBngNFETwv/wA+KdRnE47XfRZXJUwAAAAQAZ4idEK/ADicTxSbZKrpgQAAABABniRqQr8AVmx45X9uH3tBAAAAGUGaJkmoQWiZTAhn//6eEAJ6cI5/DnN9ZekAAAAZQZpHSeEKUmUwIb/+p4QA9xxn+q3zH4g1IQAAAB1BmmlJ4Q6JlMFNEw3//qeEAP37B/NpdSPMecWg4AAAABABnohqQr8A0rNzXHiraPVgAAAAGUGaiknhDyZTAhv//qeEAKh7qfqONCQ4UEEAAAAZQZqrSeEPJlMCHf/+qZYANp7S/ndIUwiakAAAABpBms9J4Q8mUwIb//6nhABpbBqzJ37B/oRdwAAAABVBnu1FETwv/wA+KdRnE47XfRZXJU0AAAAQAZ8MdEK/ADicTxSbZKrpgQAAABABnw5qQr8AVmx45X9uH3tBAAAAHEGbEUmoQWiZTBTw3/6nhACnYrVMf6t2+wfrf/gAAAAPAZ8wakK/AIbsR5MD17cvAAAAGUGbNEnhClJlMCG//qeEAKh7qfqONCQ4UEEAAAARQZ9SRTRMK/8AiuaN5pveoZkAAAAPAZ9zakK/AIrK3SjSHiY2AAAAGkGbdUmoQWiZTAh3//6plgA2ntL+d0hTCJqRAAAAGkGbmUnhClJlMCG//qeEAGlsGrMnfsH+hF3AAAAAFUGft0U0TC//AD4p1GcTjtd9FlclTQAAABABn9Z0Qr8AOJxPFJtkqumBAAAAEAGf2GpCvwBWbHjlf24fe0AAAAAZQZvbSahBaJlMFPDf/qeEAGn9g/zyoZd6dwAAABABn/pqQr8AWKlG80xVtJ7gAAAAGEGb/0nhClJlMCG//qeEAGltQe3up+1c7QAAABJBnh1FNEwv/wA+KdRnE4+yMqcAAAAQAZ48dEK/ADicTxSbZKrpgAAAABABnj5qQr8AVmx45X9uH3tAAAAAHEGaIUmoQWiZTBTw3/6nhACnYrVMf6t2+wfrf/kAAAAPAZ5AakK/AIbsR5MD17cvAAAAGEGaREnhClJlMCGf/p4QAo/um+ipWa9+pwAAABFBnmJFNEwr/wCK5o3mm96hmQAAAA8BnoNqQr8AisrdKNIeJjcAAAAZQZqFSahBaJlMCGf//p4QAaf19/IkR9YR/wAAABpBmqlL4QhClJEYIKAfyAf2HgCFf/44QAARcQAAACpBnsdFNEwv/wIB3OpL2zMKuYDoGrWoXAlAGXt0aAwePt2rHfo7tSYNpoEAAAAQAZ7mdEK/ADicTxSbZKrpgAAAACUBnuhqQr8Cr2PtQcTdqsNJJuWqhgcstbzxVr1Ueuw+Ai2ygWcwAAAL4G1vb3YAAABsbXZoZAAAAAAAAAAAAAAAAAAAA+gAAB+QAAEAAAEAAAAAAAAAAAAAAAABAAAAAAAAAAAAAAAAAAAAAQAAAAAAAAAAAAAAAAAAQAAAAAAAAAAAAAAAAAAAAAAAAAAAAAAAAAAAAAAAAAIAAAsKdHJhawAAAFx0a2hkAAAAAwAAAAAAAAAAAAAAAQAAAAAAAB+QAAAAAAAAAAAAAAAAAAAAAAABAAAAAAAAAAAAAAAAAAAAAQAAAAAAAAAAAAAAAAAAQAAAAAEQAAABEAAAAAAAJGVkdHMAAAAcZWxzdAAAAAAAAAABAAAfkAAABAAAAQAAAAAKgm1kaWEAAAAgbWRoZAAAAAAAAAAAAAAAAAAAMgAAAZQAVcQAAAAAAC1oZGxyAAAAAAAAAAB2aWRlAAAAAAAAAAAAAAAAVmlkZW9IYW5kbGVyAAAACi1taW5mAAAAFHZtaGQAAAABAAAAAAAAAAAAAAAkZGluZgAAABxkcmVmAAAAAAAAAAEAAAAMdXJsIAAAAAEAAAntc3RibAAAAJVzdHNkAAAAAAAAAAEAAACFYXZjMQAAAAAAAAABAAAAAAAAAAAAAAAAAAAAAAEQARAASAAAAEgAAAAAAAAAAQAAAAAAAAAAAAAAAAAAAAAAAAAAAAAAAAAAAAAAAAAAABj//wAAAC9hdmNDAfQADf/hABdn9AANkZsoIhHQgAAAAwCAAAAZB4oUywEABWjr48RIAAAAGHN0dHMAAAAAAAAAAQAAAMoAAAIAAAAAFHN0c3MAAAAAAAAAAQAAAAEAAAW4Y3R0cwAAAAAAAAC1AAAAAQAABAAAAAABAAAGAAAAAAEAAAIAAAAAAQAABgAAAAABAAACAAAAAAEAAAQAAAAAAQAACAAAAAACAAACAAAAAAIAAAQAAAAAAQAABgAAAAABAAACAAAAAAEAAAoAAAAAAQAABAAAAAABAAAAAAAAAAEAAAIAAAAAAQAABgAAAAABAAACAAAAAAIAAAQAAAAAAQAACgAAAAABAAAEAAAAAAEAAAAAAAAAAQAAAgAAAAADAAAEAAAAAAEAAAYAAAAAAQAAAgAAAAAEAAAEAAAAAAEAAAgAAAAAAgAAAgAAAAABAAAEAAAAAAEAAAoAAAAAAQAABAAAAAABAAAAAAAAAAEAAAIAAAAAAgAABAAAAAABAAAKAAAAAAEAAAQAAAAAAQAAAAAAAAABAAACAAAAAAEAAAQAAAAAAQAACgAAAAABAAAEAAAAAAEAAAAAAAAAAQAAAgAAAAABAAAIAAAAAAIAAAIAAAAAAQAACgAAAAABAAAEAAAAAAEAAAAAAAAAAQAAAgAAAAABAAAKAAAAAAEAAAQAAAAAAQAAAAAAAAABAAACAAAAAAEAAAoAAAAAAQAABAAAAAABAAAAAAAAAAEAAAIAAAAAAQAACgAAAAABAAAEAAAAAAEAAAAAAAAAAQAAAgAAAAABAAAKAAAAAAEAAAQAAAAAAQAAAAAAAAABAAACAAAAAAEAAAoAAAAAAQAABAAAAAABAAAAAAAAAAEAAAIAAAAAAQAACAAAAAACAAACAAAAAAEAAAoAAAAAAQAABAAAAAABAAAAAAAAAAEAAAIAAAAAAQAACgAAAAABAAAEAAAAAAEAAAAAAAAAAQAAAgAAAAABAAAKAAAAAAEAAAQAAAAAAQAAAAAAAAABAAACAAAAAAEAAAoAAAAAAQAABAAAAAABAAAAAAAAAAEAAAIAAAAAAQAACAAAAAACAAACAAAAAAMAAAQAAAAAAQAACAAAAAACAAACAAAAAAEAAAoAAAAAAQAABAAAAAABAAAAAAAAAAEAAAIAAAAAAQAABAAAAAABAAAKAAAAAAEAAAQAAAAAAQAAAAAAAAABAAACAAAAAAEAAAoAAAAAAQAABAAAAAABAAAAAAAAAAEAAAIAAAAAAQAACgAAAAABAAAEAAAAAAEAAAAAAAAAAQAAAgAAAAABAAAKAAAAAAEAAAQAAAAAAQAAAAAAAAABAAACAAAAAAEAAAoAAAAAAQAABAAAAAABAAAAAAAAAAEAAAIAAAAAAQAACgAAAAABAAAEAAAAAAEAAAAAAAAAAQAAAgAAAAABAAAKAAAAAAEAAAQAAAAAAQAAAAAAAAABAAACAAAAAAEAAAoAAAAAAQAABAAAAAABAAAAAAAAAAEAAAIAAAAAAQAACAAAAAACAAACAAAAAAEAAAoAAAAAAQAABAAAAAABAAAAAAAAAAEAAAIAAAAAAQAACgAAAAABAAAEAAAAAAEAAAAAAAAAAQAAAgAAAAABAAAGAAAAAAEAAAIAAAAAAQAABgAAAAABAAACAAAAAAEAAAYAAAAAAQAAAgAAAAABAAAKAAAAAAEAAAQAAAAAAQAAAAAAAAABAAACAAAAAAIAAAQAAAAAAQAABgAAAAABAAACAAAAAAIAAAQAAAAAAQAACgAAAAABAAAEAAAAAAEAAAAAAAAAAQAAAgAAAAABAAAGAAAAAAEAAAIAAAAAAQAACAAAAAACAAACAAAAAAEAAAQAAAAAAQAACgAAAAABAAAEAAAAAAEAAAAAAAAAAQAAAgAAAAABAAAGAAAAAAEAAAIAAAAAAQAACgAAAAABAAAEAAAAAAEAAAAAAAAAAQAAAgAAAAABAAAGAAAAAAEAAAIAAAAAAQAACAAAAAACAAACAAAAAAEAAAQAAAAAAQAACgAAAAABAAAEAAAAAAEAAAAAAAAAAQAAAgAAAAAcc3RzYwAAAAAAAAABAAAAAQAAAMoAAAABAAADPHN0c3oAAAAAAAAAAAAAAMoAAAWkAAAAHQAAABQAAAAgAAAAEwAAABwAAAAhAAAAFQAAABMAAAAeAAAAHAAAACIAAAAUAAAAFQAAABAAAAAUAAAAFAAAACAAAAATAAAAHAAAABwAAAAsAAAAGQAAABQAAAAUAAAAHAAAABsAAAAcAAAAIwAAABQAAAAeAAAAHQAAAB0AAAAdAAAAIAAAABYAAAASAAAAHQAAACIAAAAVAAAAEwAAABQAAAAeAAAAHQAAAB0AAAAUAAAAFAAAABMAAAAeAAAAFgAAABAAAAATAAAAEwAAAB4AAAATAAAAEQAAABcAAAAQAAAAEwAAABMAAAAXAAAAEAAAABMAAAATAAAAFwAAABAAAAATAAAAEwAAABcAAAAQAAAAEwAAABMAAAAXAAAAEAAAABMAAAATAAAAFwAAABAAAAATAAAAEwAAAB4AAAATAAAAEQAAABcAAAAWAAAAFAAAABMAAAAXAAAAEAAAABMAAAATAAAAFgAAABAAAAATAAAAEwAAACAAAAAUAAAAEgAAABQAAAAdAAAAEwAAABMAAAAeAAAAHQAAAB0AAAAdAAAAEwAAABEAAAAfAAAAGQAAABQAAAATAAAAHgAAAB8AAAAUAAAAFAAAABMAAAAXAAAAEAAAABMAAAATAAAAFwAAABAAAAATAAAAEwAAABcAAAAQAAAAEwAAABMAAAAXAAAAEAAAABMAAAATAAAAFwAAABAAAAATAAAAEwAAABcAAAAQAAAAEwAAABMAAAAXAAAAEAAAABMAAAATAAAAHgAAABYAAAATAAAAIAAAABkAAAAUAAAAFAAAABYAAAAQAAAAEwAAABMAAAAhAAAAFAAAACAAAAAUAAAAIAAAABQAAAAcAAAAGQAAABQAAAAUAAAAHQAAAB0AAAAhAAAAFAAAAB0AAAAdAAAAHgAAABkAAAAUAAAAFAAAACAAAAATAAAAHQAAABUAAAATAAAAHgAAAB4AAAAZAAAAFAAAABQAAAAdAAAAFAAAABwAAAAWAAAAFAAAABQAAAAgAAAAEwAAABwAAAAVAAAAEwAAAB0AAAAeAAAALgAAABQAAAApAAAAFHN0Y28AAAAAAAAAAQAAADAAAABidWR0YQAAAFptZXRhAAAAAAAAACFoZGxyAAAAAAAAAABtZGlyYXBwbAAAAAAAAAAAAAAAAC1pbHN0AAAAJal0b28AAAAdZGF0YQAAAAEAAAAATGF2ZjU3LjgzLjEwMA==\" type=\"video/mp4\" />\n",
              "             </video>"
            ],
            "text/plain": [
              "<IPython.core.display.HTML object>"
            ]
          },
          "metadata": {
            "tags": []
          },
          "execution_count": 20
        }
      ]
    },
    {
      "cell_type": "code",
      "metadata": {
        "id": "0XI-A57GdZRw",
        "colab_type": "code",
        "outputId": "c9271142-41f2-4aac-9b56-b9b96dbfe286",
        "colab": {
          "base_uri": "https://localhost:8080/",
          "height": 293
        }
      },
      "source": [
        "HTML(display_videos('fc_test10.mp4'))"
      ],
      "execution_count": 21,
      "outputs": [
        {
          "output_type": "execute_result",
          "data": {
            "text/html": [
              "<video alt=\"test\" controls>\n",
              "                <source src=\"data:video/mp4;base64,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\" type=\"video/mp4\" />\n",
              "             </video>"
            ],
            "text/plain": [
              "<IPython.core.display.HTML object>"
            ]
          },
          "metadata": {
            "tags": []
          },
          "execution_count": 21
        }
      ]
    },
    {
      "cell_type": "markdown",
      "metadata": {
        "id": "iQGrd3ljdZRx",
        "colab_type": "text"
      },
      "source": [
        ""
      ]
    },
    {
      "cell_type": "markdown",
      "metadata": {
        "id": "8ve-anrldZRx",
        "colab_type": "text"
      },
      "source": [
        "***\n",
        "\n",
        "The algorithm tends to not explore the map which can be an issue. We propose two ideas in order to encourage exploration:\n",
        "1. Incorporating a decreasing $\\epsilon$-greedy exploration. You can use the method ```set_epsilon```\n",
        "2. Append via the environment a new state that describes if a cell has been visited or not\n",
        "\n",
        "***\n",
        "__Question 10__ Design a new ```train_explore``` function and environment class ```EnvironmentExploring``` to tackle the issue of exploration.\n",
        "\n"
      ]
    },
    {
      "cell_type": "code",
      "metadata": {
        "id": "3Ne76W_wn9DL",
        "colab_type": "code",
        "colab": {}
      },
      "source": [
        "def train_explore(agent,env,epoch,epsilon=0.1,decay=0.95 ,prefix=''):\n",
        "    # Number of won games\n",
        "    score = 0\n",
        "    loss = 0\n",
        "\n",
        "    for e in range(epoch):\n",
        "        # At each epoch, we restart to a fresh game and get the initial state\n",
        "        state = env.reset()\n",
        "        # This assumes that the games will terminate\n",
        "        game_over = False\n",
        "\n",
        "        win = 0\n",
        "        lose = 0\n",
        "        agent.set_epsilon(agent.epsilon)\n",
        "\n",
        "        while not game_over:\n",
        "            # The agent performs an action\n",
        "            action = agent.act(state)\n",
        "            agent.epsilon *= decay\n",
        "\n",
        "            # Apply an action to the environment, get the next state, the reward\n",
        "            # and if the games end\n",
        "            prev_state = state\n",
        "            state, reward, game_over = env.act(action, train=True)\n",
        "\n",
        "            # Update the counters\n",
        "            if reward > 0:\n",
        "                win = win + reward\n",
        "            if reward < 0:\n",
        "                lose = lose -reward\n",
        "\n",
        "            # Apply the reinforcement strategy\n",
        "            loss = agent.reinforce(prev_state, state,  action, reward, game_over)\n",
        "\n",
        "        # Save as a mp4\n",
        "        if e % 10 == 0:\n",
        "            env.draw(prefix+str(e))\n",
        "\n",
        "        # Update stats\n",
        "        score += win-lose\n",
        "\n",
        "        print(\"Epoch {:03d}/{:03d} | Loss {:.4f} | Win/lose count {}/{} ({})\"\n",
        "              .format(e, epoch, loss, win, lose, win-lose))\n",
        "        agent.save(name_weights=prefix+'model.h5',name_model=prefix+'model.json')"
      ],
      "execution_count": 0,
      "outputs": []
    },
    {
      "cell_type": "code",
      "metadata": {
        "id": "WfzhrCaYdZRy",
        "colab_type": "code",
        "colab": {}
      },
      "source": [
        "class EnvironmentExploring(object):\n",
        "    def __init__(self, grid_size=10, max_time=T, temperature=0.3): #max_time=500\n",
        "        grid_size = grid_size+4\n",
        "        self.grid_size = grid_size\n",
        "        self.max_time = max_time\n",
        "        self.temperature = temperature\n",
        "\n",
        "        #board on which one plays\n",
        "        self.board = np.zeros((grid_size,grid_size))\n",
        "        self.position = np.zeros((grid_size,grid_size))\n",
        "        \n",
        "        #Malus\n",
        "        self.malus_position = np.zeros((grid_size,grid_size))\n",
        "\n",
        "        # coordinate of the cat\n",
        "        self.x = 0\n",
        "        self.y = 1\n",
        "\n",
        "        # self time\n",
        "        self.t = 0\n",
        "\n",
        "        self.scale=16\n",
        "\n",
        "        self.to_draw = np.zeros((max_time+2, grid_size*self.scale, grid_size*self.scale, 3))\n",
        "\n",
        "\n",
        "    def draw(self,e):\n",
        "        skvideo.io.vwrite(str(e) + '.mp4', self.to_draw)\n",
        "\n",
        "    def get_frame(self,t):\n",
        "        b = np.zeros((self.grid_size,self.grid_size,3))+128\n",
        "        b[self.board>0,0] = 256\n",
        "        b[self.board < 0, 2] = 256\n",
        "        b[self.x,self.y,:]=256\n",
        "        b[-2:,:,:]=0\n",
        "        b[:,-2:,:]=0\n",
        "        b[:2,:,:]=0\n",
        "        b[:,:2,:]=0\n",
        "        \n",
        "        b =  cv2.resize(b, None, fx=self.scale, fy=self.scale, interpolation=cv2.INTER_NEAREST)\n",
        "\n",
        "        self.to_draw[t,:,:,:]=b\n",
        "\n",
        "\n",
        "    def act(self, action, train=False):\n",
        "        \"\"\"This function returns the new state, reward and decides if the\n",
        "        game ends.\"\"\"\n",
        "\n",
        "        self.get_frame(int(self.t))\n",
        "\n",
        "        self.position = np.zeros((self.grid_size, self.grid_size))\n",
        "\n",
        "        self.position[0:2,:]= -1\n",
        "        self.position[:,0:2] = -1\n",
        "        self.position[-2:, :] = -1\n",
        "        self.position[:, -2:] = -1\n",
        "\n",
        "        self.position[self.x, self.y] = 1\n",
        "        if action == 0:\n",
        "            if self.x == self.grid_size-3:\n",
        "                self.x = self.x-1\n",
        "            else:\n",
        "                self.x = self.x + 1\n",
        "        elif action == 1:\n",
        "            if self.x == 2:\n",
        "                self.x = self.x+1\n",
        "            else:\n",
        "                self.x = self.x-1\n",
        "        elif action == 2:\n",
        "            if self.y == self.grid_size - 3:\n",
        "                self.y = self.y - 1\n",
        "            else:\n",
        "                self.y = self.y + 1\n",
        "        elif action == 3:\n",
        "            if self.y == 2:\n",
        "                self.y = self.y + 1\n",
        "            else:\n",
        "                self.y = self.y - 1\n",
        "        else:\n",
        "            RuntimeError('Error: action not recognized')\n",
        "\n",
        "        self.t = self.t + 1\n",
        "        \n",
        "        reward = 0\n",
        "        if train:\n",
        "            reward = -self.malus_position[self.x, self.y]\n",
        "        self.malus_position[self.x, self.y] += 0.1\n",
        "        \n",
        "        reward = reward + self.board[self.x, self.y] \n",
        "        \n",
        "        self.board[self.x, self.y] = 0\n",
        "        game_over = self.t > self.max_time\n",
        "        state = np.concatenate((self.malus_position.reshape(self.grid_size, self.grid_size,1),\n",
        "                                self.board.reshape(self.grid_size, self.grid_size,1),\n",
        "                        self.position.reshape(self.grid_size, self.grid_size,1)),axis=2)\n",
        "        state = state[self.x-2:self.x+3,self.y-2:self.y+3,:]\n",
        "\n",
        "        return state, reward, game_over\n",
        "\n",
        "    def reset(self):\n",
        "        \"\"\"This function resets the game and returns the initial state\"\"\"\n",
        "\n",
        "        self.x = np.random.randint(3, self.grid_size-3, size=1)[0]\n",
        "        self.y = np.random.randint(3, self.grid_size-3, size=1)[0]\n",
        "\n",
        "\n",
        "        bonus = 0.5*np.random.binomial(1,self.temperature,size=self.grid_size**2)\n",
        "        bonus = bonus.reshape(self.grid_size,self.grid_size)\n",
        "\n",
        "        malus = -1.0*np.random.binomial(1,self.temperature,size=self.grid_size**2)\n",
        "        malus = malus.reshape(self.grid_size, self.grid_size)\n",
        "\n",
        "        self.to_draw = np.zeros((self.max_time+2, self.grid_size*self.scale, self.grid_size*self.scale, 3))\n",
        "\n",
        "\n",
        "        malus[bonus>0]=0\n",
        "\n",
        "        self.board = bonus + malus\n",
        "\n",
        "        self.position = np.zeros((self.grid_size, self.grid_size))\n",
        "        self.position[0:2,:]= -1\n",
        "        self.position[:,0:2] = -1\n",
        "        self.position[-2:, :] = -1\n",
        "        self.position[:, -2:] = -1\n",
        "        self.board[self.x,self.y] = 0\n",
        "        self.t = 0\n",
        "        \n",
        "        self.malus_position = np.zeros((self.grid_size, self.grid_size))\n",
        "        state = np.concatenate((self.malus_position.reshape(self.grid_size, self.grid_size,1),\n",
        "                                self.board.reshape(self.grid_size, self.grid_size,1),\n",
        "                        self.position.reshape(self.grid_size, self.grid_size,1)),axis=2)\n",
        "\n",
        "        state = state[self.x - 2:self.x + 3, self.y - 2:self.y + 3, :]\n",
        "        return state"
      ],
      "execution_count": 0,
      "outputs": []
    },
    {
      "cell_type": "code",
      "metadata": {
        "id": "phYUqnZJdZRz",
        "colab_type": "code",
        "colab": {
          "base_uri": "https://localhost:8080/",
          "height": 1000
        },
        "outputId": "f8945254-b5e6-4710-e971-7c872275786c"
      },
      "source": [
        "# Training\n",
        "env = EnvironmentExploring(grid_size=size, max_time=T, temperature=0.3)\n",
        "agent = DQN_CNN(size, lr=.1, epsilon = 0.1, memory_size=2000, batch_size = 16 ,n_state=3)\n",
        "train_explore(agent, env, epochs_train, prefix='cnn_train_explore')\n",
        "HTML(display_videos('cnn_train_explore10.mp4'))"
      ],
      "execution_count": 46,
      "outputs": [
        {
          "output_type": "stream",
          "text": [
            "Epoch 000/070 | Loss 0.0126 | Win/lose count 9.5/54.20000000000004 (-44.70000000000004)\n",
            "Epoch 001/070 | Loss 0.0112 | Win/lose count 16.0/30.100000000000037 (-14.100000000000037)\n",
            "Epoch 002/070 | Loss 0.0291 | Win/lose count 20.0/18.599999999999994 (1.4000000000000057)\n",
            "Epoch 003/070 | Loss 0.0155 | Win/lose count 20.5/17.299999999999994 (3.2000000000000064)\n",
            "Epoch 004/070 | Loss 0.0148 | Win/lose count 21.0/15.799999999999981 (5.200000000000019)\n",
            "Epoch 005/070 | Loss 0.0160 | Win/lose count 20.0/18.799999999999997 (1.2000000000000028)\n",
            "Epoch 006/070 | Loss 0.0149 | Win/lose count 19.5/22.899999999999995 (-3.399999999999995)\n",
            "Epoch 007/070 | Loss 0.0076 | Win/lose count 13.0/29.599999999999987 (-16.599999999999987)\n",
            "Epoch 008/070 | Loss 0.0476 | Win/lose count 23.0/14.899999999999984 (8.100000000000016)\n",
            "Epoch 009/070 | Loss 0.0322 | Win/lose count 23.5/14.599999999999989 (8.900000000000011)\n",
            "Epoch 010/070 | Loss 0.0074 | Win/lose count 19.5/17.299999999999972 (2.2000000000000277)\n",
            "Epoch 011/070 | Loss 0.0112 | Win/lose count 26.5/13.09999999999998 (13.40000000000002)\n",
            "Epoch 012/070 | Loss 0.0102 | Win/lose count 22.0/15.599999999999982 (6.400000000000018)\n",
            "Epoch 013/070 | Loss 0.0089 | Win/lose count 21.0/16.199999999999974 (4.800000000000026)\n",
            "Epoch 014/070 | Loss 0.0106 | Win/lose count 19.0/17.29999999999999 (1.70000000000001)\n",
            "Epoch 015/070 | Loss 0.0071 | Win/lose count 21.5/14.699999999999987 (6.800000000000013)\n",
            "Epoch 016/070 | Loss 0.0166 | Win/lose count 21.5/16.99999999999998 (4.500000000000021)\n",
            "Epoch 017/070 | Loss 0.0176 | Win/lose count 25.5/13.09999999999998 (12.40000000000002)\n",
            "Epoch 018/070 | Loss 0.0084 | Win/lose count 18.0/29.00000000000003 (-11.000000000000028)\n",
            "Epoch 019/070 | Loss 0.0165 | Win/lose count 20.0/17.39999999999999 (2.6000000000000085)\n",
            "Epoch 020/070 | Loss 0.0039 | Win/lose count 24.0/11.999999999999986 (12.000000000000014)\n",
            "Epoch 021/070 | Loss 0.0078 | Win/lose count 25.5/15.399999999999979 (10.100000000000021)\n",
            "Epoch 022/070 | Loss 0.0040 | Win/lose count 23.5/13.599999999999982 (9.900000000000018)\n",
            "Epoch 023/070 | Loss 0.0146 | Win/lose count 19.5/14.199999999999985 (5.300000000000015)\n",
            "Epoch 024/070 | Loss 0.0074 | Win/lose count 20.0/15.999999999999979 (4.000000000000021)\n",
            "Epoch 025/070 | Loss 0.0119 | Win/lose count 23.5/14.99999999999999 (8.50000000000001)\n",
            "Epoch 026/070 | Loss 0.0068 | Win/lose count 31.0/12.49999999999998 (18.50000000000002)\n",
            "Epoch 027/070 | Loss 0.0049 | Win/lose count 25.5/13.499999999999982 (12.000000000000018)\n",
            "Epoch 028/070 | Loss 0.0088 | Win/lose count 24.5/18.099999999999977 (6.4000000000000234)\n",
            "Epoch 029/070 | Loss 0.0091 | Win/lose count 19.0/16.69999999999999 (2.3000000000000114)\n",
            "Epoch 030/070 | Loss 0.0123 | Win/lose count 26.5/16.699999999999985 (9.800000000000015)\n",
            "Epoch 031/070 | Loss 0.0066 | Win/lose count 25.5/16.599999999999994 (8.900000000000006)\n",
            "Epoch 032/070 | Loss 0.0598 | Win/lose count 23.0/16.69999999999999 (6.300000000000011)\n",
            "Epoch 033/070 | Loss 0.0039 | Win/lose count 24.5/13.599999999999982 (10.900000000000018)\n",
            "Epoch 034/070 | Loss 0.0523 | Win/lose count 25.5/14.299999999999992 (11.200000000000008)\n",
            "Epoch 035/070 | Loss 0.0470 | Win/lose count 22.0/17.899999999999984 (4.100000000000016)\n",
            "Epoch 036/070 | Loss 0.0083 | Win/lose count 23.0/10.999999999999982 (12.000000000000018)\n",
            "Epoch 037/070 | Loss 0.0164 | Win/lose count 19.0/31.599999999999977 (-12.599999999999977)\n",
            "Epoch 038/070 | Loss 0.0067 | Win/lose count 19.0/26.30000000000001 (-7.300000000000011)\n",
            "Epoch 039/070 | Loss 0.0088 | Win/lose count 23.0/14.89999999999998 (8.10000000000002)\n",
            "Epoch 040/070 | Loss 0.0068 | Win/lose count 24.5/13.19999999999998 (11.30000000000002)\n",
            "Epoch 041/070 | Loss 0.0328 | Win/lose count 18.0/20.4 (-2.3999999999999986)\n",
            "Epoch 042/070 | Loss 0.0219 | Win/lose count 25.0/12.999999999999982 (12.000000000000018)\n",
            "Epoch 043/070 | Loss 0.0146 | Win/lose count 16.5/15.299999999999974 (1.200000000000026)\n",
            "Epoch 044/070 | Loss 0.0071 | Win/lose count 17.0/13.199999999999983 (3.8000000000000167)\n",
            "Epoch 045/070 | Loss 0.0122 | Win/lose count 19.5/17.09999999999998 (2.40000000000002)\n",
            "Epoch 046/070 | Loss 0.0133 | Win/lose count 30.5/11.799999999999988 (18.70000000000001)\n",
            "Epoch 047/070 | Loss 0.0058 | Win/lose count 26.0/20.199999999999996 (5.800000000000004)\n",
            "Epoch 048/070 | Loss 0.0066 | Win/lose count 23.0/9.699999999999989 (13.300000000000011)\n",
            "Epoch 049/070 | Loss 0.0131 | Win/lose count 22.5/18.999999999999993 (3.500000000000007)\n",
            "Epoch 050/070 | Loss 0.0093 | Win/lose count 24.0/20.4 (3.6000000000000014)\n",
            "Epoch 051/070 | Loss 0.0048 | Win/lose count 25.0/13.799999999999985 (11.200000000000015)\n",
            "Epoch 052/070 | Loss 0.0038 | Win/lose count 18.5/13.799999999999986 (4.7000000000000135)\n",
            "Epoch 053/070 | Loss 0.0099 | Win/lose count 21.5/12.399999999999983 (9.100000000000017)\n",
            "Epoch 054/070 | Loss 0.0049 | Win/lose count 26.5/14.399999999999983 (12.100000000000017)\n",
            "Epoch 055/070 | Loss 0.0054 | Win/lose count 18.0/40.80000000000003 (-22.800000000000033)\n",
            "Epoch 056/070 | Loss 0.0370 | Win/lose count 23.5/17.199999999999996 (6.300000000000004)\n",
            "Epoch 057/070 | Loss 0.0046 | Win/lose count 28.5/14.49999999999999 (14.00000000000001)\n",
            "Epoch 058/070 | Loss 0.0042 | Win/lose count 21.0/15.79999999999999 (5.20000000000001)\n",
            "Epoch 059/070 | Loss 0.0064 | Win/lose count 24.5/13.499999999999984 (11.000000000000016)\n",
            "Epoch 060/070 | Loss 0.0039 | Win/lose count 27.5/14.699999999999987 (12.800000000000013)\n",
            "Epoch 061/070 | Loss 0.0069 | Win/lose count 19.0/16.499999999999986 (2.500000000000014)\n",
            "Epoch 062/070 | Loss 0.0060 | Win/lose count 26.5/14.79999999999998 (11.70000000000002)\n",
            "Epoch 063/070 | Loss 0.0022 | Win/lose count 18.5/20.599999999999987 (-2.099999999999987)\n",
            "Epoch 064/070 | Loss 0.0088 | Win/lose count 20.0/17.299999999999983 (2.700000000000017)\n",
            "Epoch 065/070 | Loss 0.0090 | Win/lose count 23.5/20.40000000000001 (3.0999999999999908)\n",
            "Epoch 066/070 | Loss 0.0055 | Win/lose count 24.0/16.09999999999998 (7.90000000000002)\n",
            "Epoch 067/070 | Loss 0.0045 | Win/lose count 30.0/14.399999999999984 (15.600000000000016)\n",
            "Epoch 068/070 | Loss 0.0068 | Win/lose count 28.0/11.399999999999986 (16.600000000000016)\n",
            "Epoch 069/070 | Loss 0.0059 | Win/lose count 24.0/18.2 (5.800000000000001)\n"
          ],
          "name": "stdout"
        },
        {
          "output_type": "execute_result",
          "data": {
            "text/html": [
              "<video alt=\"test\" controls>\n",
              "                <source src=\"data:video/mp4;base64,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\" type=\"video/mp4\" />\n",
              "             </video>"
            ],
            "text/plain": [
              "<IPython.core.display.HTML object>"
            ]
          },
          "metadata": {
            "tags": []
          },
          "execution_count": 46
        }
      ]
    },
    {
      "cell_type": "code",
      "metadata": {
        "id": "Z3fnFkPzdZR0",
        "colab_type": "code",
        "colab": {
          "base_uri": "https://localhost:8080/",
          "height": 820
        },
        "outputId": "50ad3446-a762-423c-9ee3-0ebc1cdd9f7f"
      },
      "source": [
        "# Evaluation\n",
        "test(agent,env,epochs_test,prefix='cnn_test_explore')\n",
        "HTML(display_videos('cnn_test_explore10.mp4'))"
      ],
      "execution_count": 47,
      "outputs": [
        {
          "output_type": "stream",
          "text": [
            "Win/lose count 22.5/5.0. Average score (17.5)\n",
            "Win/lose count 32.0/1.0. Average score (24.25)\n",
            "Win/lose count 31.5/4.0. Average score (25.333333333333332)\n",
            "Win/lose count 29.0/1.0. Average score (26.0)\n",
            "Win/lose count 17.5/1.0. Average score (24.1)\n",
            "Win/lose count 23.0/3.0. Average score (23.416666666666668)\n",
            "Win/lose count 21.5/3.0. Average score (22.714285714285715)\n",
            "Win/lose count 22.5/5.0. Average score (22.0625)\n",
            "Win/lose count 22.0/1.0. Average score (21.944444444444443)\n",
            "Win/lose count 20.0/3.0. Average score (21.45)\n",
            "Win/lose count 23.5/3.0. Average score (21.363636363636363)\n",
            "Win/lose count 27.0/1.0. Average score (21.75)\n",
            "Win/lose count 19.5/2.0. Average score (21.423076923076923)\n",
            "Win/lose count 27.0/2.0. Average score (21.678571428571427)\n",
            "Win/lose count 24.5/4.0. Average score (21.6)\n",
            "Win/lose count 24.5/0. Average score (21.78125)\n",
            "Win/lose count 20.5/2.0. Average score (21.58823529411765)\n",
            "Win/lose count 23.5/1.0. Average score (21.63888888888889)\n",
            "Win/lose count 23.0/1.0. Average score (21.657894736842106)\n",
            "Win/lose count 26.0/5.0. Average score (21.625)\n",
            "Win/lose count 24.5/5.0. Average score (21.523809523809526)\n",
            "Win/lose count 23.0/2.0. Average score (21.5)\n",
            "Win/lose count 26.0/4.0. Average score (21.52173913043478)\n",
            "Win/lose count 27.0/4.0. Average score (21.583333333333332)\n",
            "Win/lose count 18.5/3.0. Average score (21.34)\n",
            "Win/lose count 27.0/3.0. Average score (21.442307692307693)\n",
            "Win/lose count 27.5/4.0. Average score (21.51851851851852)\n",
            "Win/lose count 18.5/2.0. Average score (21.339285714285715)\n",
            "Win/lose count 19.5/2.0. Average score (21.20689655172414)\n",
            "Win/lose count 22.5/3.0. Average score (21.15)\n",
            "Final score: 21.15\n"
          ],
          "name": "stdout"
        },
        {
          "output_type": "execute_result",
          "data": {
            "text/html": [
              "<video alt=\"test\" controls>\n",
              "                <source src=\"data:video/mp4;base64,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\" type=\"video/mp4\" />\n",
              "             </video>"
            ],
            "text/plain": [
              "<IPython.core.display.HTML object>"
            ]
          },
          "metadata": {
            "tags": []
          },
          "execution_count": 47
        }
      ]
    },
    {
      "cell_type": "markdown",
      "metadata": {
        "id": "_F_nVKRqdZR2",
        "colab_type": "text"
      },
      "source": [
        "***\n",
        "***\n",
        "__BONUS question__ Use the expert DQN from the previous question to generate some winning games. Train a model that mimicks its behavior. Compare the performances."
      ]
    },
    {
      "cell_type": "markdown",
      "metadata": {
        "id": "mR7a67WpdZR2",
        "colab_type": "text"
      },
      "source": [
        "***"
      ]
    },
    {
      "cell_type": "code",
      "metadata": {
        "id": "I6e2by_L0Py-",
        "colab_type": "code",
        "colab": {}
      },
      "source": [
        "class Mimic_DQN(Agent):\n",
        "    def __init__(self, grid_size,  epsilon = 0.1, memory_size=100, batch_size = 16,n_state=2):\n",
        "        super(Mimic_DQN, self).__init__(epsilon = epsilon)\n",
        "\n",
        "        # Discount for Q learning\n",
        "        self.discount = 0.95\n",
        "        \n",
        "        self.grid_size = grid_size\n",
        "        \n",
        "        # number of state\n",
        "        self.n_state = n_state\n",
        "\n",
        "        # Memory\n",
        "        self.memory = Memory(memory_size)\n",
        "        \n",
        "        # Batch size when learning\n",
        "        self.batch_size = batch_size\n",
        "\n",
        "    def learned_act(self, s):\n",
        "        return np.argmax(self.model.predict(s.reshape((1,5,5,self.n_state))))\n",
        "            \n",
        "\n",
        "    def reinforce(self, s_, a_):\n",
        "        # Two steps: first memorize the states, second learn from the pool\n",
        "\n",
        "        self.memory.remember([s_[:,:,1:], a_])\n",
        "        \n",
        "        input_states = np.zeros((self.batch_size, 5,5,self.n_state))\n",
        "        target_q = np.zeros((self.batch_size, 4))\n",
        "        \n",
        "        for i in range(self.batch_size):\n",
        "\n",
        "            s_, a_  = self.memory.random_access()\n",
        "            target_q[i, a_] = 5\n",
        "            input_states[i] = s_\n",
        "\n",
        "        l = self.model.train_on_batch(input_states, target_q)\n",
        "        return l\n",
        "\n",
        "    def save(self,name_weights='model.h5',name_model='model.json'):\n",
        "        self.model.save_weights(name_weights, overwrite=True)\n",
        "        with open(name_model, \"w\") as outfile:\n",
        "            json.dump(self.model.to_json(), outfile)\n",
        "            \n",
        "    def load(self,name_weights='model.h5',name_model='model.json'):\n",
        "        with open(name_model, \"r\") as jfile:\n",
        "            model = model_from_json(json.load(jfile))\n",
        "        model.load_weights(name_weights)\n",
        "        model.compile(\"sgd\", \"mse\")\n",
        "        self.model = model\n",
        "\n",
        "            \n",
        "class Mimic_DQN_CNN(Mimic_DQN):\n",
        "    def __init__(self, *args,lr=0.1,**kwargs):\n",
        "        super(Mimic_DQN_CNN, self).__init__(*args,**kwargs)\n",
        "        \n",
        "        ###### FILL IN\n",
        "        model = Sequential()\n",
        "        model.add(Conv2D(32,(2,2),input_shape=(5,5,self.n_state,),activation='relu'))\n",
        "        model.add(Conv2D(64,(2,2),activation='relu'))\n",
        "        model.add(Flatten())\n",
        "        model.add(Dense(4))\n",
        "        \n",
        "        model.compile(sgd(lr=lr, decay=1e-4, momentum=0.0), 'mse')\n",
        "        #model.compile(adam(lr=lr, decay=1e-4), 'mse')\n",
        "        self.model = model\n"
      ],
      "execution_count": 0,
      "outputs": []
    },
    {
      "cell_type": "code",
      "metadata": {
        "id": "YmTrtqmH0gJP",
        "colab_type": "code",
        "colab": {}
      },
      "source": [
        "def train_mimic_agent(expert,agent,env,epoch=70,epsilon=0.1, decay=0.95, prefix=''):\n",
        "    # Number of won games\n",
        "    score = 0\n",
        "    loss = 0\n",
        "\n",
        "    for e in range(epoch):\n",
        "        # At each epoch, we restart to a fresh game and get the initial state\n",
        "        state = env.reset()\n",
        "        # This assumes that the games will terminate\n",
        "        game_over = False\n",
        "\n",
        "        win = 0\n",
        "        lose = 0\n",
        "        \n",
        "        agent.set_epsilon(epsilon)\n",
        "\n",
        "        while not game_over:\n",
        "            # The agent performs an action\n",
        "            action = expert.act(state, train=False)\n",
        "            \n",
        "            # Apply an action to the environment, get the next state, the reward\n",
        "            # and if the games end\n",
        "            prev_state = state\n",
        "            state, reward, game_over = env.act(action, train=True)\n",
        "\n",
        "            # Update the counters\n",
        "            if reward > 0:\n",
        "                win = win + reward\n",
        "            if reward < 0:\n",
        "                lose = lose -reward\n",
        "                \n",
        "            # Apply the reinforcement strategy\n",
        "            loss = agent.reinforce(prev_state,  action)\n",
        "\n",
        "        # Save as a mp4\n",
        "        if e % 10 == 0:\n",
        "            env.draw(prefix+str(e))\n",
        "\n",
        "        # Update stats\n",
        "        score += win-lose\n",
        "\n",
        "        print(\"Epoch {:03d}/{:03d} | Loss {:.4f} | Win/lose count {}/{} ({})\"\n",
        "              .format(e, epoch, loss, win, lose, win-lose))\n",
        "        agent.save(name_weights=prefix+'model.h5',name_model=prefix+'model.json')"
      ],
      "execution_count": 0,
      "outputs": []
    },
    {
      "cell_type": "code",
      "metadata": {
        "id": "7OdeZc540ml-",
        "colab_type": "code",
        "colab": {
          "base_uri": "https://localhost:8080/",
          "height": 1000
        },
        "outputId": "23157aaa-c3a2-4245-bbed-d709553dddc9"
      },
      "source": [
        "expert = agent\n",
        "mimic_agent = Mimic_DQN_CNN(size, lr=.1, epsilon = 0.1, memory_size=2000, batch_size = 16, n_state=2)\n",
        "env = EnvironmentExploring(grid_size=size, max_time=T, temperature=0.3)\n",
        "train_mimic_agent(expert,mimic_agent, env, prefix='mimic_dqn_cnn')"
      ],
      "execution_count": 63,
      "outputs": [
        {
          "output_type": "stream",
          "text": [
            "Epoch 000/070 | Loss 2.4665 | Win/lose count 23.5/21.900000000000002 (1.5999999999999979)\n",
            "Epoch 001/070 | Loss 3.7090 | Win/lose count 27.5/12.099999999999984 (15.400000000000016)\n",
            "Epoch 002/070 | Loss 1.7878 | Win/lose count 17.0/15.899999999999984 (1.1000000000000156)\n",
            "Epoch 003/070 | Loss 2.0650 | Win/lose count 28.0/13.799999999999981 (14.200000000000019)\n",
            "Epoch 004/070 | Loss 1.1878 | Win/lose count 26.5/16.19999999999998 (10.300000000000018)\n",
            "Epoch 005/070 | Loss 2.4070 | Win/lose count 21.5/14.299999999999981 (7.200000000000019)\n",
            "Epoch 006/070 | Loss 2.9208 | Win/lose count 24.0/11.299999999999986 (12.700000000000014)\n",
            "Epoch 007/070 | Loss 2.0643 | Win/lose count 25.0/17.799999999999986 (7.2000000000000135)\n",
            "Epoch 008/070 | Loss 2.6488 | Win/lose count 23.5/18.399999999999988 (5.100000000000012)\n",
            "Epoch 009/070 | Loss 2.2136 | Win/lose count 22.5/17.499999999999982 (5.000000000000018)\n",
            "Epoch 010/070 | Loss 2.8081 | Win/lose count 23.5/16.79999999999999 (6.70000000000001)\n",
            "Epoch 011/070 | Loss 1.4964 | Win/lose count 23.0/19.9 (3.1000000000000014)\n",
            "Epoch 012/070 | Loss 2.1066 | Win/lose count 21.5/19.699999999999992 (1.8000000000000078)\n",
            "Epoch 013/070 | Loss 1.7891 | Win/lose count 26.5/12.499999999999986 (14.000000000000014)\n",
            "Epoch 014/070 | Loss 2.1196 | Win/lose count 28.5/16.099999999999977 (12.400000000000023)\n",
            "Epoch 015/070 | Loss 2.4046 | Win/lose count 25.0/24.000000000000036 (0.9999999999999645)\n",
            "Epoch 016/070 | Loss 1.7295 | Win/lose count 26.5/10.899999999999986 (15.600000000000014)\n",
            "Epoch 017/070 | Loss 1.6256 | Win/lose count 23.0/13.39999999999998 (9.60000000000002)\n",
            "Epoch 018/070 | Loss 1.7290 | Win/lose count 21.5/12.799999999999976 (8.700000000000024)\n",
            "Epoch 019/070 | Loss 1.4793 | Win/lose count 21.0/13.099999999999993 (7.9000000000000075)\n",
            "Epoch 020/070 | Loss 1.3470 | Win/lose count 20.0/12.199999999999985 (7.800000000000015)\n",
            "Epoch 021/070 | Loss 2.0981 | Win/lose count 25.0/13.39999999999998 (11.60000000000002)\n",
            "Epoch 022/070 | Loss 1.3826 | Win/lose count 25.0/11.499999999999991 (13.500000000000009)\n",
            "Epoch 023/070 | Loss 1.8009 | Win/lose count 19.0/15.299999999999985 (3.7000000000000153)\n",
            "Epoch 024/070 | Loss 0.8022 | Win/lose count 23.5/14.299999999999976 (9.200000000000024)\n",
            "Epoch 025/070 | Loss 1.4206 | Win/lose count 17.5/31.300000000000004 (-13.800000000000004)\n",
            "Epoch 026/070 | Loss 1.4840 | Win/lose count 20.0/13.599999999999975 (6.400000000000025)\n",
            "Epoch 027/070 | Loss 1.7419 | Win/lose count 28.0/12.299999999999983 (15.700000000000017)\n",
            "Epoch 028/070 | Loss 2.1270 | Win/lose count 19.0/12.299999999999985 (6.700000000000015)\n",
            "Epoch 029/070 | Loss 0.8655 | Win/lose count 27.0/11.499999999999982 (15.500000000000018)\n",
            "Epoch 030/070 | Loss 0.9978 | Win/lose count 21.5/38.10000000000006 (-16.60000000000006)\n",
            "Epoch 031/070 | Loss 1.0692 | Win/lose count 29.0/11.399999999999986 (17.600000000000016)\n",
            "Epoch 032/070 | Loss 0.9339 | Win/lose count 20.5/17.799999999999997 (2.700000000000003)\n",
            "Epoch 033/070 | Loss 0.9192 | Win/lose count 25.5/13.799999999999981 (11.700000000000019)\n",
            "Epoch 034/070 | Loss 1.0613 | Win/lose count 18.0/20.799999999999983 (-2.799999999999983)\n",
            "Epoch 035/070 | Loss 1.5717 | Win/lose count 21.5/18.899999999999984 (2.6000000000000156)\n",
            "Epoch 036/070 | Loss 0.4365 | Win/lose count 22.5/15.599999999999978 (6.900000000000022)\n",
            "Epoch 037/070 | Loss 0.7490 | Win/lose count 23.5/17.299999999999983 (6.200000000000017)\n",
            "Epoch 038/070 | Loss 1.4601 | Win/lose count 26.5/16.299999999999986 (10.200000000000014)\n",
            "Epoch 039/070 | Loss 1.2934 | Win/lose count 21.0/17.5 (3.5)\n",
            "Epoch 040/070 | Loss 0.8993 | Win/lose count 25.5/15.299999999999978 (10.200000000000022)\n",
            "Epoch 041/070 | Loss 1.1281 | Win/lose count 22.0/15.09999999999998 (6.90000000000002)\n",
            "Epoch 042/070 | Loss 0.9410 | Win/lose count 21.0/16.699999999999978 (4.300000000000022)\n",
            "Epoch 043/070 | Loss 1.0580 | Win/lose count 24.5/14.599999999999978 (9.900000000000022)\n",
            "Epoch 044/070 | Loss 0.9331 | Win/lose count 24.0/16.29999999999999 (7.70000000000001)\n",
            "Epoch 045/070 | Loss 0.7973 | Win/lose count 19.0/20.099999999999987 (-1.0999999999999872)\n",
            "Epoch 046/070 | Loss 0.7638 | Win/lose count 25.5/15.699999999999983 (9.800000000000017)\n",
            "Epoch 047/070 | Loss 1.0627 | Win/lose count 27.0/18.99999999999999 (8.00000000000001)\n",
            "Epoch 048/070 | Loss 1.2153 | Win/lose count 23.5/15.599999999999973 (7.900000000000027)\n",
            "Epoch 049/070 | Loss 0.4972 | Win/lose count 24.0/11.599999999999984 (12.400000000000016)\n",
            "Epoch 050/070 | Loss 0.8098 | Win/lose count 25.0/17.399999999999988 (7.600000000000012)\n",
            "Epoch 051/070 | Loss 0.5690 | Win/lose count 23.0/25.80000000000005 (-2.8000000000000504)\n",
            "Epoch 052/070 | Loss 0.5551 | Win/lose count 22.0/17.299999999999994 (4.700000000000006)\n",
            "Epoch 053/070 | Loss 0.4229 | Win/lose count 24.0/14.19999999999999 (9.80000000000001)\n",
            "Epoch 054/070 | Loss 1.2875 | Win/lose count 27.5/20.499999999999993 (7.000000000000007)\n",
            "Epoch 055/070 | Loss 0.9820 | Win/lose count 20.5/23.000000000000004 (-2.5000000000000036)\n",
            "Epoch 056/070 | Loss 0.6342 | Win/lose count 23.0/13.199999999999982 (9.800000000000018)\n",
            "Epoch 057/070 | Loss 0.8818 | Win/lose count 31.0/17.39999999999998 (13.60000000000002)\n",
            "Epoch 058/070 | Loss 0.8817 | Win/lose count 24.5/13.299999999999986 (11.200000000000014)\n",
            "Epoch 059/070 | Loss 0.8644 | Win/lose count 20.5/15.199999999999983 (5.300000000000017)\n",
            "Epoch 060/070 | Loss 1.0685 | Win/lose count 25.5/17.699999999999992 (7.800000000000008)\n",
            "Epoch 061/070 | Loss 0.8687 | Win/lose count 28.0/13.199999999999982 (14.800000000000018)\n",
            "Epoch 062/070 | Loss 1.1611 | Win/lose count 26.5/14.099999999999982 (12.400000000000018)\n",
            "Epoch 063/070 | Loss 1.0113 | Win/lose count 30.5/12.699999999999987 (17.80000000000001)\n",
            "Epoch 064/070 | Loss 1.1070 | Win/lose count 19.5/13.899999999999983 (5.600000000000017)\n",
            "Epoch 065/070 | Loss 0.3404 | Win/lose count 25.0/25.499999999999982 (-0.49999999999998224)\n",
            "Epoch 066/070 | Loss 0.8307 | Win/lose count 25.5/16.099999999999987 (9.400000000000013)\n",
            "Epoch 067/070 | Loss 0.4649 | Win/lose count 20.0/21.199999999999996 (-1.1999999999999957)\n",
            "Epoch 068/070 | Loss 0.5337 | Win/lose count 24.0/12.299999999999983 (11.700000000000017)\n",
            "Epoch 069/070 | Loss 0.4125 | Win/lose count 19.5/25.799999999999983 (-6.299999999999983)\n"
          ],
          "name": "stdout"
        }
      ]
    },
    {
      "cell_type": "code",
      "metadata": {
        "id": "zfHJU8cC0ppd",
        "colab_type": "code",
        "colab": {
          "base_uri": "https://localhost:8080/",
          "height": 561
        },
        "outputId": "235d095c-d67a-49b8-da12-fb62344ab861"
      },
      "source": [
        "# Evaluation of the Mimic Agent\n",
        "env_test = Environment(grid_size=size, max_time=T,temperature=0.3)\n",
        "print('Test of the Mimic Agent')\n",
        "test(mimic_agent,env_test,epochs_test,prefix='cnn_mimic_agent_test')"
      ],
      "execution_count": 66,
      "outputs": [
        {
          "output_type": "stream",
          "text": [
            "Test of the Mimic Agent\n",
            "Win/lose count 9.5/2.0. Average score (7.5)\n",
            "Win/lose count 5.0/5.0. Average score (3.75)\n",
            "Win/lose count 9.5/2.0. Average score (5.0)\n",
            "Win/lose count 14.5/5.0. Average score (6.125)\n",
            "Win/lose count 14.5/13.0. Average score (5.2)\n",
            "Win/lose count 11.0/5.0. Average score (5.333333333333333)\n",
            "Win/lose count 16.5/11.0. Average score (5.357142857142857)\n",
            "Win/lose count 13.0/5.0. Average score (5.6875)\n",
            "Win/lose count 12.0/1.0. Average score (6.277777777777778)\n",
            "Win/lose count 6.5/3.0. Average score (6.0)\n",
            "Win/lose count 6.0/4.0. Average score (5.636363636363637)\n",
            "Win/lose count 12.0/10.0. Average score (5.333333333333333)\n",
            "Win/lose count 15.5/5.0. Average score (5.730769230769231)\n",
            "Win/lose count 3.0/3.0. Average score (5.321428571428571)\n",
            "Win/lose count 11.0/1.0. Average score (5.633333333333334)\n",
            "Win/lose count 13.0/4.0. Average score (5.84375)\n",
            "Win/lose count 14.0/9.0. Average score (5.794117647058823)\n",
            "Win/lose count 3.5/4.0. Average score (5.444444444444445)\n",
            "Win/lose count 8.0/5.0. Average score (5.315789473684211)\n",
            "Win/lose count 13.5/5.0. Average score (5.475)\n",
            "Win/lose count 23.5/9.0. Average score (5.904761904761905)\n",
            "Win/lose count 14.0/5.0. Average score (6.045454545454546)\n",
            "Win/lose count 7.5/3.0. Average score (5.978260869565218)\n",
            "Win/lose count 8.5/4.0. Average score (5.916666666666667)\n",
            "Win/lose count 25.5/9.0. Average score (6.34)\n",
            "Win/lose count 17.5/9.0. Average score (6.423076923076923)\n",
            "Win/lose count 19.5/7.0. Average score (6.648148148148148)\n",
            "Win/lose count 23.0/9.0. Average score (6.910714285714286)\n",
            "Win/lose count 11.5/6.0. Average score (6.862068965517241)\n",
            "Win/lose count 12.0/4.0. Average score (6.9)\n",
            "Final score: 6.9\n"
          ],
          "name": "stdout"
        }
      ]
    },
    {
      "cell_type": "markdown",
      "metadata": {
        "id": "MvMKsclB6q8j",
        "colab_type": "text"
      },
      "source": [
        "It  doesn't bring better results but it computs way faster."
      ]
    }
  ]
}