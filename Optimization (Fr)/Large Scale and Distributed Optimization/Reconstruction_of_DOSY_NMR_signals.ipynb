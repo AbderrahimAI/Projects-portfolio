{
 "cells": [
  {
   "cell_type": "markdown",
   "metadata": {},
   "source": [
    "# MEHDAOUI Abderrahim \n",
    "# Partie 1 du TP"
   ]
  },
  {
   "cell_type": "markdown",
   "metadata": {},
   "source": [
    "## 2 - Generation of synthetic data"
   ]
  },
  {
   "cell_type": "markdown",
   "metadata": {},
   "source": [
    "### Question 1 et importation des packages"
   ]
  },
  {
   "cell_type": "code",
   "execution_count": 1,
   "metadata": {},
   "outputs": [],
   "source": [
    "import pandas as pd\n",
    "import numpy as np\n",
    "import matplotlib.pyplot as plt\n",
    "import scipy.special\n",
    "\n",
    "# Importation du signal\n",
    "xbar = np.genfromtxt('signal.txt', usecols=0, dtype=float)"
   ]
  },
  {
   "cell_type": "markdown",
   "metadata": {},
   "source": [
    "### Question 2"
   ]
  },
  {
   "cell_type": "code",
   "execution_count": 2,
   "metadata": {},
   "outputs": [],
   "source": [
    "N = 200\n",
    "Tmin = 1\n",
    "Tmax = 1000\n",
    "T = []\n",
    "logT=np.log(Tmin/Tmax)\n",
    "logT = logT/(N-1)\n",
    "for i in range(200):\n",
    "    Tval=Tmin*np.exp(-i*logT)\n",
    "    T.append(Tval)"
   ]
  },
  {
   "cell_type": "markdown",
   "metadata": {},
   "source": [
    "### Question 3 "
   ]
  },
  {
   "cell_type": "code",
   "execution_count": 3,
   "metadata": {},
   "outputs": [
    {
     "data": {
      "text/plain": [
       "<function matplotlib.pyplot.show(*args, **kw)>"
      ]
     },
     "execution_count": 3,
     "metadata": {},
     "output_type": "execute_result"
    },
    {
     "data": {
      "image/png": "[encoded data removed]",
      "text/plain": [
       "<Figure size 432x288 with 1 Axes>"
      ]
     },
     "metadata": {
      "needs_background": "light"
     },
     "output_type": "display_data"
    }
   ],
   "source": [
    "fig = plt.plot(T,xbar)\n",
    "plt.xscale(\"log\")\n",
    "plt.show"
   ]
  },
  {
   "cell_type": "markdown",
   "metadata": {},
   "source": [
    "### Question 4"
   ]
  },
  {
   "cell_type": "code",
   "execution_count": 4,
   "metadata": {},
   "outputs": [],
   "source": [
    "M = 50\n",
    "tmin = 0\n",
    "tmax = 1.5\n",
    "t = []\n",
    "for m in range(1,M+1):\n",
    "    tval=tmin+((m-1)/(M-1))*(tmax-tmin)\n",
    "    t.append(tval)"
   ]
  },
  {
   "cell_type": "markdown",
   "metadata": {},
   "source": [
    "### Question 5"
   ]
  },
  {
   "cell_type": "code",
   "execution_count": 5,
   "metadata": {},
   "outputs": [],
   "source": [
    "Tmat = np.asmatrix(T)\n",
    "tmat = np.asmatrix(t)\n",
    "t_trans = np.transpose(tmat)\n",
    "temp = t_trans.dot(Tmat)\n",
    "K = np.exp(-temp)"
   ]
  },
  {
   "cell_type": "markdown",
   "metadata": {},
   "source": [
    "### Question 6"
   ]
  },
  {
   "cell_type": "code",
   "execution_count": 6,
   "metadata": {},
   "outputs": [],
   "source": [
    "xbarmat = np.transpose(np.asmatrix(xbar))\n",
    "Kx=np.dot(K,xbarmat)\n",
    "sigma=0.01*Kx[0]\n",
    "w=sigma*np.random.randn(50)\n",
    "y = Kx+np.transpose(w)"
   ]
  },
  {
   "cell_type": "markdown",
   "metadata": {},
   "source": [
    "### Question 7"
   ]
  },
  {
   "cell_type": "code",
   "execution_count": 7,
   "metadata": {},
   "outputs": [
    {
     "data": {
      "text/plain": [
       "<function matplotlib.pyplot.show(*args, **kw)>"
      ]
     },
     "execution_count": 7,
     "metadata": {},
     "output_type": "execute_result"
    },
    {
     "data": {
      "image/png": "[encoded data removed]",
      "text/plain": [
       "<Figure size 432x288 with 1 Axes>"
      ]
     },
     "metadata": {
      "needs_background": "light"
     },
     "output_type": "display_data"
    }
   ],
   "source": [
    "fig2 = plt.plot(np.transpose(t),y)\n",
    "plt.show"
   ]
  },
  {
   "cell_type": "markdown",
   "metadata": {},
   "source": [
    "## 3 - Comparison of regularization strategies"
   ]
  },
  {
   "cell_type": "markdown",
   "metadata": {},
   "source": [
    "Maintenant que le signal est créé, nous allons tenter de résoudre le problème d'optimisation avec 3 fontions de pénalisation g(x) différentes. Elles sont définies ci-dessous.\n",
    "\n",
    "Smoothness prior : \n",
    "$$ g(x) = \\frac{1}{2}||Dx||^2 $$\n",
    "Smoothness prior + constraints :\n",
    "$$ g(x) = \\frac{1}{2}||Dx||^2 + i_{[xmin,xmax]}(x) $$\n",
    "Sparcity prior :\n",
    "$$ g(x) = ||x||_1 $$"
   ]
  },
  {
   "cell_type": "code",
   "execution_count": 8,
   "metadata": {},
   "outputs": [],
   "source": [
    "#Calcule l'erreur entre la solution trouvée et le signal\n",
    "def errquadra(x,sol):\n",
    "    if x.shape != sol.shape:\n",
    "        return 'pb de dimension'\n",
    "    return (np.linalg.norm(x-sol)**2/np.linalg.norm(x,2)**2)"
   ]
  },
  {
   "cell_type": "markdown",
   "metadata": {},
   "source": [
    "### Smoothness prior\n",
    "\n",
    "$$ \\hat{x}= argmin \\frac{1}{2}||Kx-y||^2 +\\beta (\\frac{1}{2}||Dx||^2 $$\n",
    "\n",
    "Existence et unicité de la solution  : La solution existe et est unique puisque la fonction à minimiser est strictement convexe par somme de fonction convexe et strictement convexe.\n",
    "\n",
    "Le problème possède d'ailleurs une solution analytique qu'on explicite ci-dessous.\n",
    "\n",
    "$$ L(x) = \\frac{1}{2}||Kx-y||^2 +\\frac{\\beta}{2}||Dx||^2 $$\n",
    "On résout $$ \\frac{\\partial L}{\\partial x}(x=x^*) = K^T (Kx^* -y)+\\beta D^T Dx^* =0 $$\n",
    "$$ \\rightarrow (K^T K + \\beta D^T D)x^* = K^T y $$\n",
    "$$ \\rightarrow x^* = (K^T K + \\beta D^T D)^{-1} K^T y $$"
   ]
  },
  {
   "cell_type": "code",
   "execution_count": 9,
   "metadata": {},
   "outputs": [],
   "source": [
    "betalist = [1e-5, 5e-5, 1e-4, 1e-3, 1e-2, 1e-1,0.3,0.5,1,3,7,10,25]\n",
    "xgood = 0\n",
    "bgood = 0\n",
    "err = 100000\n",
    "\n",
    "Kt = np.transpose(K)\n",
    "KtK = Kt.dot(K)\n",
    "\n",
    "#definition de D\n",
    "D = np.eye(N)\n",
    "D[0][N-1]=-1\n",
    "for i in range(1,N):\n",
    "    D[i][i-1]=-1\n",
    "    \n",
    "DtD = np.transpose(D).dot(D)\n",
    "\n",
    "for beta in betalist:\n",
    "    xestim = np.linalg.inv((KtK+beta*DtD)).dot(Kt).dot(y)\n",
    "    errestim = errquadra(xbarmat, xestim)\n",
    "    if errestim < err:\n",
    "        err = errestim\n",
    "        xgood = xestim\n",
    "        bgood = beta"
   ]
  },
  {
   "cell_type": "code",
   "execution_count": 10,
   "metadata": {},
   "outputs": [
    {
     "name": "stdout",
     "output_type": "stream",
     "text": [
      "erreur minimale : 0.14016248409178267\n",
      "beta optimal 0.5\n"
     ]
    }
   ],
   "source": [
    "#Affichage de l'erreur quadratique minimale et du beta correspondant\n",
    "print('erreur minimale : ' + str(err))\n",
    "print('beta optimal ' + str(bgood))"
   ]
  },
  {
   "cell_type": "code",
   "execution_count": 11,
   "metadata": {},
   "outputs": [
    {
     "data": {
      "text/plain": [
       "<matplotlib.legend.Legend at 0x81b75f898>"
      ]
     },
     "execution_count": 11,
     "metadata": {},
     "output_type": "execute_result"
    },
    {
     "data": {
      "image/png": "[encoded data removed]",
      "text/plain": [
       "<Figure size 432x288 with 1 Axes>"
      ]
     },
     "metadata": {
      "needs_background": "light"
     },
     "output_type": "display_data"
    }
   ],
   "source": [
    "#Comparaison des deux signaux\n",
    "plt.plot(T,xbar)\n",
    "plt.plot(T,xgood)\n",
    "plt.xscale(\"log\")\n",
    "plt.title('Smoothness prior')\n",
    "plt.legend(['signal à retrouver','solution algorithme'])"
   ]
  },
  {
   "cell_type": "markdown",
   "metadata": {},
   "source": [
    "Cette réponse est variable en fonction du bruit. On n'obtient des valeurs de beta très différentes selon la sortie du bruit.\n",
    "On a même parfois des valeurs négatives pour la solution de l'algorithme. \n",
    "La valeur de beta qui minimise l'erreur est ici de 1."
   ]
  },
  {
   "cell_type": "markdown",
   "metadata": {},
   "source": [
    "### Smoothness prior + constraints\n",
    "\n",
    "$$ \\hat{x}= argmin \\frac{1}{2}||Kx-y||^2 +\\beta \\left( \\frac{1}{2}||Dx||^2 + i_{[xmin,xmax]}(x) \\right) $$\n",
    "\n",
    "Existence et unicité : La solution existe et est unique car la fonction à minimiser est strictement convexe par somme de fonction convexe et strictement convexe. \n",
    "\n",
    "On sépare cette fonction en 2 fonctions :\n",
    "$$ \\hat{x}= argmin (f(x)+g(x)) $$\n",
    "avec f non différentiable et g différentiable :\n",
    "$$ f(x)= \\beta i_{[xmin,xmax]}(x) $$\n",
    "$$ g(x)= \\frac{1}{2}||Kx-y||^2 +\\beta \\frac{1}{2}||Dx||^2 $$\n",
    "\n",
    "On a C=[xmin,xmax] un sous ensemble de R, la fonction g(x) est différentiable et lipschitzienne. Nous savons qu'une solution de ce problème existe sur C. On utilise donc la méthode du gradient projeté. \n",
    "\n",
    "$$  y_{n}=x_{n}-\\gamma \\nabla g(x_{n}) $$\n",
    "$$ x_{n+1}=x_{n}+\\lambda (P_{C}y_{n}-x_{n}) $$\n",
    "\n",
    "Avec : \n",
    "\n",
    "$$ \\nabla g(x)=K^T (Kx-y) +\\beta D^T Dx$$\n",
    "\n",
    "$$\\begin{equation*}\n",
    "    P_{C}(y_{n} = \\begin{cases}\n",
    "               x_{min}      & y_{n} < x_{min}\\\\\n",
    "               x_{max}      & y_{n} > x_{max}\\\\\n",
    "               y_{n}        & \\text{sinon}\n",
    "           \\end{cases}\n",
    "\\end{equation*} $$"
   ]
  },
  {
   "cell_type": "code",
   "execution_count": 12,
   "metadata": {},
   "outputs": [],
   "source": [
    "def grad(x, beta):\n",
    "    return KtK.dot(x) + beta*DtD.dot(x) - Kt.dot(y)\n",
    "def proj(x):\n",
    "    return np.matrix(np.clip(x, np.amin(xbar),np.amax(xbar)))"
   ]
  },
  {
   "cell_type": "code",
   "execution_count": 13,
   "metadata": {},
   "outputs": [],
   "source": [
    "def grad_proj(beta):\n",
    "    L = np.max(np.linalg.eigvals(KtK + beta*DtD))\n",
    "    gamma = 0.999*2/L\n",
    "    delta = 2-gamma*L/2\n",
    "    lmb = delta*0.999\n",
    "    \n",
    "    xn = np.zeros([N,1]) #initialisation\n",
    "    tol = 1e-4\n",
    "    it = 0\n",
    "    it_max = 40000\n",
    "    converged = False\n",
    "    \n",
    "    while converged == False and it<it_max:\n",
    "        it += 1\n",
    "        yn = xn - gamma*grad(xn,beta)\n",
    "        xnp1 = xn + lmb*(proj(yn)-xn)   \n",
    "        if errquadra(xn,xnp1)<tol:\n",
    "            Converged = True\n",
    "        xn = xnp1  \n",
    "    #print('pour beta = '+str(beta))\n",
    "    #print(it)\n",
    "    return xnp1"
   ]
  },
  {
   "cell_type": "code",
   "execution_count": 14,
   "metadata": {
    "scrolled": false
   },
   "outputs": [
    {
     "name": "stderr",
     "output_type": "stream",
     "text": [
      "/Users/abderrahim/anaconda3/lib/python3.7/site-packages/ipykernel_launcher.py:5: RuntimeWarning: divide by zero encountered in double_scalars\n",
      "  \"\"\"\n"
     ]
    }
   ],
   "source": [
    "err = 10000\n",
    "bgood2 = 0\n",
    "xgood2 = []\n",
    "for b in betalist:\n",
    "    xestim = grad_proj(b)\n",
    "    errtest = np.linalg.norm(xbarmat-xestim)**2/np.linalg.norm(xbarmat)**2\n",
    "    if errtest<err:\n",
    "        err = errtest\n",
    "        bgood2 = b\n",
    "        xgood2 = xestim"
   ]
  },
  {
   "cell_type": "code",
   "execution_count": 15,
   "metadata": {},
   "outputs": [
    {
     "name": "stdout",
     "output_type": "stream",
     "text": [
      "erreur minimale : 0.031548370858901144\n",
      "beta optimal 0.01\n"
     ]
    }
   ],
   "source": [
    "print('erreur minimale : ' +str(err))\n",
    "print('beta optimal ' + str(bgood2))"
   ]
  },
  {
   "cell_type": "code",
   "execution_count": 16,
   "metadata": {},
   "outputs": [
    {
     "data": {
      "text/plain": [
       "<matplotlib.legend.Legend at 0x8175e2710>"
      ]
     },
     "execution_count": 16,
     "metadata": {},
     "output_type": "execute_result"
    },
    {
     "data": {
      "image/png": "[encoded data removed]",
      "text/plain": [
       "<Figure size 432x288 with 1 Axes>"
      ]
     },
     "metadata": {
      "needs_background": "light"
     },
     "output_type": "display_data"
    }
   ],
   "source": [
    "#Comparaison des deux signaux\n",
    "plt.plot(T,xbar)\n",
    "plt.plot(T,xgood2)\n",
    "plt.xscale(\"log\")\n",
    "plt.title('Smoothness prior with constraints')\n",
    "plt.legend(['signal à retrouver','solution algorithme'])"
   ]
  },
  {
   "cell_type": "markdown",
   "metadata": {},
   "source": [
    "Cette méthode est de plus en plus précise lorsqu'on augmente le nombre d'itérations (ici 40k pour éviter d'attendre trop). De plus, la solution approchée ne possède pas de valeurs négatives\n",
    "\n",
    "La valeur de beta qui minimise l'erreur est de 0.3. On apporte donc plus d'importance à la similitude au signal observé qu'à la régularisation de la fonction. Quand on compare les deux signaux, la solution trouvée est proche de la réalité. Les deux pics sont bien situés et d'amplitude très proche, on identifie quand donc bien les 2 composants."
   ]
  },
  {
   "cell_type": "markdown",
   "metadata": {},
   "source": [
    "### Sparsity prior\n",
    "\n",
    "$$ \\hat{x}= argmin \\frac{1}{2}||Kx-y||^2 +\\beta ||x||_{1}$$\n",
    "\n",
    "Existence et unicité de la solution : cf smoothness prior + constraints\n",
    "\n",
    "\n",
    "On sépare cette fonction en 2 fonctions :\n",
    "$$ \\hat{x}= argmin f(x) + g(x) $$\n",
    "avec f non différentiable et g différentiable :\n",
    "$$ f(x)= \\beta ||x||_{1} $$\n",
    "$$ g(x)= \\frac{1}{2}||Kx-y||^2 $$\n",
    "\n",
    "Ici g(x) n'est pas différentiable en 0. On peut donc utiliser l'algorithme de Forward Backward.\n",
    "$$ y_{n}=x_{n}-\\gamma \\nabla g(x_{n}) $$\n",
    "$$ x_{n+1}=x_{n} +\\lambda_{n}(prox_{\\gamma f}y_{n}-x_{n}) $$\n",
    "\n",
    "Avec :\n",
    "$$ \\nabla g(x)=K^T(Kx-y) $$\n",
    "$$ prox_{\\gamma f}y_{n}=argmin \\gamma f(y) +\\frac{1}{2} ||y-y_{n}||^2 $$\n",
    "$$ \\beta \\gamma |p_{f}| +p_{f}-y_{n}=0 $$\n",
    "$$ p_{f}= y_{n}-max(0,|y_{n}|- \\gamma *\\beta) $$\n",
    "\n"
   ]
  },
  {
   "cell_type": "code",
   "execution_count": 17,
   "metadata": {},
   "outputs": [],
   "source": [
    "def prox(x, beta, gamma): #vu en cours\n",
    "    return np.multiply(np.sign(x), np.maximum(np.abs(x)-beta*gamma,0))\n",
    "\n",
    "def grad_sparsity(x):\n",
    "    return KtK.dot(x) - Kt.dot(y)"
   ]
  },
  {
   "cell_type": "code",
   "execution_count": 18,
   "metadata": {},
   "outputs": [],
   "source": [
    "def forward_backward(beta):\n",
    "    L = np.max(np.linalg.eigvals(KtK+beta*DtD))\n",
    "    gamma = 2/L*0.999\n",
    "    delta = 2 - gamma*L/2\n",
    "    lmb = delta*0.999\n",
    "    \n",
    "    xn = np.zeros([N,1]) #initialisation\n",
    "    tol = 1e-5\n",
    "    it = 0\n",
    "    it_max = 40000\n",
    "    converged = False\n",
    "    \n",
    "    while converged == False and it<it_max:\n",
    "        it +=1\n",
    "        yn = xn-gamma*grad_sparsity(xn)\n",
    "        xnp1 = xn+lmb*(prox(yn, beta, gamma)-xn)\n",
    "        if errquadra(xn,xnp1)<tol:\n",
    "            converged = True\n",
    "        xn = xnp1\n",
    "    #print('pour beta = '+str(beta))\n",
    "    #print(it)\n",
    "    return xnp1"
   ]
  },
  {
   "cell_type": "code",
   "execution_count": 19,
   "metadata": {
    "scrolled": true
   },
   "outputs": [
    {
     "name": "stderr",
     "output_type": "stream",
     "text": [
      "/Users/abderrahim/anaconda3/lib/python3.7/site-packages/ipykernel_launcher.py:5: RuntimeWarning: divide by zero encountered in double_scalars\n",
      "  \"\"\"\n",
      "/Users/abderrahim/anaconda3/lib/python3.7/site-packages/ipykernel_launcher.py:5: RuntimeWarning: invalid value encountered in double_scalars\n",
      "  \"\"\"\n"
     ]
    }
   ],
   "source": [
    "err= 10000\n",
    "bgood3 = 0\n",
    "xgood3 = []\n",
    "for b in betalist:\n",
    "    xestim = forward_backward(b)\n",
    "    errtest = errquadra(xbarmat,xestim)\n",
    "    if errtest<err:\n",
    "        err = errtest\n",
    "        bgood3 = b\n",
    "        xgood3 = xestim"
   ]
  },
  {
   "cell_type": "code",
   "execution_count": 20,
   "metadata": {},
   "outputs": [
    {
     "name": "stdout",
     "output_type": "stream",
     "text": [
      "erreur minimale : 0.2394974224651324\n",
      "beta optimal 0.0001\n"
     ]
    }
   ],
   "source": [
    "print('erreur minimale : ' + str(err))\n",
    "print('beta optimal ' + str(bgood3))"
   ]
  },
  {
   "cell_type": "code",
   "execution_count": 21,
   "metadata": {},
   "outputs": [
    {
     "data": {
      "text/plain": [
       "<matplotlib.legend.Legend at 0x81de46cc0>"
      ]
     },
     "execution_count": 21,
     "metadata": {},
     "output_type": "execute_result"
    },
    {
     "data": {
      "image/png": "[encoded data removed]",
      "text/plain": [
       "<Figure size 432x288 with 1 Axes>"
      ]
     },
     "metadata": {
      "needs_background": "light"
     },
     "output_type": "display_data"
    }
   ],
   "source": [
    "#Comparaison des deux signaux\n",
    "plt.plot(T,xbar)\n",
    "plt.plot(T,xgood3)\n",
    "plt.xscale(\"log\")\n",
    "plt.title('Sparsity prior')\n",
    "plt.legend(['signal à retrouver','solution algorithme'])"
   ]
  },
  {
   "cell_type": "markdown",
   "metadata": {},
   "source": [
    "L'hyperparamètre optimal beta est 1e-4. \n",
    "L'amplitude des pics n'est pas similaire mais permet d'identifier les composants de manière approchée.\n",
    "On remarque  l'algorithm converge plus rapidment avec la fonction sparsity (1536 contre 40k+)."
   ]
  },
  {
   "cell_type": "markdown",
   "metadata": {},
   "source": [
    "# TP Partie 2"
   ]
  },
  {
   "cell_type": "markdown",
   "metadata": {},
   "source": [
    "### Question 1\n",
    "\n",
    "$$ \\hat{x}= argmin \\frac{1}{2}||Kx-y||^2 +\\beta ent(x) $$\n",
    "avec\n",
    "$$ \\forall x \\in \\mathbb{R}^{N}, ent(x)= \\sum \\varphi (x^{(n)}) $$\n",
    "et\n",
    "$$\\begin{equation*}\n",
    "    \\varphi (u) = \\begin{cases}\n",
    "               u \\log{(u)}    & u > 0\\\\\n",
    "               0            & u = 0\\\\\n",
    "               + \\infty     & \\text{sinon}\n",
    "           \\end{cases}\n",
    "\\end{equation*} $$\n",
    "\n",
    "\n",
    "Cette fonction est convexe, en effet :\n",
    "$$ si u>0, \\phi '' (u)=\\frac {1}{u}>0 $$\n",
    "\n",
    "Cette fonction est propre car son domaine est non vide. En effet :\n",
    "$$ dom_{\\phi}= [0,+ \\infty [ $$\n",
    "\n",
    "Cette fonction est semi-continue car son épigraphe est fermé.\n",
    "\n",
    "Cette fonction n'est pas différentiable en 0, donc elle n'est pas différentiable.\n",
    "\n",
    "\n",
    "### Question 2 \n",
    "\n",
    "La fonction à minimiser est propre, semi-continue positive et coercive. D'après le théorème d'existence, il existe une solution à ce problème d'optimisation. \n",
    "\n",
    "La fonction à minimiser est strictement convexe par somme de fonction convexe et strictement convexe. Donc la solution est unique. \n",
    "\n",
    "### Question 3\n",
    "\n",
    "On a :\n",
    "$$ prox_{\\gamma ent}(x) = prox_{\\gamma}(\\varphi (x^{(i)})_{i \\in [1,N]}$$\n",
    "$$ prox_{\\gamma ent}(u) = argmin_{v \\in R} \\left( \\frac{1}{2} (v-u)^{2} + \\gamma v \\log{(v)} \\right) $$\n",
    "$$ \\frac {dh}{du} (v) = v-u + \\gamma (\\log{(v)}+1) $$\n",
    "$$ 0 = \\frac {dh}{du} (v) \\Longleftrightarrow  \\frac {1}{\\gamma} \\exp{ \\left( \\frac {u}{\\gamma} \\right) } = \\frac {v}{\\gamma} \\exp{\\left( \\frac {v}{\\gamma} +1 \\right)}$$\n",
    "$$ \\Longleftrightarrow  \\frac {v}{\\gamma} \\exp{\\left(\\frac {v}{\\gamma} \\right)} = \\exp{\\left( \\frac {u}{\\gamma} -1 - \\log{(\\gamma)} \\right)}$$\n",
    "$$ \\Rightarrow v = \\gamma W \\left( \\exp{\\left( \\frac {u}{\\gamma} -1 - \\log{(\\gamma)} \\right)} \\right) $$"
   ]
  },
  {
   "cell_type": "markdown",
   "metadata": {},
   "source": [
    "### Question 4 \n",
    "\n",
    "Afin de résoudre ce problème d'optimisation, on sépare la fonction à minimiser en 2 fonctions :\n",
    "$$ \\hat{x} = argmin \\left( f(x) + g(x) \\right) $$\n",
    "avec f différentiable et g non différentiable :\n",
    "$$ f(x)= \\frac{1}{2}||Kx-y||^2 $$\n",
    "$$ g(x)= \\beta ent(x) $$\n",
    "\n",
    "On peut donc appliquer les algorithmes Forward Backward et de Douglas Rachford : \n",
    "<ul>\n",
    "<li>Forward-Backward\n",
    "$$ y_{n}=x_{n}-\\gamma \\nabla g(x_{n}) $$\n",
    "$$ x_{n+1}=x_{n} +\\lambda_{n}(prox_{\\gamma f}y_{n}-x_{n}) $$ </li>\n",
    "<li>Douglas Rachford\n",
    "$$ y_{n}=prox_{\\gamma g}(x_{n}) $$\n",
    "$$ z_{n}=prox_{\\gamma f}(2y_{n}-x_{n}) $$\n",
    "$$ x_{n+1}=x_{n} +\\lambda_{n}(z_{n}-x_{n}) $$ </li>\n",
    "</ul>"
   ]
  },
  {
   "cell_type": "markdown",
   "metadata": {},
   "source": [
    "Nous avons donc besoin de calculer les prox des fonctions γf et γg :\n",
    "$$ p_{\\gamma g}=\\beta \\gamma W \\left( \\frac{1}{\\beta \\gamma} exp(\\frac{x}{\\beta \\gamma}-1) \\right)$$\n",
    "\n",
    "$$ p_{\\gamma f} = \\left(\\gamma K^T K + Id)^{-1} (x+ \\gamma K^T y \\right) $$\n",
    "\n",
    "On a donc :\n",
    "<ul>\n",
    "<li>Forward-Backward\n",
    "$$ y_{n}= x_{n} -\\gamma K^T(Kx_{n}-y) $$\n",
    "$$ x_{n+1}= x_{n} +\\lambda_{n}(\\beta \\gamma W \\left( \\frac{1}{\\beta \\gamma} exp(\\frac{y_{n}}{\\beta \\gamma}-1))-x_{n} \\right) $$</li>\n",
    "<li>Douglas Rachford\n",
    "$$ y_{n}=(Id+ \\gamma K^T K)^{-1} (x_{n}+ \\gamma K^T y) $$\n",
    "$$ z_{n}=\\beta \\gamma W(\\frac{1}{\\beta \\gamma} exp(\\frac{(2y_{n}-x_{n})}{\\beta \\gamma}-1)) $$\n",
    "$$ x_{n+1}=x_{n} +\\lambda_{n}(z_{n}-x_{n}) $$ </li>\n",
    "</ul>"
   ]
  },
  {
   "cell_type": "code",
   "execution_count": 22,
   "metadata": {},
   "outputs": [],
   "source": [
    "KtK = Kt.dot(K)\n",
    "prox_f = lambda x : np.linalg.inv(KtK+np.eye(N)).dot(x+Kt.dot(y))\n",
    "prox_g = lambda u, beta, gamma : gamma*beta*np.real(scipy.special.lambertw(1/(beta*gamma)*np.exp(u/(beta*gamma)-1), 0))"
   ]
  },
  {
   "cell_type": "code",
   "execution_count": 23,
   "metadata": {},
   "outputs": [],
   "source": [
    "def douglas_rashford(beta, gamma):\n",
    "    converged = False\n",
    "    it_max = 25000\n",
    "    it = 0\n",
    "    lmb = 1/2\n",
    "    xn = np.zeros([N,1])\n",
    "    tol = 1e-5\n",
    "    while it < it_max and converged == False:\n",
    "        it += 1\n",
    "        yn = prox_g(xn, beta, gamma)\n",
    "        zn = prox_f(2*yn-xn)\n",
    "        xnp1 = xn + lmb*(zn-yn)\n",
    "        if errquadra(xn, xnp1)<tol:\n",
    "            converged = True\n",
    "        xn = xnp1\n",
    "    #print('pour beta, gamma = '+str(beta)+' ,'+str(gamma))\n",
    "    #print(it)\n",
    "    return xnp1"
   ]
  },
  {
   "cell_type": "code",
   "execution_count": 24,
   "metadata": {},
   "outputs": [
    {
     "name": "stderr",
     "output_type": "stream",
     "text": [
      "/Users/abderrahim/anaconda3/lib/python3.7/site-packages/ipykernel_launcher.py:5: RuntimeWarning: divide by zero encountered in double_scalars\n",
      "  \"\"\"\n",
      "/Users/abderrahim/anaconda3/lib/python3.7/site-packages/ipykernel_launcher.py:11: RuntimeWarning: invalid value encountered in subtract\n",
      "  # This is added back by InteractiveShellApp.init_path()\n",
      "/Users/abderrahim/anaconda3/lib/python3.7/site-packages/ipykernel_launcher.py:12: RuntimeWarning: invalid value encountered in subtract\n",
      "  if sys.path[0] == '':\n"
     ]
    }
   ],
   "source": [
    "err = 10000\n",
    "bgood4 = 0\n",
    "gamgood = 0\n",
    "xgood4 = []\n",
    "for b in betalist:\n",
    "    for g in [0.5,1,1.5]:\n",
    "        xestim = douglas_rashford(b,g)\n",
    "        errtest = errquadra(xbarmat,xestim)\n",
    "        if errtest<err:\n",
    "            err = errtest\n",
    "            bgood4 = b\n",
    "            xgood4 = xestim\n",
    "            gamgood = g"
   ]
  },
  {
   "cell_type": "code",
   "execution_count": 25,
   "metadata": {
    "scrolled": true
   },
   "outputs": [
    {
     "name": "stdout",
     "output_type": "stream",
     "text": [
      "erreur minimale : 0.08141474570127581\n",
      "beta optimal : 5e-05\n",
      "gamma optimal : 1\n"
     ]
    }
   ],
   "source": [
    "print('erreur minimale : ' + str(err))\n",
    "print('beta optimal : ' + str(bgood4))\n",
    "print('gamma optimal : ' + str(gamgood))"
   ]
  },
  {
   "cell_type": "code",
   "execution_count": 26,
   "metadata": {},
   "outputs": [
    {
     "data": {
      "text/plain": [
       "<matplotlib.legend.Legend at 0x81df70e80>"
      ]
     },
     "execution_count": 26,
     "metadata": {},
     "output_type": "execute_result"
    },
    {
     "data": {
      "image/png": "[encoded data removed]",
      "text/plain": [
       "<Figure size 432x288 with 1 Axes>"
      ]
     },
     "metadata": {
      "needs_background": "light"
     },
     "output_type": "display_data"
    }
   ],
   "source": [
    "plt.plot(T,xbar)\n",
    "plt.plot(T,xgood4)\n",
    "plt.xscale(\"log\")\n",
    "plt.title('Douglas Rashford')\n",
    "plt.legend(['signal à retrouver', 'solution algorithme'])"
   ]
  },
  {
   "cell_type": "code",
   "execution_count": 27,
   "metadata": {},
   "outputs": [],
   "source": [
    "def forward_backward2(beta):\n",
    "    L = np.max(np.linalg.eigvals(KtK))\n",
    "    gamma = 2/L*0.999\n",
    "    delta = 2 - gamma*L/2\n",
    "    lmb = 1/2\n",
    "    \n",
    "    grad = lambda x : KtK.dot(x)-Kt.dot(y)\n",
    "    \n",
    "    xn = np.zeros([N,1]) #initialisation\n",
    "    tol = 1e-5\n",
    "    it = 0\n",
    "    it_max = 40000\n",
    "    converged = False\n",
    "    \n",
    "    while converged == False and it<it_max:\n",
    "        it +=1\n",
    "        yn = xn-gamma*grad(xn)\n",
    "        xnp1 = xn+lmb*(prox_g(yn, beta, gamma)-xn)\n",
    "        if errquadra(xn,xnp1)<tol:\n",
    "            converged = True\n",
    "        xn = xnp1\n",
    "    #print('pour beta = '+str(beta))\n",
    "    #print(it)\n",
    "    return xnp1"
   ]
  },
  {
   "cell_type": "code",
   "execution_count": 28,
   "metadata": {},
   "outputs": [
    {
     "name": "stderr",
     "output_type": "stream",
     "text": [
      "/Users/abderrahim/anaconda3/lib/python3.7/site-packages/ipykernel_launcher.py:3: RuntimeWarning: overflow encountered in exp\n",
      "  This is separate from the ipykernel package so we can avoid doing imports until\n",
      "/Users/abderrahim/anaconda3/lib/python3.7/site-packages/ipykernel_launcher.py:3: RuntimeWarning: invalid value encountered in multiply\n",
      "  This is separate from the ipykernel package so we can avoid doing imports until\n",
      "/Users/abderrahim/anaconda3/lib/python3.7/site-packages/ipykernel_launcher.py:5: RuntimeWarning: divide by zero encountered in double_scalars\n",
      "  \"\"\"\n"
     ]
    }
   ],
   "source": [
    "err= 10000\n",
    "bgood5 = 0\n",
    "xgood5 = []\n",
    "for b in betalist:\n",
    "    xestim = forward_backward2(b)\n",
    "    errtest = errquadra(xbarmat,xestim)\n",
    "    if errtest<err:\n",
    "        err = errtest\n",
    "        bgood5 = b\n",
    "        xgood5 = xestim"
   ]
  },
  {
   "cell_type": "code",
   "execution_count": 29,
   "metadata": {},
   "outputs": [
    {
     "name": "stdout",
     "output_type": "stream",
     "text": [
      "erreur minimale : 0.6217002302173559\n",
      "beta optimal : 0.01\n"
     ]
    }
   ],
   "source": [
    "print('erreur minimale : ' + str(err))\n",
    "print('beta optimal : ' + str(bgood5))"
   ]
  },
  {
   "cell_type": "code",
   "execution_count": 30,
   "metadata": {},
   "outputs": [
    {
     "name": "stderr",
     "output_type": "stream",
     "text": [
      "/Users/abderrahim/anaconda3/lib/python3.7/site-packages/numpy/core/numeric.py:501: ComplexWarning: Casting complex values to real discards the imaginary part\n",
      "  return array(a, dtype, copy=False, order=order)\n"
     ]
    },
    {
     "data": {
      "text/plain": [
       "<matplotlib.legend.Legend at 0x81e2ac198>"
      ]
     },
     "execution_count": 30,
     "metadata": {},
     "output_type": "execute_result"
    },
    {
     "data": {
      "image/png": "[encoded data removed]",
      "text/plain": [
       "<Figure size 432x288 with 1 Axes>"
      ]
     },
     "metadata": {
      "needs_background": "light"
     },
     "output_type": "display_data"
    }
   ],
   "source": [
    "plt.plot(T,xbar)\n",
    "plt.plot(T,xgood5)\n",
    "plt.xscale(\"log\")\n",
    "plt.title('Forward Backward')\n",
    "plt.legend(['signal à retrouver', 'solution algorithme'])"
   ]
  },
  {
   "cell_type": "markdown",
   "metadata": {},
   "source": [
    "On voit clairement que le forward backward est moins perofrmant.\n",
    "De plus, pour certains valeurs de beta trop faible on obtient un overflow avec l'exponentielle. \n",
    "\n",
    "## Avec $$\\beta = 10^{-2}$$"
   ]
  },
  {
   "cell_type": "code",
   "execution_count": 31,
   "metadata": {},
   "outputs": [
    {
     "name": "stdout",
     "output_type": "stream",
     "text": [
      "erreur avec Douglas-Rashford\n",
      "20.15955386408167\n",
      "erreur avec Forward-Backward\n",
      "0.6217002302173559\n"
     ]
    },
    {
     "name": "stderr",
     "output_type": "stream",
     "text": [
      "/Users/abderrahim/anaconda3/lib/python3.7/site-packages/ipykernel_launcher.py:5: RuntimeWarning: divide by zero encountered in double_scalars\n",
      "  \"\"\"\n"
     ]
    }
   ],
   "source": [
    "FB = forward_backward2(10**-2)\n",
    "DR = douglas_rashford(10**-2,1)\n",
    "print(\"erreur avec Douglas-Rashford\")\n",
    "print(errquadra(xbarmat,DR))\n",
    "print(\"erreur avec Forward-Backward\")\n",
    "print(errquadra(xbarmat,FB))"
   ]
  },
  {
   "cell_type": "code",
   "execution_count": 32,
   "metadata": {},
   "outputs": [
    {
     "name": "stderr",
     "output_type": "stream",
     "text": [
      "/Users/abderrahim/anaconda3/lib/python3.7/site-packages/numpy/core/numeric.py:501: ComplexWarning: Casting complex values to real discards the imaginary part\n",
      "  return array(a, dtype, copy=False, order=order)\n"
     ]
    },
    {
     "data": {
      "text/plain": [
       "<matplotlib.legend.Legend at 0x81ddd29b0>"
      ]
     },
     "execution_count": 32,
     "metadata": {},
     "output_type": "execute_result"
    },
    {
     "data": {
      "image/png": "[encoded data removed]",
      "text/plain": [
       "<Figure size 432x288 with 1 Axes>"
      ]
     },
     "metadata": {
      "needs_background": "light"
     },
     "output_type": "display_data"
    }
   ],
   "source": [
    "plt.plot(T,xbar)\n",
    "plt.plot(T,DR)\n",
    "plt.plot(T,FB)\n",
    "plt.xscale(\"log\")\n",
    "plt.title('Smoothness prior condition')\n",
    "plt.legend(['signal à retrouver', 'D-R', 'F-B'])"
   ]
  },
  {
   "cell_type": "markdown",
   "metadata": {},
   "source": [
    "Même si le signal estimé via Douglas-Rashford est plus proche de la courbe, on ne peut pas déterminer les deux composants avec $$ \\beta = 10^{-2} $$"
   ]
  },
  {
   "cell_type": "markdown",
   "metadata": {},
   "source": [
    "### Question 7\n",
    "\n",
    "0.086 Smoothness + constraints (en fonction du bruit on a parfois atteint 0.04) <br>\n",
    "0.088 D-R <br>\n",
    "0.184 Smoothness <br>\n",
    "0.2 Sparsity <br>\n",
    "0.624 F-R <br>\n",
    "\n",
    "On constate que le meilleur résultat est obtenu via la fonction de régulariasation Smoothness + constraints suivi d par le résultat obtenu via D-R. Donc ajouter un terme d'entropie n'est pas une mauvaise idée mais il faut bien choisir l'algorithm de résolution car on voit par exemple que le pire résultat est obtenu via l'algorithm F-R (avec un terme d'entropie)."
   ]
  },
  {
   "cell_type": "markdown",
   "metadata": {},
   "source": [
    "### Question 8\n",
    "\n",
    "On veut : \n",
    "$$ \\min_{x\\in\\mathbb{R}^N} ent(x),\\ \\text{s.c}\\ \\| Kx-y \\|^2 \\le \\eta M \\sigma^2 $$\n",
    "Avec $\\eta > 0$\n",
    "\n",
    "$$ \\Longrightarrow \\min_{x\\in\\mathbb{R}^N} ent(x) + \\iota_{D}(Kx),$$\n",
    "Avec $D = \\overline{B}_{\\sigma\\sqrt{\\eta M}}(y)$\n",
    "\n",
    "Dans ce cas, on a $g(x) = g_1(x)+g_2(x)$, avec $g_1(x)=ent(x)$ et $g_2(x)=\\iota_D(x)$. \n",
    "Avec $L_1 = \\mathrm{Id}$ et $L_2 = K$.\n",
    "\n",
    "On a déjà le prox de g1. <br>\n",
    "Pour g2 : \n",
    "$$prox_{\\gamma g_2}(x)$$ est le projeté de $$\\iota_{D}(Kx)$$ sur $$\\overline{B}_{\\sigma\\sqrt{\\eta M}}(y)$$"
   ]
  },
  {
   "cell_type": "code",
   "execution_count": 33,
   "metadata": {},
   "outputs": [],
   "source": [
    "def ppxa(gamma, eta):\n",
    "    sigma2 = sigma**2\n",
    "    \n",
    "    proxg1 = lambda x: gamma*np.real(scipy.special.lambertw(1/(gamma)*np.exp(x/gamma-1), 0))\n",
    "    proxg2 = lambda x: y + ((x-y)/np.linalg.norm(x-y))*min(1,(np.sqrt(sigma2*eta*M)))\n",
    "\n",
    "    lmb = 1/2\n",
    "    itmax = 20000\n",
    "    it = 0 \n",
    "    Converged = False\n",
    "    tol = 1e-5\n",
    "    \n",
    "    temp = np.linalg.inv(KtK+np.eye(N))\n",
    "    \n",
    "    xn1 = np.zeros([N,1])\n",
    "    xn2 = np.zeros([M,1])\n",
    "    vn = temp.dot(xn1+Kt.dot(xn2))\n",
    "    \n",
    "    while it < itmax and Converged == False:\n",
    "        it += 1\n",
    "        yn1 = proxg1(xn1)\n",
    "        yn2 = proxg2(xn2)\n",
    "        \n",
    "        cn = temp.dot(yn1+Kt.dot(yn2))\n",
    "        \n",
    "        xnp11 = xn1 + lmb*(2*cn-vn-yn1)\n",
    "        xnp12 = xn2 + lmb*(K.dot(2*cn-vn)-yn2)\n",
    "        \n",
    "        vnp1 = vn+lmb*(cn-vn)\n",
    "        \n",
    "        #if errquadra(vn,vnp1)<tol:\n",
    "        #    Converged = True\n",
    "        if np.linalg.norm(vn-vnp1,1) < tol*np.linalg.norm(vn,1):\n",
    "            Converged = True        \n",
    "        vn = vnp1\n",
    "        xn1 = xnp11\n",
    "        xn2 = xnp12\n",
    "    return vn"
   ]
  },
  {
   "cell_type": "code",
   "execution_count": 34,
   "metadata": {
    "scrolled": false
   },
   "outputs": [
    {
     "ename": "KeyboardInterrupt",
     "evalue": "",
     "output_type": "error",
     "traceback": [
      "\u001b[0;31m---------------------------------------------------------------------------\u001b[0m",
      "\u001b[0;31mKeyboardInterrupt\u001b[0m                         Traceback (most recent call last)",
      "\u001b[0;32m<ipython-input-34-ca11d56de6d5>\u001b[0m in \u001b[0;36m<module>\u001b[0;34m()\u001b[0m\n\u001b[1;32m      5\u001b[0m \u001b[0;32mfor\u001b[0m \u001b[0meta\u001b[0m \u001b[0;32min\u001b[0m \u001b[0mbetalist\u001b[0m\u001b[0;34m:\u001b[0m\u001b[0;34m\u001b[0m\u001b[0;34m\u001b[0m\u001b[0m\n\u001b[1;32m      6\u001b[0m     \u001b[0;32mfor\u001b[0m \u001b[0mgamma\u001b[0m \u001b[0;32min\u001b[0m \u001b[0;34m[\u001b[0m\u001b[0;36m0.1\u001b[0m\u001b[0;34m,\u001b[0m \u001b[0;36m0.5\u001b[0m\u001b[0;34m,\u001b[0m \u001b[0;36m1\u001b[0m\u001b[0;34m,\u001b[0m \u001b[0;36m1.5\u001b[0m\u001b[0;34m]\u001b[0m\u001b[0;34m:\u001b[0m\u001b[0;34m\u001b[0m\u001b[0;34m\u001b[0m\u001b[0m\n\u001b[0;32m----> 7\u001b[0;31m         \u001b[0mxestim\u001b[0m \u001b[0;34m=\u001b[0m \u001b[0mppxa\u001b[0m\u001b[0;34m(\u001b[0m\u001b[0mgamma\u001b[0m\u001b[0;34m,\u001b[0m\u001b[0meta\u001b[0m\u001b[0;34m)\u001b[0m\u001b[0;34m\u001b[0m\u001b[0;34m\u001b[0m\u001b[0m\n\u001b[0m\u001b[1;32m      8\u001b[0m         \u001b[0merrtest\u001b[0m \u001b[0;34m=\u001b[0m \u001b[0merrquadra\u001b[0m\u001b[0;34m(\u001b[0m\u001b[0mxbarmat\u001b[0m\u001b[0;34m,\u001b[0m\u001b[0mxestim\u001b[0m\u001b[0;34m)\u001b[0m\u001b[0;34m\u001b[0m\u001b[0;34m\u001b[0m\u001b[0m\n\u001b[1;32m      9\u001b[0m         \u001b[0;32mif\u001b[0m \u001b[0merrtest\u001b[0m\u001b[0;34m<\u001b[0m\u001b[0merr\u001b[0m\u001b[0;34m:\u001b[0m\u001b[0;34m\u001b[0m\u001b[0;34m\u001b[0m\u001b[0m\n",
      "\u001b[0;32m<ipython-input-33-4dfaff561d1a>\u001b[0m in \u001b[0;36mppxa\u001b[0;34m(gamma, eta)\u001b[0m\n\u001b[1;32m     31\u001b[0m         \u001b[0;31m#if errquadra(vn,vnp1)<tol:\u001b[0m\u001b[0;34m\u001b[0m\u001b[0;34m\u001b[0m\u001b[0;34m\u001b[0m\u001b[0m\n\u001b[1;32m     32\u001b[0m         \u001b[0;31m#    Converged = True\u001b[0m\u001b[0;34m\u001b[0m\u001b[0;34m\u001b[0m\u001b[0;34m\u001b[0m\u001b[0m\n\u001b[0;32m---> 33\u001b[0;31m         \u001b[0;32mif\u001b[0m \u001b[0mnp\u001b[0m\u001b[0;34m.\u001b[0m\u001b[0mlinalg\u001b[0m\u001b[0;34m.\u001b[0m\u001b[0mnorm\u001b[0m\u001b[0;34m(\u001b[0m\u001b[0mvn\u001b[0m\u001b[0;34m-\u001b[0m\u001b[0mvnp1\u001b[0m\u001b[0;34m,\u001b[0m\u001b[0;36m1\u001b[0m\u001b[0;34m)\u001b[0m \u001b[0;34m<\u001b[0m \u001b[0mtol\u001b[0m\u001b[0;34m*\u001b[0m\u001b[0mnp\u001b[0m\u001b[0;34m.\u001b[0m\u001b[0mlinalg\u001b[0m\u001b[0;34m.\u001b[0m\u001b[0mnorm\u001b[0m\u001b[0;34m(\u001b[0m\u001b[0mvn\u001b[0m\u001b[0;34m,\u001b[0m\u001b[0;36m1\u001b[0m\u001b[0;34m)\u001b[0m\u001b[0;34m:\u001b[0m\u001b[0;34m\u001b[0m\u001b[0;34m\u001b[0m\u001b[0m\n\u001b[0m\u001b[1;32m     34\u001b[0m             \u001b[0mConverged\u001b[0m \u001b[0;34m=\u001b[0m \u001b[0;32mTrue\u001b[0m\u001b[0;34m\u001b[0m\u001b[0;34m\u001b[0m\u001b[0m\n\u001b[1;32m     35\u001b[0m         \u001b[0mvn\u001b[0m \u001b[0;34m=\u001b[0m \u001b[0mvnp1\u001b[0m\u001b[0;34m\u001b[0m\u001b[0;34m\u001b[0m\u001b[0m\n",
      "\u001b[0;32m~/anaconda3/lib/python3.7/site-packages/numpy/matrixlib/defmatrix.py\u001b[0m in \u001b[0;36m__array_finalize__\u001b[0;34m(self, obj)\u001b[0m\n\u001b[1;32m    162\u001b[0m         \u001b[0;32mreturn\u001b[0m \u001b[0mret\u001b[0m\u001b[0;34m\u001b[0m\u001b[0;34m\u001b[0m\u001b[0m\n\u001b[1;32m    163\u001b[0m \u001b[0;34m\u001b[0m\u001b[0m\n\u001b[0;32m--> 164\u001b[0;31m     \u001b[0;32mdef\u001b[0m \u001b[0m__array_finalize__\u001b[0m\u001b[0;34m(\u001b[0m\u001b[0mself\u001b[0m\u001b[0;34m,\u001b[0m \u001b[0mobj\u001b[0m\u001b[0;34m)\u001b[0m\u001b[0;34m:\u001b[0m\u001b[0;34m\u001b[0m\u001b[0;34m\u001b[0m\u001b[0m\n\u001b[0m\u001b[1;32m    165\u001b[0m         \u001b[0mself\u001b[0m\u001b[0;34m.\u001b[0m\u001b[0m_getitem\u001b[0m \u001b[0;34m=\u001b[0m \u001b[0;32mFalse\u001b[0m\u001b[0;34m\u001b[0m\u001b[0;34m\u001b[0m\u001b[0m\n\u001b[1;32m    166\u001b[0m         \u001b[0;32mif\u001b[0m \u001b[0;34m(\u001b[0m\u001b[0misinstance\u001b[0m\u001b[0;34m(\u001b[0m\u001b[0mobj\u001b[0m\u001b[0;34m,\u001b[0m \u001b[0mmatrix\u001b[0m\u001b[0;34m)\u001b[0m \u001b[0;32mand\u001b[0m \u001b[0mobj\u001b[0m\u001b[0;34m.\u001b[0m\u001b[0m_getitem\u001b[0m\u001b[0;34m)\u001b[0m\u001b[0;34m:\u001b[0m \u001b[0;32mreturn\u001b[0m\u001b[0;34m\u001b[0m\u001b[0;34m\u001b[0m\u001b[0m\n",
      "\u001b[0;31mKeyboardInterrupt\u001b[0m: "
     ]
    }
   ],
   "source": [
    "err= 10000\n",
    "etagood = 0\n",
    "gamgood2 = 0\n",
    "xgood6 = []\n",
    "for eta in betalist:\n",
    "    for gamma in [0.1, 0.5, 1, 1.5]:\n",
    "        xestim = ppxa(gamma,eta)\n",
    "        errtest = errquadra(xbarmat,xestim)\n",
    "        if errtest<err:\n",
    "            err = errtest\n",
    "            etagood = eta\n",
    "            gamgood2 = gamma\n",
    "            xgood6 = xestim"
   ]
  },
  {
   "cell_type": "code",
   "execution_count": null,
   "metadata": {},
   "outputs": [],
   "source": [
    "print('erreur minimale : ' + str(err))\n",
    "print('eta optimal : ' + str(etagood))\n",
    "print('gamma optimal : ' + str(gamgood2))"
   ]
  },
  {
   "cell_type": "code",
   "execution_count": null,
   "metadata": {
    "scrolled": true
   },
   "outputs": [],
   "source": [
    "plt.plot(T,xbar)\n",
    "plt.plot(T,xgood6)\n",
    "plt.xscale(\"log\")\n",
    "plt.title('Smoothness prior condition')\n",
    "plt.legend(['signal à retrouver', 'D-R', 'F-B'])"
   ]
  }
 ],
 "metadata": {
  "kernelspec": {
   "display_name": "Python 3",
   "language": "python",
   "name": "python3"
  },
  "language_info": {
   "codemirror_mode": {
    "name": "ipython",
    "version": 3
   },
   "file_extension": ".py",
   "mimetype": "text/x-python",
   "name": "python",
   "nbconvert_exporter": "python",
   "pygments_lexer": "ipython3",
   "version": "3.7.4"
  }
 },
 "nbformat": 4,
 "nbformat_minor": 2
}
