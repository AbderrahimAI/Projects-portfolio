{
 "cells": [
  {
   "cell_type": "markdown",
   "metadata": {},
   "source": [
    "# Dreem Challenge Report - CentraleSupélec"
   ]
  },
  {
   "cell_type": "markdown",
   "metadata": {},
   "source": [
    "# Abderrahim Mehdaoui & Adnan Zeddoun"
   ]
  },
  {
   "cell_type": "markdown",
   "metadata": {},
   "source": [
    "## Context"
   ]
  },
  {
   "cell_type": "markdown",
   "metadata": {},
   "source": [
    "Sleep plays a vital role in an individual’s health and well-being. Sleep progresses in cycles that involve multiple sleep stages : wake, light sleep, deep sleep, rem sleep. Different sleep stages are associated to different physiological functions. Monitoring sleep stage is beneficial for diagnosing sleep disorders. The gold standard to monitor sleep stages relies on a polysomnography study conducted in a hospital or a sleep lab. Different physiological signals are recorded such as electroencephalogram, electrocardiogram etc.\n",
    "\n",
    "Sleep stage scoring is then performed visually by an expert on epochs of 30 seconds of signals recording. The resulting graph is called a hypnogram. He provides a compact description the night. "
   ]
  },
  {
   "cell_type": "code",
   "execution_count": 1,
   "metadata": {},
   "outputs": [
    {
     "data": {
      "image/png": "[encoded data removed]",
      "text/plain": [
       "<IPython.core.display.Image object>"
      ]
     },
     "execution_count": 1,
     "metadata": {},
     "output_type": "execute_result"
    }
   ],
   "source": [
    "import os\n",
    "from IPython.display import Image\n",
    "Image(os.path.join('Hypnogram.png'))"
   ]
  },
  {
   "cell_type": "markdown",
   "metadata": {},
   "source": [
    "## The Dreem headband"
   ]
  },
  {
   "cell_type": "markdown",
   "metadata": {},
   "source": [
    " Dreem headband allows doing polysomnography at home signal thanks to three kinds of sensors: electroencephalogram (EEG), pulse oximeter and accelerometer signals.\n",
    "\n",
    "Since the Dreem headband records a lot of nights every day, we spent time developing the most accurate automatic sleep staging algorithms. Data was labeled directly on our data by trained sleep expert.\n",
    "\n",
    "In this challenge we provide you with such labelled data. The idea is to develop an algorithm of sleep staging able to differentiate between Wake, N1, N2, N3 and REM on windows of 30 seconds of raw data. The raw data includes 7 eegs channels in frontal and occipital position, 1 pulse oximeter infrared channel, and 3 accelerometers channels (x, y and z)."
   ]
  },
  {
   "cell_type": "markdown",
   "metadata": {},
   "source": [
    "## Packages loading"
   ]
  },
  {
   "cell_type": "code",
   "execution_count": 1,
   "metadata": {},
   "outputs": [],
   "source": [
    "#Import the necessary moduls for features extraction\n",
    "import pandas as pd\n",
    "import scipy.signal as scs\n",
    "import numpy as np\n",
    "import h5py\n",
    "import matplotlib.pyplot as plt\n",
    "import scipy.signal as sig\n",
    "import scipy.stats as stat\n",
    "from scipy.special import entr\n",
    "import pywt\n",
    "import os\n",
    "\n",
    "\n",
    "#Import the necessary moduls to train the model\n",
    "from sklearn.model_selection import train_test_split\n",
    "from sklearn.preprocessing import StandardScaler\n",
    "from sklearn.metrics import confusion_matrix, f1_score, accuracy_score\n",
    "from sklearn.ensemble import GradientBoostingClassifier\n",
    "from sklearn.model_selection import cross_val_score"
   ]
  },
  {
   "cell_type": "markdown",
   "metadata": {},
   "source": [
    "## Data loading"
   ]
  },
  {
   "cell_type": "code",
   "execution_count": 2,
   "metadata": {},
   "outputs": [
    {
     "name": "stdout",
     "output_type": "stream",
     "text": [
      "eeg_1 (24688, 1500)\n",
      "eeg_2 (24688, 1500)\n",
      "eeg_3 (24688, 1500)\n",
      "eeg_4 (24688, 1500)\n",
      "eeg_5 (24688, 1500)\n",
      "eeg_6 (24688, 1500)\n",
      "eeg_7 (24688, 1500)\n",
      "index (24688,)\n",
      "index_absolute (24688,)\n",
      "index_window (24688,)\n",
      "pulse (24688, 300)\n",
      "x (24688, 300)\n",
      "y (24688, 300)\n",
      "z (24688, 300)\n"
     ]
    }
   ],
   "source": [
    "#Loading the files\n",
    "X_train = h5py.File(os.path.join('data', 'X_train.h5'), 'r')\n",
    "X_test = h5py.File(os.path.join('data', 'X_test.h5'), 'r')\n",
    "keys = list(X_train.keys())\n",
    "for k in keys:\n",
    "    print(k, X_train[k].shape)"
   ]
  },
  {
   "cell_type": "code",
   "execution_count": 4,
   "metadata": {
    "scrolled": true
   },
   "outputs": [
    {
     "name": "stdout",
     "output_type": "stream",
     "text": [
      "y columns Index(['index', 'sleep_stage'], dtype='object')\n",
      "   index  sleep_stage\n",
      "0      0            0\n",
      "1      1            0\n",
      "2      2            0\n",
      "3      3            0\n",
      "4      4            0\n"
     ]
    }
   ],
   "source": [
    "y_train = pd.read_csv(os.path.join('data', 'y_train.csv'))\n",
    "print('y columns', y_train.columns)\n",
    "print(y_train.head())"
   ]
  },
  {
   "cell_type": "markdown",
   "metadata": {},
   "source": [
    "## Features engineering"
   ]
  },
  {
   "cell_type": "markdown",
   "metadata": {},
   "source": [
    "### Temporal features\n",
    "When we use temporal series, we usually take classical statistical features, we have done so by picking: <br>\n",
    "\n",
    "1) Statistical features:\n",
    "  - Mean \n",
    "  - Standard deviation\n",
    "  - Skewness\n",
    "  - Kurtosis\n",
    "  - First quartile\n",
    "  - Third quartile\n",
    "\n",
    "2) Signal processing features: \n",
    "   - The entropy of the wavelet transform\n",
    "   - Zero crossing\n",
    "   - The distance between the maximum and the minimum in each sub-window(only for eeg)\n",
    "   - The maximum of the PSD\n",
    "   - The Esis for eeg (cf reference)\n",
    "\n",
    "\n",
    "### Frequency features\n",
    "\n",
    "We pass on frequency domain for the eeg signals to extract the different sub-band (alpha, beta, delta, theta) and compute some other statistical moments.\n",
    "\n",
    "We have also filtered the signal with a butter filter (order 4, bandpass) to compute some statistical features as well as it was mentioned to filter the signal in the paper."
   ]
  },
  {
   "cell_type": "markdown",
   "metadata": {},
   "source": [
    "## Features extraction"
   ]
  },
  {
   "cell_type": "code",
   "execution_count": 5,
   "metadata": {
    "scrolled": true
   },
   "outputs": [],
   "source": [
    "#Compute the sum of distance between max and min in each subwindow of size 100\n",
    "def MMD(x):\n",
    "    lmb = 100\n",
    "    mmd = np.zeros((x.shape[0]))\n",
    "    for i in range(-1,x.shape[1]-100,100):\n",
    "        max_v = np.max(x[:,i+1:i+100], axis=1)\n",
    "        min_v = np.min(x[:,i+1:i+100], axis=1)\n",
    "        argmax = np.argmax(x[:,i+1:i+100], axis=1)/50\n",
    "        argmin = np.argmin(x[:,i+1:i+100], axis=1)/50\n",
    "        dist = np.sqrt(np.abs(max_v-min_v)**2+np.abs(argmax-argmin)**2)\n",
    "        mmd += dist\n",
    "    return mmd"
   ]
  },
  {
   "cell_type": "code",
   "execution_count": 6,
   "metadata": {},
   "outputs": [],
   "source": [
    "#Compute the Esis feature which represents the enregy of the signal\n",
    "def Esis(x, freq_min, freq_max):\n",
    "    lmb = 100\n",
    "    f = (freq_min + freq_max)/2\n",
    "    return lmb*f*np.sum(np.power(x,2), axis=1)/x.shape[1]"
   ]
  },
  {
   "cell_type": "code",
   "execution_count": 7,
   "metadata": {},
   "outputs": [],
   "source": [
    "def extract_features_eeg(x):\n",
    "    \n",
    "    nb_rows = x.shape[0]\n",
    "    features = np.empty((nb_rows, 17))\n",
    "    moment = stat.describe(x, axis = 1)\n",
    "    \n",
    "    #Taking the wavelet transform on the time domain\n",
    "    Wave_cA = np.absolute(pywt.dwt(x,'db4', axis=1)[0])\n",
    "    Wave_cD = np.absolute(pywt.dwt(x,'db4', axis=1)[1])\n",
    "    \n",
    "    pA = Wave_cA/Wave_cA.sum(axis=1, keepdims=True)\n",
    "    pD = Wave_cD/Wave_cD.sum(axis=1, keepdims=True)\n",
    "    \n",
    "    #Compute the probability for the entropy\n",
    "    S_abs = np.absolute(x)\n",
    "    p = S_abs/S_abs.sum(axis=1, keepdims=True)\n",
    "\n",
    "    # Defining eeg bands\n",
    "    #features[:,16] = entr(pD).sum(axis=1) #entropy on Wavelet transformation\n",
    "    #features[:,15] = entr(pA).sum(axis=1) #entropy on Wavelet transformation\n",
    "    features[:,14] = entr(p).sum(axis=1) #entropy of the signal\n",
    "    features[:,12] = Esis(x, 13, 22) #Esis on the beta band\n",
    "    features[:,11] = Esis(x, 8, 13) #Esis on the alpha band\n",
    "    features[:,10] = Esis(x, 4, 8) #Esis on the theta band\n",
    "    features[:,9] = Esis(x, 0, 4) #Esis on the delta band\n",
    "    features[:,8] = np.quantile(x, 0.75, axis = 1)    \n",
    "    features[:,7] = np.quantile(x, 0.25, axis = 1)\n",
    "    features[:,6] = np.max(sig.welch(x, fs = 50, axis = 1)[1][:,0:15], axis = 1) #max of power spectra density\n",
    "    features[:,5] = moment[5] #kurtozis\n",
    "    features[:,4] = moment[4] #skweness\n",
    "    features[:,3] = moment[3] #Standard deviation\n",
    "    features[:,2] = moment[2] #mean\n",
    "    features[:,1] = MMD(x) \n",
    "    features[:,0] = np.sum(((x[:,:-1]*x[:,1:])<0), axis=1) #zero crossing\n",
    "    return features"
   ]
  },
  {
   "cell_type": "code",
   "execution_count": 8,
   "metadata": {},
   "outputs": [],
   "source": [
    "def feature_extraction_acc(x):\n",
    "    \n",
    "    nb_rows = x.shape[0]\n",
    "    features = np.empty((nb_rows, 9))\n",
    "    moment = stat.describe(x, axis = 1)\n",
    "\n",
    "\n",
    "    #print(\"---------- Extracting accelerometer temporal features : ----------\")\n",
    "    #print(\"Median, standard deviation, skew, kurtosis, zero crossing, max, /entropy/, /crest factor/\")\n",
    "    features[:,8] = np.quantile(x, 0.75, axis = 1)    \n",
    "    features[:,7] = np.quantile(x, 0.25, axis = 1)\n",
    "    features[:,6] = np.sum(((x[:,:-1]*x[:,1:])<0), axis=1) #zero crossing\n",
    "    features[:,5] = moment[5] #kurtosis\n",
    "    features[:,4] = moment[4] #skweness\n",
    "    features[:,3] = moment[3] #standard deviation\n",
    "    features[:,2] = moment[2] #mean\n",
    "    features[:,1] = moment[1][1] #max\n",
    "    features[:,0] = moment[1][0] #min\n",
    "    return features"
   ]
  },
  {
   "cell_type": "code",
   "execution_count": 9,
   "metadata": {
    "scrolled": true
   },
   "outputs": [],
   "source": [
    "def feature_extraction_pulse(x):\n",
    "    nb_rows = x.shape[0]\n",
    "\n",
    "    features = np.empty((nb_rows, 9))\n",
    "    moment = stat.describe(x, axis = 1)\n",
    "\n",
    "\n",
    "    #print(\"---------- Extracting pulse oximeter temporal features : ----------\")\n",
    "    #print(\"Median, standard deviation, skew, kurtosis, zero crossing, max, /entropy/, /crest factor/\")\n",
    "    features[:,8] = np.quantile(x, 0.75, axis = 1)    \n",
    "    features[:,7] = np.quantile(x, 0.25, axis = 1)\n",
    "    features[:,6] = np.sum(((x[:,:-1]*x[:,1:])<0), axis=1) #zero crossing\n",
    "    features[:,5] = moment[5] #kurtosis\n",
    "    features[:,4] = moment[4] #skweness\n",
    "    features[:,3] = moment[3] #standard deviation\n",
    "    features[:,2] = moment[2] #mean\n",
    "    features[:,1] = moment[1][1] #max\n",
    "    features[:,0] = moment[1][0] #min\n",
    "    return features"
   ]
  },
  {
   "cell_type": "code",
   "execution_count": 10,
   "metadata": {},
   "outputs": [
    {
     "name": "stdout",
     "output_type": "stream",
     "text": [
      "---------- Extracting eeg features : ----------\n",
      "Processing on eeg_1 ......................\n",
      "Processing on eeg_2 ......................\n",
      "Processing on eeg_3 ......................\n",
      "Processing on eeg_4 ......................\n",
      "Processing on eeg_5 ......................\n",
      "Processing on eeg_6 ......................\n",
      "Processing on eeg_7 ......................\n"
     ]
    }
   ],
   "source": [
    "#Extracting the features from the training set\n",
    "\n",
    "print(\"---------- Extracting eeg features : ----------\")\n",
    "#print(\"max_min_dist, mean, std deviation, zero crossing, skewness, kurtozis, entropy, Esis\")\n",
    "\n",
    "X_train_eeg_feat = np.empty((X_train['eeg_1'].shape[0], 0))\n",
    "X_test_eeg_feat = np.empty((X_test['eeg_1'].shape[0], 0))\n",
    "\n",
    "for k in keys[0:7]:\n",
    "    print(\"Processing on {} ......................\".format(k))\n",
    "    x_train = X_train[k]\n",
    "    x_test = X_test[k]\n",
    "    eeg_feat_train = extract_features_eeg(x_train)\n",
    "    eeg_feat_test = extract_features_eeg(x_test)\n",
    "    X_train_eeg_feat = np.concatenate((X_train_eeg_feat, eeg_feat_train), axis=1)\n",
    "    X_test_eeg_feat = np.concatenate((X_test_eeg_feat, eeg_feat_test), axis=1)"
   ]
  },
  {
   "cell_type": "code",
   "execution_count": 11,
   "metadata": {},
   "outputs": [
    {
     "name": "stdout",
     "output_type": "stream",
     "text": [
      "---------- Extracting accelerometer temporal features : ----------\n",
      "Processing on x ......................\n",
      "Processing on y ......................\n",
      "Processing on z ......................\n"
     ]
    }
   ],
   "source": [
    "print(\"---------- Extracting accelerometer temporal features : ----------\")\n",
    "#print(\"Median, standard deviation, skew, kurtosis, zero crossing, max, /entropy/, /crest factor/\")\n",
    "\n",
    "X_train_acc_feat = np.empty((X_train['x'].shape[0], 0))\n",
    "X_test_acc_feat = np.empty((X_test['x'].shape[0], 0))\n",
    "\n",
    "for k in keys[11:]:\n",
    "    print(\"Processing on {} ......................\".format(k))\n",
    "    x_train = X_train[k]\n",
    "    x_test = X_test[k]\n",
    "    acc_feat_train = feature_extraction_acc(x_train)\n",
    "    acc_feat_test = feature_extraction_acc(x_test)\n",
    "    X_train_acc_feat = np.concatenate((X_train_acc_feat, acc_feat_train), axis=1)\n",
    "    X_test_acc_feat = np.concatenate((X_test_acc_feat, acc_feat_test), axis=1)"
   ]
  },
  {
   "cell_type": "code",
   "execution_count": 12,
   "metadata": {},
   "outputs": [
    {
     "name": "stdout",
     "output_type": "stream",
     "text": [
      "---------- Extracting pulse oximeter temporal features : ----------\n"
     ]
    }
   ],
   "source": [
    "print(\"---------- Extracting pulse oximeter temporal features : ----------\")\n",
    "#print(\"Median, standard deviation, skew, kurtosis, zero crossing, max, /entropy/, /crest factor/\")\n",
    "\n",
    "X_train_pulse_feat = feature_extraction_acc(X_train['pulse'])\n",
    "X_test_pulse_feat = feature_extraction_acc(X_test['pulse'])"
   ]
  },
  {
   "cell_type": "markdown",
   "metadata": {},
   "source": [
    "## Extracting band from the signal"
   ]
  },
  {
   "cell_type": "markdown",
   "metadata": {},
   "source": [
    "### FFT Transform and Wavelet Transform"
   ]
  },
  {
   "cell_type": "code",
   "execution_count": 13,
   "metadata": {},
   "outputs": [],
   "source": [
    "# Defining eeg bands \n",
    "eeg_bands = {'delta':[0,4],\n",
    "               'theta':[4,8],\n",
    "               'alpha':[8,13],\n",
    "               'beta' : [13,22]}"
   ]
  },
  {
   "cell_type": "code",
   "execution_count": 14,
   "metadata": {},
   "outputs": [],
   "source": [
    "def extract_band_eeg(x_freq):\n",
    "    nb_rows = x_freq.shape[0]\n",
    "\n",
    "    band_features = np.empty((nb_rows, 75))\n",
    "    \n",
    "    for band in eeg_bands:\n",
    "        #   Bands:\n",
    "        #delta= 0; theta=1; alpha=2; beta=3\n",
    "        \n",
    "        #Taking the frequencies that are in the band we currently consider\n",
    "        freq_ix = np.where((fft_freq >= eeg_bands[band][0]) & \n",
    "                           (fft_freq < eeg_bands[band][1]))[0]\n",
    "\n",
    "        #Passing on time domain to compute the wavelet transform on each bands\n",
    "        x_temporel = np.array(np.absolute(np.fft.irfft(x_freq[:,freq_ix], axis=1)))\n",
    "        cA = pywt.wavedec(x_temporel,'db4', axis=1, level=2)[0]\n",
    "        cD = pywt.wavedec(x_temporel,'db4', axis=1, level=2)[1]\n",
    "        cC = pywt.wavedec(x_temporel,'db4', axis=1, level=2)[2]\n",
    "        \n",
    "        Wave_cA = np.absolute(pywt.wavedec(x_temporel,'db4', axis=1, level=2)[0])\n",
    "        Wave_cD = np.absolute(pywt.wavedec(x_temporel,'db4', axis=1, level=2)[1])\n",
    "        Wave_cC = np.absolute(pywt.wavedec(x_temporel,'db4', axis=1, level=2)[2])\n",
    "        #Wave_cB = np.absolute(pywt.wavedec(x_temporel,'db4', axis=1, level=3)[3])\n",
    "        pA = Wave_cA/Wave_cA.sum(axis=1, keepdims=True)\n",
    "        pD = Wave_cD/Wave_cD.sum(axis=1, keepdims=True)\n",
    "        pC = Wave_cC/Wave_cC.sum(axis=1, keepdims=True)\n",
    "        #pB = Wave_cB/Wave_cB.sum(axis=1, keepdims=True)\n",
    "        \n",
    "        #Entropy on one band\n",
    "        pF_ent = x_freq[:,freq_ix]/x_freq[:,freq_ix].sum(axis=1, keepdims=True)\n",
    "\n",
    "        \n",
    "        if band == 'delta':\n",
    "            band_features[:,0] = 20 * np.log10(np.mean(x_freq[:,freq_ix], axis = 1))\n",
    "            band_features[:,1] = 20 * np.log10(np.std(x_freq[:,freq_ix], axis = 1))\n",
    "            band_features[:,2] = 20 * np.log10(np.quantile(x_freq[:,freq_ix], 0.75, axis = 1))\n",
    "            band_features[:,3] = 20 * np.log10(np.quantile(x_freq[:,freq_ix], 0.25, axis = 1))\n",
    "            band_features[:,4] = entr(pD).sum(axis=1) #entropy on Wavelet transformation\n",
    "            band_features[:,5] = entr(pA).sum(axis=1) #entropy on Wavelet transformation\n",
    "            band_features[:,6] = entr(pF_ent).sum(axis=1)\n",
    "            band_features[:,7] = np.mean(cA, axis = 1)\n",
    "            band_features[:,8] = np.std(cA, axis = 1)\n",
    "            band_features[:,9] = entr(pC).sum(axis=1) #entropy on Wavelet transformation\n",
    "            #band_features[:,10] = entr(pB).sum(axis=1) #entropy on Wavelet transformation\n",
    "            band_features[:,11] = np.quantile(cA, 0.5, axis = 1) #median on Wavelet transformation\n",
    "            band_features[:,12] = np.mean(np.sqrt(np.power(cA,2)), axis = 1)\n",
    "            band_features[:,13] = np.quantile(cA, 0.25, axis = 1)\n",
    "            band_features[:,14] = np.quantile(cA, 0.75, axis = 1)\n",
    "            band_features[:,15] = MMD(x_freq[:,freq_ix])\n",
    "            band_features[:,16] = Esis(x_freq[:,freq_ix], 0, 4)\n",
    "            band_features[:,17] = np.mean(cC, axis = 1)\n",
    "            band_features[:,18] = np.std(cC, axis = 1)\n",
    "\n",
    "\n",
    "\n",
    "        elif band == 'theta':\n",
    "            band_features[:,19] = 20 * np.log10(np.mean(x_freq[:,freq_ix], axis = 1))\n",
    "            band_features[:,20] = 20 * np.log10(np.std(x_freq[:,freq_ix], axis = 1))\n",
    "            band_features[:,21] = 20 * np.log10(np.quantile(x_freq[:,freq_ix], 0.75, axis = 1))\n",
    "            band_features[:,22] = 20 * np.log10(np.quantile(x_freq[:,freq_ix], 0.25, axis = 1))\n",
    "            band_features[:,23] = entr(pD).sum(axis=1) #entropy on Wavelet transformation\n",
    "            band_features[:,24] = entr(pA).sum(axis=1) #entropy on Wavelet transformation\n",
    "            band_features[:,25] = entr(pF_ent).sum(axis=1)\n",
    "            band_features[:,26] = np.mean(cA, axis = 1)\n",
    "            band_features[:,27] = np.std(cA, axis = 1)\n",
    "            band_features[:,28] = entr(pC).sum(axis=1) #entropy on Wavelet transformation\n",
    "            #band_features[:,29] = entr(pB).sum(axis=1) #entropy on Wavelet transformation\n",
    "            band_features[:,30] = np.quantile(cA, 0.5, axis = 1) #median on Wavelet transformation\n",
    "            band_features[:,31] = np.mean(np.sqrt(np.power(cA,2)), axis = 1)\n",
    "            band_features[:,32] = np.quantile(cA, 0.25, axis = 1)\n",
    "            band_features[:,33] = np.quantile(cA, 0.75, axis = 1)\n",
    "            band_features[:,34] = MMD(x_freq[:,freq_ix])\n",
    "            band_features[:,35] = Esis(x_freq[:,freq_ix], 4, 8)\n",
    "            band_features[:,36] = np.mean(cC, axis = 1)\n",
    "            band_features[:,37] = np.std(cC, axis = 1)\n",
    "\n",
    "\n",
    "            \n",
    "        elif band == 'alpha':\n",
    "            band_features[:,38] = 20 * np.log10(np.mean(x_freq[:,freq_ix], axis = 1))\n",
    "            band_features[:,39] = 20 * np.log10(np.std(x_freq[:,freq_ix], axis = 1))\n",
    "            band_features[:,40] = 20 * np.log10(np.quantile(x_freq[:,freq_ix], 0.75, axis = 1))\n",
    "            band_features[:,41] = 20 * np.log10(np.quantile(x_freq[:,freq_ix], 0.25, axis = 1))\n",
    "            band_features[:,42] = entr(pD).sum(axis=1) #entropy on Wavelet transformation\n",
    "            band_features[:,43] = entr(pA).sum(axis=1) #entropy on Wavelet transformation\n",
    "            band_features[:,44] = entr(pF_ent).sum(axis=1)\n",
    "            band_features[:,45] = np.mean(cA, axis = 1)\n",
    "            band_features[:,46] = np.std(cA, axis = 1)\n",
    "            band_features[:,47] = entr(pC).sum(axis=1) #entropy on Wavelet transformation\n",
    "            #band_features[:,48] = entr(pB).sum(axis=1) #entropy on Wavelet transformation\n",
    "            band_features[:,49] = np.quantile(cA, 0.5, axis = 1) #median on Wavelet transformation\n",
    "            band_features[:,50] = np.mean(np.sqrt(np.power(cA,2)), axis = 1)\n",
    "            band_features[:,51] = np.quantile(cA, 0.25, axis = 1)\n",
    "            band_features[:,52] = np.quantile(cA, 0.75, axis = 1)\n",
    "            band_features[:,53] = MMD(x_freq[:,freq_ix])\n",
    "            band_features[:,54] = Esis(x_freq[:,freq_ix], 8, 13)\n",
    "            band_features[:,55] = np.mean(cC, axis = 1)\n",
    "            band_features[:,56] = np.std(cC, axis = 1)\n",
    "\n",
    "\n",
    "            \n",
    "        elif band == 'beta':\n",
    "            band_features[:,56] = 20 * np.log10(np.mean(x_freq[:,freq_ix], axis = 1))\n",
    "            band_features[:,57] = 20 * np.log10(np.mean(x_freq[:,freq_ix], axis = 1))\n",
    "            band_features[:,58] = 20 * np.log10(np.quantile(x_freq[:,freq_ix], 0.75, axis = 1))\n",
    "            band_features[:,59] = 20 * np.log10(np.quantile(x_freq[:,freq_ix], 0.25, axis = 1))\n",
    "            band_features[:,60] = entr(pD).sum(axis=1) #entropy on Wavelet transformation\n",
    "            band_features[:,61] = entr(pA).sum(axis=1) #entropy on Wavelet transformation\n",
    "            band_features[:,62] = entr(pF_ent).sum(axis=1)\n",
    "            band_features[:,63] = np.mean(cA, axis = 1)\n",
    "            band_features[:,64] = np.std(cA, axis = 1)\n",
    "            band_features[:,65] = entr(pC).sum(axis=1) #entropy on Wavelet transformation\n",
    "            #band_features[:,66] = entr(pB).sum(axis=1) #entropy on Wavelet transformation\n",
    "            band_features[:,67] = np.quantile(cA, 0.5, axis = 1) #median on Wavelet transformation\n",
    "            band_features[:,68] = np.mean(np.sqrt(np.power(cA,2)), axis = 1)\n",
    "            band_features[:,69] = np.quantile(cA, 0.25, axis = 1)\n",
    "            band_features[:,70] = np.quantile(cA, 0.75, axis = 1)\n",
    "            band_features[:,71] = MMD(x_freq[:,freq_ix])\n",
    "            band_features[:,72] = Esis(x_freq[:,freq_ix], 13, 22)\n",
    "            band_features[:,73] = np.mean(cC, axis = 1)\n",
    "            band_features[:,74] = np.std(cC, axis = 1)\n",
    "            \n",
    "    return band_features"
   ]
  },
  {
   "cell_type": "code",
   "execution_count": 15,
   "metadata": {},
   "outputs": [
    {
     "name": "stdout",
     "output_type": "stream",
     "text": [
      "Processing on eeg_1 ......................\n",
      "Applying fft ....\n",
      "Processing on eeg_2 ......................\n",
      "Applying fft ....\n",
      "Processing on eeg_3 ......................\n",
      "Applying fft ....\n",
      "Processing on eeg_4 ......................\n",
      "Applying fft ....\n",
      "Processing on eeg_5 ......................\n",
      "Applying fft ....\n",
      "Processing on eeg_6 ......................\n",
      "Applying fft ....\n",
      "Processing on eeg_7 ......................\n",
      "Applying fft ....\n"
     ]
    }
   ],
   "source": [
    "X_train_bands_feat = np.empty((X_train['eeg_1'].shape[0], 0))\n",
    "X_test_bands_feat = np.empty((X_test['eeg_1'].shape[0], 0))\n",
    "#Extracting eeg bands\n",
    "for k in keys[0:7]:\n",
    "    print(\"Processing on {} ......................\".format(k))\n",
    "    x_train = np.array(X_train[k])\n",
    "    x_test = np.array(X_test[k])\n",
    "    #x_train = sig.detrend(x_train)\n",
    "    #x_test = sig.detrend(x_test)\n",
    "\n",
    "    print(\"Applying fft ....\")\n",
    "    fft_vals_train = np.array(np.absolute(np.fft.rfft(x_train, axis=1)))\n",
    "    fft_vals_test = np.array(np.absolute(np.fft.rfft(x_test, axis=1)))\n",
    "\n",
    "    fft_freq = np.fft.rfftfreq(x_train.shape[1], 1.0 / 50)\n",
    "\n",
    "    fft_vals_train = extract_band_eeg(fft_vals_train)\n",
    "    fft_vals_test = extract_band_eeg(fft_vals_test)\n",
    "    X_train_bands_feat = np.concatenate((X_train_bands_feat, fft_vals_train), axis=1)\n",
    "    X_test_bands_feat = np.concatenate((X_test_bands_feat, fft_vals_test), axis=1)"
   ]
  },
  {
   "cell_type": "markdown",
   "metadata": {},
   "source": [
    "### Butter Filter on raw data"
   ]
  },
  {
   "cell_type": "code",
   "execution_count": 16,
   "metadata": {},
   "outputs": [],
   "source": [
    "def extract_butter(x):\n",
    "    nb_rows = x.shape[0]\n",
    "\n",
    "    band_features = np.empty((nb_rows, 15))\n",
    "    for band in eeg_bands:\n",
    "        \n",
    "        if band == 'delta':\n",
    "            W = np.array([0.1,4])/25\n",
    "            b, a = sig.butter(4, W, btype='bandpass')\n",
    "            x_f = sig.lfilter(b, a, x, axis=1)\n",
    "            p = np.absolute(x_f)/np.absolute(x_f).sum(axis=1, keepdims=True)\n",
    "            \n",
    "            band_features[:,0] = MMD(x_f)\n",
    "            band_features[:,1] = Esis(x_f, 0, 4)\n",
    "            band_features[:,2] = entr(p).sum(axis=1)\n",
    "            \n",
    "        elif band == 'theta':\n",
    "            W = np.array([4,8])/25\n",
    "            b, a = sig.butter(4, W, btype='bandpass')\n",
    "            x_f = sig.lfilter(b, a, x, axis=1)\n",
    "            p = np.absolute(x_f)/np.absolute(x_f).sum(axis=1, keepdims=True)\n",
    "            \n",
    "            band_features[:,3] = MMD(x_f)\n",
    "            band_features[:,4] = Esis(x_f, 4, 8)\n",
    "            band_features[:,5] = entr(p).sum(axis=1)\n",
    "            \n",
    "        elif band == 'alpha':\n",
    "            W = np.array([8,13])/25\n",
    "            b, a = sig.butter(4, W, btype='bandpass')\n",
    "            x_f = sig.lfilter(b, a, x, axis=1)\n",
    "            p = np.absolute(x_f)/np.absolute(x_f).sum(axis=1, keepdims=True)\n",
    "            \n",
    "            band_features[:,6] = MMD(x_f)\n",
    "            band_features[:,7] = Esis(x_f, 8, 13)\n",
    "            band_features[:,8] = entr(p).sum(axis=1)\n",
    "            \n",
    " \n",
    "        elif band == 'beta':\n",
    "            W = np.array([13,22])/25\n",
    "            b, a = sig.butter(4, W, btype='bandpass')\n",
    "            x_f = sig.lfilter(b, a, x, axis=1)\n",
    "            p = np.absolute(x_f)/np.absolute(x_f).sum(axis=1, keepdims=True)\n",
    "            \n",
    "            band_features[:,12] = MMD(x_f)\n",
    "            band_features[:,13] = Esis(x_f, 13, 22)\n",
    "            band_features[:,14] = entr(p).sum(axis=1)\n",
    "            \n",
    "    return band_features"
   ]
  },
  {
   "cell_type": "code",
   "execution_count": 17,
   "metadata": {},
   "outputs": [
    {
     "name": "stdout",
     "output_type": "stream",
     "text": [
      "Processing on eeg_1 ......................\n",
      "Processing on eeg_2 ......................\n",
      "Processing on eeg_3 ......................\n",
      "Processing on eeg_4 ......................\n",
      "Processing on eeg_5 ......................\n",
      "Processing on eeg_6 ......................\n",
      "Processing on eeg_7 ......................\n"
     ]
    }
   ],
   "source": [
    "X_train_filt = np.empty((X_train['eeg_1'].shape[0], 0))\n",
    "X_test_filt = np.empty((X_test['eeg_1'].shape[0], 0))\n",
    "#Extracting eeg bands\n",
    "for k in keys[0:7]:\n",
    "    print(\"Processing on {} ......................\".format(k))\n",
    "    x_train = np.array(X_train[k])\n",
    "    x_test = np.array(X_test[k])\n",
    "    #x_train = sig.detrend(x_train)\n",
    "    #x_test = sig.detrend(x_test)\n",
    "\n",
    "    filt_train = extract_butter(x_train)\n",
    "    filt_test = extract_butter(x_test)\n",
    "    X_train_filt = np.concatenate((X_train_filt, filt_train), axis=1)\n",
    "    X_test_filt = np.concatenate((X_test_filt, filt_test), axis=1)"
   ]
  },
  {
   "cell_type": "markdown",
   "metadata": {},
   "source": [
    "## Concatenation of the features"
   ]
  },
  {
   "cell_type": "code",
   "execution_count": 18,
   "metadata": {},
   "outputs": [],
   "source": [
    "#scaling the temporal features\n",
    "scaler = StandardScaler()\n",
    "\n",
    "X_features_stats = np.concatenate((X_train_eeg_feat, X_train_acc_feat, X_train_pulse_feat), axis = 1)\n",
    "X_features_stats_scaled = scaler.fit_transform(X_features_stats)\n",
    "\n",
    "X_test_features_stats = np.concatenate((X_test_eeg_feat, X_test_acc_feat, X_test_pulse_feat), axis = 1)\n",
    "X_test_features_stats_scaled = scaler.transform(X_test_features_stats)\n",
    "\n",
    "#concatenate the temporal and frequency features\n",
    "X_features = np.concatenate((X_train_filt, X_features_stats_scaled, X_train_bands_feat), axis = 1)\n",
    "X_test_features = np.concatenate((X_test_filt, X_test_features_stats_scaled,X_test_bands_feat), axis = 1)\n",
    "\n",
    "label = y_train['sleep_stage'] #label for the trraining set"
   ]
  },
  {
   "cell_type": "markdown",
   "metadata": {},
   "source": [
    "## Modelisation\n",
    "\n",
    "We have tried several statistical learning algorithms such as SVM, Random Forest, Logistic regression and Gradient boosting. \n",
    "\n",
    "Regarding the results, we have decided to focus on the last one.\n",
    "\n",
    "### Boosting method\n",
    "Boosting approach are based on the aggregation of weak learners, so there are two steps in boosting approach : \n",
    "<ul>\n",
    "    <li>Building several simple models </li>\n",
    "    <li>Aggregate theses models by giving them a weight $f^{*}(x)=\\sum_{i=1}^{N}\\alpha_{i}f_{i}(x)$ </li>\n",
    "</ul>\n",
    "The idea is to find a way to build these simple models $f_{i}$ to have a good $f^{*}$. <br>\n",
    "Thats what we are going to introduice with the gradient boosting method.\n",
    "\n",
    "### Defining the hyperparameters\n",
    "A model can be defined with parameters that we have to define first, these are the hyperparameters. During the training step, we have tried a grid search to define the best ones, we have then adjusted them by hand to gain some places in the ranking list. \n",
    "\n",
    "During the whole training step, we have focused our mind on : <br>\n",
    "<ul>\n",
    "    <li> n_estimators, the more you have, the best your model will perform but it's computationnaly expansive and your improvment is worse than linear.</li>\n",
    "    <li> learning_rate, to regularize the model, the smaller the LR is, the simpler your model will be and will prevent from overfitting.</li>\n",
    "    <li> max_depth, we usually have to solve a trade-off between max_depth and n_estimators to not have a model which takes to much time to fit the data </li>\n",
    "</ul>"
   ]
  },
  {
   "cell_type": "markdown",
   "metadata": {},
   "source": [
    "## Gradient Boosting"
   ]
  },
  {
   "cell_type": "markdown",
   "metadata": {},
   "source": [
    "Gradient boosting is a machine learning technique for regression and classification problems, which produces a prediction model in the form of an ensemble of weak prediction models, typically decision trees."
   ]
  },
  {
   "cell_type": "markdown",
   "metadata": {},
   "source": [
    "Input: training set ${(x_{i},y_{i})}_{i=1}^{n}$, a differentiable loss function $L(y,F(x))$, number of iterations $M$.\n",
    "\n",
    "Algorithm: <br/>\n",
    "1) Initialize model with a constant value:\n",
    "$F_{0}(x) = \\underset{\\gamma}{arg min} \\sum_{i=1}^{n} L(y_{i},\\gamma)$\n",
    "\n",
    "2) For $m = 1$ to $M$:\n",
    "- Compute pseudo-residuals:\n",
    "$r_{im} = -  \\frac{\\partial L(y_{i},F(x_{i}))}{\\partial F(x_{i})}$ for $F(x) = F_{m-1}(x)$, for $0 \\leq i \\leq n$\n",
    "- Fit a base learner (or weak learner, e.g. tree) $h_{m}(x)$  to pseudo-residuals, i.e. train it using the training set ${(x_{i},y_{i})}_{i=1}^{n}$\n",
    "- Compute multiplier $\\gamma_{m}$ by solving the following one-dimensional optimization problem: \n",
    "$$\\gamma_{m} = \\underset{\\gamma}{arg min} \\sum_{i=1}^{n} L(y_{i},F_{m-1}(x_{i})+\\gamma h_{m}(x_{i}))$$\n",
    "- Update the model:\n",
    "$$F_{m}(x) = F_{m-1}(x) + \\gamma_{m}h_{m}(x_{i})$$\n",
    "\n",
    "3) Output: $F_{M}(x)$ <br/>\n",
    "(source: Wikipédia)"
   ]
  },
  {
   "cell_type": "markdown",
   "metadata": {},
   "source": [
    "## Cross Validation protocol"
   ]
  },
  {
   "cell_type": "markdown",
   "metadata": {},
   "source": [
    "We first can split randomly our data into two sets, one for training the other one to test your model to know if it goes well on other data not related to the training set. \n",
    "We first took 20% of our data as a test set.\n",
    "\n",
    "The second method corresponds to $k$-fold CV. In our case we took $k=3$.The meaning behind $k$-fold is to split the data into $k$ subsets. You then pick one fold to test your model and train it on the other $k-1$. You repeat this procedure for each fold and compute the score (in our case F1-weighted) each time.\n",
    "\n",
    "The mean of all the $k$ scores can be chosen as a robust estimator for your score. \n",
    "\n",
    "<u>After that we fit the model on the whole training set as it was gave us as a training set, we then submit our prediction on the test set on kaggle<u>."
   ]
  },
  {
   "cell_type": "markdown",
   "metadata": {},
   "source": [
    "## Training with Gradient Boosting"
   ]
  },
  {
   "cell_type": "markdown",
   "metadata": {},
   "source": [
    "### Cross-validation and grid search on max depth "
   ]
  },
  {
   "cell_type": "code",
   "execution_count": null,
   "metadata": {},
   "outputs": [],
   "source": [
    "#Cross validation and grid search on max depth\n",
    "for i in range(2,9):\n",
    "    clfGB = GradientBoostingClassifier(n_estimators = 20000, max_features = 30, max_depth = i)\n",
    "    cv_scores = cross_val_score(clfGB, X_features, label, scoring='f1_weighted', cv = 3)\n",
    "    print('Cross-validation scores (3-fold):', cv_scores)\n",
    "    print('Mean cross-validation score (3-fold): {:.3f}'\n",
    "     .format(np.mean(cv_scores)))"
   ]
  },
  {
   "cell_type": "code",
   "execution_count": null,
   "metadata": {},
   "outputs": [],
   "source": [
    "print('Cross-validation scores (3-fold):', cv_scores)\n",
    "print('Mean cross-validation score (3-fold): {:.3f}'\n",
    "     .format(np.mean(cv_scores)))"
   ]
  },
  {
   "cell_type": "markdown",
   "metadata": {},
   "source": [
    "### Importance of each feature"
   ]
  },
  {
   "cell_type": "code",
   "execution_count": null,
   "metadata": {},
   "outputs": [],
   "source": [
    "clfGB.feature_importances_"
   ]
  },
  {
   "cell_type": "markdown",
   "metadata": {},
   "source": [
    "### Cross validation for our best hyperparameters"
   ]
  },
  {
   "cell_type": "code",
   "execution_count": 19,
   "metadata": {},
   "outputs": [],
   "source": [
    "from sklearn.ensemble import GradientBoostingClassifier\n",
    "from sklearn.model_selection import cross_val_score\n",
    "\n",
    "clfGB = GradientBoostingClassifier(n_estimators = 1500, max_features = 30, max_depth = 4)\n",
    "cv_scores = cross_val_score(clfGB, X_features, label, scoring='f1_weighted', cv = 3)"
   ]
  },
  {
   "cell_type": "code",
   "execution_count": null,
   "metadata": {
    "scrolled": true
   },
   "outputs": [],
   "source": [
    "print('Cross-validation scores (3-fold):', cv_scores)\n",
    "print('Mean cross-validation score (3-fold): {:.3f}'\n",
    "     .format(np.mean(cv_scores)))"
   ]
  },
  {
   "cell_type": "markdown",
   "metadata": {},
   "source": [
    "## Results"
   ]
  },
  {
   "cell_type": "markdown",
   "metadata": {},
   "source": [
    "We have found that the best Machine Learning algorithm for our problem is the Gradient Boosting algorithm. We have obtained a 0.762 $F_{1}$-weighted score which ranked us in the third place of the Dreem Challenge ($3^{rd}/69$ teams).\n",
    "\n",
    "This challenge was a good opportunity to improve our programming and signal processing skills.\n",
    "\n",
    "NOTE: Oue best score was reach when we have split the "
   ]
  }
 ],
 "metadata": {
  "kernelspec": {
   "display_name": "Python 3",
   "language": "python",
   "name": "python3"
  },
  "language_info": {
   "codemirror_mode": {
    "name": "ipython",
    "version": 3
   },
   "file_extension": ".py",
   "mimetype": "text/x-python",
   "name": "python",
   "nbconvert_exporter": "python",
   "pygments_lexer": "ipython3",
   "version": "3.7.4"
  }
 },
 "nbformat": 4,
 "nbformat_minor": 2
}
