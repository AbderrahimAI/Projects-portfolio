{
  "nbformat": 4,
  "nbformat_minor": 0,
  "metadata": {
    "colab": {
      "name": "final.ipynb",
      "provenance": [],
      "collapsed_sections": [],
      "toc_visible": true
    },
    "kernelspec": {
      "name": "python3",
      "display_name": "Python 3"
    }
  },
  "cells": [
    {
      "cell_type": "code",
      "metadata": {
        "id": "lWh33DXYNE1P",
        "colab_type": "code",
        "outputId": "9b24ed0f-dbaa-4680-a297-c84101a3265c",
        "colab": {
          "base_uri": "https://localhost:8080/",
          "height": 122
        }
      },
      "source": [
        "from google.colab import drive\n",
        "drive.mount('/content/drive')"
      ],
      "execution_count": 0,
      "outputs": [
        {
          "output_type": "stream",
          "text": [
            "Go to this URL in a browser: https://accounts.google.com/o/oauth2/auth?client_id=947318989803-6bn6qk8qdgf4n4g3pfee6491hc0brc4i.apps.googleusercontent.com&redirect_uri=urn%3aietf%3awg%3aoauth%3a2.0%3aoob&response_type=code&scope=email%20https%3a%2f%2fwww.googleapis.com%2fauth%2fdocs.test%20https%3a%2f%2fwww.googleapis.com%2fauth%2fdrive%20https%3a%2f%2fwww.googleapis.com%2fauth%2fdrive.photos.readonly%20https%3a%2f%2fwww.googleapis.com%2fauth%2fpeopleapi.readonly\n",
            "\n",
            "Enter your authorization code:\n",
            "··········\n",
            "Mounted at /content/drive\n"
          ],
          "name": "stdout"
        }
      ]
    },
    {
      "cell_type": "code",
      "metadata": {
        "id": "MYV2TXfjFAii",
        "colab_type": "code",
        "outputId": "22d8ba39-d545-4e85-ad76-f1f841619cd5",
        "colab": {
          "base_uri": "https://localhost:8080/",
          "height": 241
        }
      },
      "source": [
        "import matplotlib.pyplot as plt\n",
        "import numpy as np\n",
        "import pandas as pd\n",
        "import os,time\n",
        "import cv2\n",
        "import skimage\n",
        "\n",
        "from skimage.exposure import cumulative_distribution\n",
        "from skimage.morphology import opening, square\n",
        "from skimage import img_as_ubyte\n",
        "\n",
        "from PIL import Image\n",
        "from scipy.stats import t,norm\n",
        "from google.colab.patches import cv2_imshow\n",
        "\n",
        "!pip install scikit-optimize\n",
        "from skopt import gp_minimize\n",
        "from skopt.utils import use_named_args\n",
        "from skopt.space import Real, Categorical, Integer"
      ],
      "execution_count": 0,
      "outputs": [
        {
          "output_type": "stream",
          "text": [
            "Collecting scikit-optimize\n",
            "\u001b[?25l  Downloading https://files.pythonhosted.org/packages/5c/87/310b52debfbc0cb79764e5770fa3f5c18f6f0754809ea9e2fc185e1b67d3/scikit_optimize-0.7.4-py2.py3-none-any.whl (80kB)\n",
            "\r\u001b[K     |████                            | 10kB 20.5MB/s eta 0:00:01\r\u001b[K     |████████▏                       | 20kB 3.2MB/s eta 0:00:01\r\u001b[K     |████████████▎                   | 30kB 4.6MB/s eta 0:00:01\r\u001b[K     |████████████████▎               | 40kB 3.1MB/s eta 0:00:01\r\u001b[K     |████████████████████▍           | 51kB 3.7MB/s eta 0:00:01\r\u001b[K     |████████████████████████▌       | 61kB 4.4MB/s eta 0:00:01\r\u001b[K     |████████████████████████████▌   | 71kB 5.0MB/s eta 0:00:01\r\u001b[K     |████████████████████████████████| 81kB 3.7MB/s \n",
            "\u001b[?25hRequirement already satisfied: scikit-learn>=0.19.1 in /usr/local/lib/python3.6/dist-packages (from scikit-optimize) (0.22.1)\n",
            "Requirement already satisfied: scipy>=0.18.0 in /usr/local/lib/python3.6/dist-packages (from scikit-optimize) (1.4.1)\n",
            "Requirement already satisfied: numpy>=1.11.0 in /usr/local/lib/python3.6/dist-packages (from scikit-optimize) (1.17.5)\n",
            "Collecting pyaml>=16.9\n",
            "  Downloading https://files.pythonhosted.org/packages/0c/c0/6ac03535d1c858ec5fe9ae5a4ad13bc5679b0ad70618f0571af861763c9c/pyaml-20.3.1-py2.py3-none-any.whl\n",
            "Requirement already satisfied: joblib>=0.11 in /usr/local/lib/python3.6/dist-packages (from scikit-optimize) (0.14.1)\n",
            "Requirement already satisfied: PyYAML in /usr/local/lib/python3.6/dist-packages (from pyaml>=16.9->scikit-optimize) (3.13)\n",
            "Installing collected packages: pyaml, scikit-optimize\n",
            "Successfully installed pyaml-20.3.1 scikit-optimize-0.7.4\n"
          ],
          "name": "stdout"
        }
      ]
    },
    {
      "cell_type": "code",
      "metadata": {
        "id": "PLItABIfFC91",
        "colab_type": "code",
        "outputId": "92dfde02-2599-4f26-fb85-ab9233c041ab",
        "colab": {
          "base_uri": "https://localhost:8080/",
          "height": 204
        }
      },
      "source": [
        "#Put the file gt in good shape\n",
        "\n",
        "cols = ['img','x1','y1','x2','y2','class']\n",
        "gt = pd.read_table('/content/gt.txt', sep=';', header=None)\n",
        "gt.columns = cols\n",
        "gt.drop(columns=['class'],inplace=True)\n",
        "gt[\"img\"] = gt[\"img\"].astype('category')\n",
        "gt[\"img\"] = gt[\"img\"].cat.codes\n",
        "gt.head()"
      ],
      "execution_count": 0,
      "outputs": [
        {
          "output_type": "execute_result",
          "data": {
            "text/html": [
              "<div>\n",
              "<style scoped>\n",
              "    .dataframe tbody tr th:only-of-type {\n",
              "        vertical-align: middle;\n",
              "    }\n",
              "\n",
              "    .dataframe tbody tr th {\n",
              "        vertical-align: top;\n",
              "    }\n",
              "\n",
              "    .dataframe thead th {\n",
              "        text-align: right;\n",
              "    }\n",
              "</style>\n",
              "<table border=\"1\" class=\"dataframe\">\n",
              "  <thead>\n",
              "    <tr style=\"text-align: right;\">\n",
              "      <th></th>\n",
              "      <th>img</th>\n",
              "      <th>x1</th>\n",
              "      <th>y1</th>\n",
              "      <th>x2</th>\n",
              "      <th>y2</th>\n",
              "    </tr>\n",
              "  </thead>\n",
              "  <tbody>\n",
              "    <tr>\n",
              "      <th>0</th>\n",
              "      <td>0</td>\n",
              "      <td>774</td>\n",
              "      <td>411</td>\n",
              "      <td>815</td>\n",
              "      <td>446</td>\n",
              "    </tr>\n",
              "    <tr>\n",
              "      <th>1</th>\n",
              "      <td>1</td>\n",
              "      <td>983</td>\n",
              "      <td>388</td>\n",
              "      <td>1024</td>\n",
              "      <td>432</td>\n",
              "    </tr>\n",
              "    <tr>\n",
              "      <th>2</th>\n",
              "      <td>1</td>\n",
              "      <td>386</td>\n",
              "      <td>494</td>\n",
              "      <td>442</td>\n",
              "      <td>552</td>\n",
              "    </tr>\n",
              "    <tr>\n",
              "      <th>3</th>\n",
              "      <td>1</td>\n",
              "      <td>973</td>\n",
              "      <td>335</td>\n",
              "      <td>1031</td>\n",
              "      <td>390</td>\n",
              "    </tr>\n",
              "    <tr>\n",
              "      <th>4</th>\n",
              "      <td>2</td>\n",
              "      <td>892</td>\n",
              "      <td>476</td>\n",
              "      <td>1006</td>\n",
              "      <td>592</td>\n",
              "    </tr>\n",
              "  </tbody>\n",
              "</table>\n",
              "</div>"
            ],
            "text/plain": [
              "   img   x1   y1    x2   y2\n",
              "0    0  774  411   815  446\n",
              "1    1  983  388  1024  432\n",
              "2    1  386  494   442  552\n",
              "3    1  973  335  1031  390\n",
              "4    2  892  476  1006  592"
            ]
          },
          "metadata": {
            "tags": []
          },
          "execution_count": 3
        }
      ]
    },
    {
      "cell_type": "code",
      "metadata": {
        "id": "Wri8h_N1FPzk",
        "colab_type": "code",
        "colab": {}
      },
      "source": [
        "#Load the dataset\n",
        "img_set=[]\n",
        "files = os.listdir(\"/content/drive/My Drive/vic/FullIJCNN2013\")\n",
        "for file in files:\n",
        "  img_set.append(Image.open(\"/content/drive/My Drive/vic/FullIJCNN2013/\"+file))"
      ],
      "execution_count": 0,
      "outputs": []
    },
    {
      "cell_type": "code",
      "metadata": {
        "id": "FMdU3F-4FkbK",
        "colab_type": "code",
        "colab": {}
      },
      "source": [
        "#   Red-Blue normalization \n",
        "\n",
        "def transformed(img_brute):  \n",
        "  img_brute=np.array(img_brute)\n",
        "  X,Y,Z=img_brute.shape\n",
        "  im_sum = np.sum(img_brute, axis = 2)\n",
        "  red = np.divide(img_brute[:,:,0],im_sum)\n",
        "  blue = np.divide(img_brute[:,:,2],im_sum)\n",
        "  normalized = np.maximum(red,blue)\n",
        "  normalized = np.int64(normalized*255)\n",
        "  return normalized"
      ],
      "execution_count": 0,
      "outputs": []
    },
    {
      "cell_type": "code",
      "metadata": {
        "id": "Vs-vudFtFooR",
        "colab_type": "code",
        "colab": {}
      },
      "source": [
        "#   Thresholding the image w.r.t two method :\n",
        "#     Classic: proposed by the article\n",
        "#     Transformed: proposed by oureselves (much more white points)\n",
        "def thresholding(img_brute, quantile, method='Classic'):\n",
        "  trans_ = transformed(img_brute)\n",
        "  tresh =  np.quantile(trans_, quantile)\n",
        "  if method == 'Classic':\n",
        "\n",
        "    #The coefficient proposed by the article \n",
        "    coef = (trans_ - tresh)/(np.amax(trans_) - tresh)\n",
        "    im_thresh = (trans_ == tresh)*255 + (trans_ < tresh)*0 + (trans_ > tresh)*coef*255\n",
        "  else: \n",
        "    im_thresh = (trans_ >= tresh)*255 + (trans_ < tresh)*0 \n",
        "\n",
        "  return im_thresh.astype(int)"
      ],
      "execution_count": 0,
      "outputs": []
    },
    {
      "cell_type": "code",
      "metadata": {
        "id": "PuV2Mn-2Houo",
        "colab_type": "code",
        "colab": {}
      },
      "source": [
        "def morphological(img):\n",
        "  return opening(img,square(2))"
      ],
      "execution_count": 0,
      "outputs": []
    },
    {
      "cell_type": "code",
      "metadata": {
        "id": "uwru1gskFsM2",
        "colab_type": "code",
        "colab": {}
      },
      "source": [
        "def non_max_suppression_fast(boxes, coords, overlapThresh):\n",
        "\t# if there are no boxes, return an empty list\n",
        "\tif len(boxes) == 0:\n",
        "\t\treturn []\n",
        "\t# if the bounding boxes integers, convert them to floats --\n",
        "\t# this is important since we'll be doing a bunch of divisions\n",
        "\tif boxes.dtype.kind == \"i\":\n",
        "\t\tboxes = boxes.astype(\"float\")\n",
        "\t# initialize the list of picked indexes\t\n",
        "\tpick = []\n",
        "\t# grab the coordinates of the bounding boxes\n",
        "\tx1 = boxes[:,0]\n",
        "\ty1 = boxes[:,1]\n",
        "\tx2 = boxes[:,2]+boxes[:,0]\n",
        "\ty2 = boxes[:,3]+boxes[:,1]\n",
        "\t# compute the area of the bounding boxes and sort the bounding\n",
        "\t# boxes by the bottom-right y-coordinate of the bounding box\n",
        "\tarea = (x2 - x1 + 1) * (y2 - y1 + 1)\n",
        "\tidxs = np.argsort(y2)\n",
        "\t# keep looping while some indexes still remain in the indexes\n",
        "\t# list\n",
        "\twhile len(idxs) > 0:\n",
        "\t\t# grab the last index in the indexes list and add the\n",
        "\t\t# index value to the list of picked indexes\n",
        "\t\tlast = len(idxs) - 1\n",
        "\t\ti = idxs[last]\n",
        "\t\tpick.append(i)\n",
        "\t\t# find the largest (x, y) coordinates for the start of\n",
        "\t\t# the bounding box and the smallest (x, y) coordinates\n",
        "\t\t# for the end of the bounding box\n",
        "\t\txx1 = np.maximum(x1[i], x1[idxs[:last]])\n",
        "\t\tyy1 = np.maximum(y1[i], y1[idxs[:last]])\n",
        "\t\txx2 = np.minimum(x2[i], x2[idxs[:last]])\n",
        "\t\tyy2 = np.minimum(y2[i], y2[idxs[:last]])\n",
        "\t\t# compute the width and height of the bounding box\n",
        "\t\tw = np.maximum(0, xx2 - xx1 + 1)\n",
        "\t\th = np.maximum(0, yy2 - yy1 + 1)\n",
        "\t\t# compute the ratio of overlap\n",
        "\t\toverlap = (w * h) / area[idxs[:last]]\n",
        "\t\t# delete all indexes from the index list that have\n",
        "\t\tidxs = np.delete(idxs, np.concatenate(([last],\n",
        "\t\t\tnp.where(overlap > overlapThresh)[0])))\n",
        "\t# return only the bounding boxes that were picked using the\n",
        "\t# integer data type\n",
        "\treturn boxes[pick].astype(\"int\"), list(np.array(coords)[pick])"
      ],
      "execution_count": 0,
      "outputs": []
    },
    {
      "cell_type": "code",
      "metadata": {
        "id": "EqydY7EoGV4a",
        "colab_type": "code",
        "colab": {}
      },
      "source": [
        "#   MSER + Non maximum suppression \n",
        "#   This function returns bboxes of the supposed traffic signs\n",
        "def MSER_algo(img_brute,delta=2, quantile=0.9, method='Classic',overlapThresh=0.1):\n",
        "  # Previous filters\n",
        "  im_step3 = img_as_ubyte(morphological(thresholding(img_brute,quantile,method))/255)\n",
        "\n",
        "  mser = cv2.MSER_create()\n",
        "  mser.setDelta(delta)\n",
        "\n",
        "  coords, bboxes = mser.detectRegions(im_step3)\n",
        "\n",
        "  ##Non maximum suppression\n",
        "  bboxes, coords = non_max_suppression_fast(bboxes, coords, overlapThresh)\n",
        "  hulls = [cv2.convexHull(p.reshape(-1, 1, 2)) for p in coords]\n",
        "  coords_bis = [[list(hulls[j][i][0]) for i in range(len(hulls[j]))] for j in range(len(hulls))]\n",
        "  coords_bis = [np.array(coords_bis[k]) for k in range(len(coords_bis))]\n",
        "\n",
        "  return bboxes, coords_bis"
      ],
      "execution_count": 0,
      "outputs": []
    },
    {
      "cell_type": "code",
      "metadata": {
        "id": "08ZM6YGAGlYe",
        "colab_type": "code",
        "colab": {}
      },
      "source": [
        "#   Remove the non symetric elements\n",
        "def symetry(img, bboxes, contours , mu0 = 50, alpha = 0.05):\n",
        "  indices=[]\n",
        "  eps=1e-10\n",
        "  for i in range(len(bboxes)) :\n",
        "    x, y, w, h = bboxes[i]\n",
        "    mask = np.zeros_like(img)\n",
        "    contour = contours[i]\n",
        "    xx = contour[:,0]\n",
        "    yy = contour[:,1]\n",
        "    mask[yy, xx] = 255\n",
        "    box_mask=mask[y:y+h,x:x+w]\n",
        "    C=[]\n",
        "    N=box_mask.shape[1]\n",
        "    for y in range(N):\n",
        "      C.append(len(np.where(box_mask[:,y][:,0]==255)[0]))\n",
        "\n",
        "    d=[min(np.abs(C[0]-C[-1]),np.abs(C[0]-C[-2]))]+[min(np.abs(C[i]-C[-(i+2)]),np.abs(C[i]-C[-(i+2)+1]),\n",
        "                                                    np.abs(C[i]-C[-(i+2)+2])) for i in range(1,N//2)]\n",
        "    n=len(d)\n",
        "    d_mean=np.mean(d)\n",
        "    S=np.sqrt(np.sum((d-d_mean)**2)/(n-1))\n",
        "    z=np.sqrt(n)*(d_mean-mu0)/(S+eps)\n",
        "    if n < 45 :\n",
        "      quantile=t.ppf(1-alpha, n - 1)\n",
        "    else :\n",
        "      quantile=norm.ppf(1-alpha)\n",
        "    if z>quantile :\n",
        "      indices.append(i)\n",
        "      #print(\"la forme est asymétrique\")\n",
        "    #else :\n",
        "      #print(\"la forme est symétrique\")\n",
        "  return np.array([box for i,box in enumerate(bboxes) if i not in indices])"
      ],
      "execution_count": 0,
      "outputs": []
    },
    {
      "cell_type": "code",
      "metadata": {
        "id": "RtwPm9svMBk9",
        "colab_type": "code",
        "colab": {}
      },
      "source": [
        "# Apply our geometrical constraints\n",
        "def geometry(bboxes,w=[30,130],h=[30,130],h_w=[0.8,1.2],area=[144,16900]):\n",
        "  resultat=[]\n",
        "  for box in bboxes :\n",
        "    xb,yb,wb,hb=box\n",
        "    h_wb=hb/wb\n",
        "    areab=wb*hb\n",
        "    if (w[0]<=wb<=w[1]) and (h[0]<=hb<=h[1]) and (h_w[0]<=h_wb<=h_w[1]) and area[0]<=areab<=area[1]:\n",
        "      resultat.append(box)\n",
        "  return resultat"
      ],
      "execution_count": 0,
      "outputs": []
    },
    {
      "cell_type": "code",
      "metadata": {
        "id": "Qm9tQNNtJbqp",
        "colab_type": "code",
        "colab": {}
      },
      "source": [
        "def evaluate_solution(gt, pred, img_set,indices):\n",
        "    \"\"\"Caclulate jaccard index\"\"\"\n",
        "    #  param : \n",
        "    #  pred is an array of bboxes in format (x y w h)\n",
        "    #  gt is a dataframe with cols = img: the img index, \n",
        "    #  and x1,y1,x2,y2 the bb coordinates in format DownRow, leftCols_\n",
        "\n",
        "    score = [] #score for each image of our dataset\n",
        "    #for each frame we take the bbox\n",
        "    for frame_pred,frame_gt in enumerate(indices):\n",
        "        bbs_gt = gt[gt['img']==frame_gt] #still a pandas df\n",
        "        bbs_pred = pred[frame_pred] #array of shape nb of bbox*4\n",
        "\n",
        "        #We need to find _W and _H\n",
        "        black_sol = np.zeros_like(img_set[frame_gt])\n",
        "        black_gt = np.zeros_like(img_set[frame_pred])\n",
        "\n",
        "        #iterate over the rows of a pandas df\n",
        "        for _, bb in bbs_gt.iterrows(): \n",
        "            idx, x1, y1, x2, y2 = bb\n",
        "            cv2.rectangle(black_gt, (x1, y1), (x2, y2), (255), -1)\n",
        "        for bb in bbs_pred:\n",
        "            x, y, w, h = bb\n",
        "            cv2.rectangle(black_sol, (x, y), (x + w, y + h), (255), -1)\n",
        "        \n",
        "        # intersection over union\n",
        "        intersection = black_sol * black_gt\n",
        "        intersection[intersection > 0.5] = 1\n",
        "        union = black_sol + black_gt \n",
        "        union[union > 0.5] = 1\n",
        "        if not union.any():\n",
        "            continue\n",
        "        score.append(intersection.sum()/union.sum())\n",
        "    return np.asarray(score).mean(), score"
      ],
      "execution_count": 0,
      "outputs": []
    },
    {
      "cell_type": "code",
      "metadata": {
        "id": "duIrKgpqB2aj",
        "colab_type": "code",
        "colab": {}
      },
      "source": [
        "def get_prediction(delta,quantile,method,overlapThresh,mu0,img_set_pred):\n",
        "  pred = []\n",
        "  i=0\n",
        "  for im in img_set_pred:\n",
        "      mser_bb, mser_coords = MSER_algo(im, delta=delta, quantile=quantile, method=method,overlapThresh=overlapThresh)\n",
        "      bb_symet = symetry(im, mser_bb, mser_coords,mu0=mu0,alpha = 0.05)\n",
        "      bb_final = geometry(bb_symet)\n",
        "      pred.append(bb_final)\n",
        "      i+=1\n",
        "      if i%100==0:\n",
        "        print(i)\n",
        "  return np.array(pred)"
      ],
      "execution_count": 0,
      "outputs": []
    },
    {
      "cell_type": "code",
      "metadata": {
        "id": "WAUdDleMIrPf",
        "colab_type": "code",
        "outputId": "c698bf0b-986e-4ba6-c1e1-88bf6c71923c",
        "colab": {
          "base_uri": "https://localhost:8080/",
          "height": 224
        }
      },
      "source": [
        "time_start=time.perf_counter()\n",
        "pred=get_prediction (delta=2,quantile=0.9,'Classic',method=0.1,overlapThresh=0.15,img_set_pred=img_set)\n",
        "time_elapsed = (time.perf_counter() - time_start)\n",
        "print (\"Temps : %5.1f secs\"  % (time_elapsed))"
      ],
      "execution_count": 0,
      "outputs": [
        {
          "output_type": "stream",
          "text": [
            "/usr/local/lib/python3.6/dist-packages/ipykernel_launcher.py:21: RuntimeWarning: invalid value encountered in double_scalars\n"
          ],
          "name": "stderr"
        },
        {
          "output_type": "stream",
          "text": [
            "100\n",
            "200\n",
            "300\n",
            "400\n",
            "500\n",
            "600\n",
            "700\n",
            "800\n",
            "900\n",
            "Temps : 445.6 secs\n"
          ],
          "name": "stdout"
        }
      ]
    },
    {
      "cell_type": "code",
      "metadata": {
        "id": "F_Jl15yqJfux",
        "colab_type": "code",
        "colab": {}
      },
      "source": [
        "score_mean,scores=evaluate_solution(gt,pred,img_set,range(len(img_set)))"
      ],
      "execution_count": 0,
      "outputs": []
    },
    {
      "cell_type": "code",
      "metadata": {
        "id": "ql-U1JOFjnoy",
        "colab_type": "code",
        "colab": {}
      },
      "source": [
        "print(score_mean,np.max(scores))"
      ],
      "execution_count": 0,
      "outputs": []
    },
    {
      "cell_type": "code",
      "metadata": {
        "id": "u-YOOXLCg9x9",
        "colab_type": "code",
        "outputId": "d94a5421-0433-477e-8e7d-7f5e20efd8c0",
        "colab": {
          "base_uri": "https://localhost:8080/",
          "height": 34
        }
      },
      "source": [
        "print(score_mean,np.max(scores))"
      ],
      "execution_count": 0,
      "outputs": [
        {
          "output_type": "stream",
          "text": [
            "0.0015503213802537227 0.17647058823529413\n"
          ],
          "name": "stdout"
        }
      ]
    },
    {
      "cell_type": "code",
      "metadata": {
        "id": "hmVaMWAOm2o2",
        "colab_type": "code",
        "colab": {}
      },
      "source": [
        "indices=np.array(scores).argsort()[-20:][::-1]\n",
        "img_set_opt=[img_set[i] for i in indices]"
      ],
      "execution_count": 0,
      "outputs": []
    },
    {
      "cell_type": "code",
      "metadata": {
        "id": "Soe2BySSAqwR",
        "colab_type": "code",
        "outputId": "f5a6e7df-0549-4c30-8c94-7a3d1e02151b",
        "colab": {
          "base_uri": "https://localhost:8080/",
          "height": 357
        }
      },
      "source": [
        "[scores[i] for i in indices]"
      ],
      "execution_count": 0,
      "outputs": [
        {
          "output_type": "execute_result",
          "data": {
            "text/plain": [
              "[0.17647058823529413,\n",
              " 0.16714864083285136,\n",
              " 0.1610305958132045,\n",
              " 0.14346470087893393,\n",
              " 0.06544836379090523,\n",
              " 0.06514657980456026,\n",
              " 0.05781739339918092,\n",
              " 0.05595622979358369,\n",
              " 0.051188151041666664,\n",
              " 0.04816168565899807,\n",
              " 0.04437806699381267,\n",
              " 0.04115917681646367,\n",
              " 0.03878748370273794,\n",
              " 0.037160552644116246,\n",
              " 0.030553787396562698,\n",
              " 0.02566271855611957,\n",
              " 0.021341797088759988,\n",
              " 0.020879248347059506,\n",
              " 0.018467995802728225,\n",
              " 0.018188277087033747]"
            ]
          },
          "metadata": {
            "tags": []
          },
          "execution_count": 45
        }
      ]
    },
    {
      "cell_type": "code",
      "metadata": {
        "id": "NOEisLX6eEX-",
        "colab_type": "code",
        "colab": {}
      },
      "source": [
        "dim_delta=Integer(1,5,name=\"delta\")\n",
        "dim_quantile=Real(low=8.8e-1,high=9.5e-1,name=\"quantile\")\n",
        "dim_method=Categorical(['Classic','Transformed'],name=\"method\")\n",
        "dim_overlap=Real(0.01,0.8,name=\"overlap\")\n",
        "dim_mu0=Real(0.001,1.2,name=\"mu0\")\n",
        "\n",
        "dimensions=[dim_delta,\n",
        "            dim_quantile,\n",
        "            dim_method,\n",
        "            dim_overlap,\n",
        "            dim_mu0]\n",
        "\n",
        "default_parameters = [2,0.9,'Classic',0.1,0.58]"
      ],
      "execution_count": 0,
      "outputs": []
    },
    {
      "cell_type": "code",
      "metadata": {
        "id": "MUHG8dgUtbcD",
        "colab_type": "code",
        "outputId": "84694278-936f-4209-b0e3-8dfe0ddc1f50",
        "colab": {
          "base_uri": "https://localhost:8080/",
          "height": 1000
        }
      },
      "source": [
        "@use_named_args(dimensions=dimensions)\n",
        "\n",
        "def f_opt(delta,quantile,method,overlap,mu0):\n",
        "  print(delta,quantile,method,overlap,mu0)\n",
        "  pred=get_prediction(delta,quantile,method,overlap,mu0,img_set_opt)\n",
        "  score_mean,scores=evaluate_solution(gt,pred,img_set,indices)\n",
        "  return -score_mean\n",
        "\n",
        "gp_result = gp_minimize(func=f_opt,\n",
        "                        dimensions=dimensions,\n",
        "                        acq_func=\"EI\",\n",
        "                        n_calls=50,\n",
        "                        noise= \"gaussian\",\n",
        "                        n_jobs=-1,\n",
        "                        x0=default_parameters,\n",
        "                        verbose=True)"
      ],
      "execution_count": 0,
      "outputs": [
        {
          "output_type": "stream",
          "text": [
            "Iteration No: 1 started. Evaluating function at provided point.\n",
            "2 0.9 Classic 0.1 0.58\n"
          ],
          "name": "stdout"
        },
        {
          "output_type": "stream",
          "text": [
            "/usr/local/lib/python3.6/dist-packages/ipykernel_launcher.py:21: RuntimeWarning: invalid value encountered in double_scalars\n"
          ],
          "name": "stderr"
        },
        {
          "output_type": "stream",
          "text": [
            "10\n",
            "20\n",
            "Iteration No: 1 ended. Evaluation done at provided point.\n",
            "Time taken: 10.4907\n",
            "Function value obtained: -0.4690\n",
            "Current minimum: -0.4690\n",
            "Iteration No: 2 started. Evaluating function at random point.\n",
            "4 0.9111486021130446 Classic 0.04444362799777523 0.35074794078879123\n",
            "10\n",
            "20\n",
            "Iteration No: 2 ended. Evaluation done at random point.\n",
            "Time taken: 7.0954\n",
            "Function value obtained: -0.5271\n",
            "Current minimum: -0.5271\n",
            "Iteration No: 3 started. Evaluating function at random point.\n",
            "3 0.9018932827895533 Classic 0.4849703737980962 0.7042698550860911\n",
            "10\n",
            "20\n",
            "Iteration No: 3 ended. Evaluation done at random point.\n",
            "Time taken: 8.1685\n",
            "Function value obtained: -0.4737\n",
            "Current minimum: -0.5271\n",
            "Iteration No: 4 started. Evaluating function at random point.\n",
            "2 0.8970251810506276 Classic 0.4430647160996547 0.4080621248465051\n",
            "10\n",
            "20\n",
            "Iteration No: 4 ended. Evaluation done at random point.\n",
            "Time taken: 11.4971\n",
            "Function value obtained: -0.4728\n",
            "Current minimum: -0.5271\n",
            "Iteration No: 5 started. Evaluating function at random point.\n",
            "4 0.9115269270846418 Classic 0.7831479292503317 0.7857300180370805\n",
            "10\n",
            "20\n",
            "Iteration No: 5 ended. Evaluation done at random point.\n",
            "Time taken: 7.2820\n",
            "Function value obtained: -0.5250\n",
            "Current minimum: -0.5271\n",
            "Iteration No: 6 started. Evaluating function at random point.\n",
            "3 0.8854325516933454 Classic 0.10194502371417696 0.43105479810420444\n",
            "10\n",
            "20\n",
            "Iteration No: 6 ended. Evaluation done at random point.\n",
            "Time taken: 8.8827\n",
            "Function value obtained: -0.4284\n",
            "Current minimum: -0.5271\n",
            "Iteration No: 7 started. Evaluating function at random point.\n",
            "4 0.9173763614277128 Classic 0.6668162446905271 0.11506820181527011\n",
            "10\n",
            "20\n",
            "Iteration No: 7 ended. Evaluation done at random point.\n",
            "Time taken: 7.2795\n",
            "Function value obtained: -0.4982\n",
            "Current minimum: -0.5271\n",
            "Iteration No: 8 started. Evaluating function at random point.\n",
            "4 0.942847436340353 Transformed 0.5005931292008488 0.6319051162712023\n",
            "10\n",
            "20\n",
            "Iteration No: 8 ended. Evaluation done at random point.\n",
            "Time taken: 10.0417\n",
            "Function value obtained: -0.3818\n",
            "Current minimum: -0.5271\n",
            "Iteration No: 9 started. Evaluating function at random point.\n",
            "2 0.9161602078543684 Transformed 0.6967344604374194 0.14910592272597684\n",
            "10\n",
            "20\n",
            "Iteration No: 9 ended. Evaluation done at random point.\n",
            "Time taken: 13.1710\n",
            "Function value obtained: -0.3517\n",
            "Current minimum: -0.5271\n",
            "Iteration No: 10 started. Evaluating function at random point.\n",
            "3 0.90789614855188 Transformed 0.6057543075409532 0.1545157850182483\n",
            "10\n",
            "20\n",
            "Iteration No: 10 ended. Evaluation done at random point.\n",
            "Time taken: 14.4747\n",
            "Function value obtained: -0.3139\n",
            "Current minimum: -0.5271\n",
            "Iteration No: 11 started. Evaluating function at random point.\n",
            "5 0.9392235370352765 Transformed 0.6049156391272019 0.9859377332667897\n",
            "10\n",
            "20\n",
            "Iteration No: 11 ended. Evaluation done at random point.\n",
            "Time taken: 12.0865\n",
            "Function value obtained: -0.3757\n",
            "Current minimum: -0.5271\n",
            "Iteration No: 12 started. Searching for the next optimal point.\n",
            "1 0.95 Classic 0.36289839267937557 0.2701905972903417\n"
          ],
          "name": "stdout"
        },
        {
          "output_type": "stream",
          "text": [
            "/usr/local/lib/python3.6/dist-packages/ipykernel_launcher.py:21: RuntimeWarning: invalid value encountered in double_scalars\n"
          ],
          "name": "stderr"
        },
        {
          "output_type": "stream",
          "text": [
            "10\n",
            "20\n",
            "Iteration No: 12 ended. Search finished for the next optimal point.\n",
            "Time taken: 9.8351\n",
            "Function value obtained: -0.3969\n",
            "Current minimum: -0.5271\n",
            "Iteration No: 13 started. Searching for the next optimal point.\n",
            "1 0.88 Transformed 0.6127625315680303 0.6202216392528677\n"
          ],
          "name": "stdout"
        },
        {
          "output_type": "stream",
          "text": [
            "/usr/local/lib/python3.6/dist-packages/ipykernel_launcher.py:21: RuntimeWarning: invalid value encountered in double_scalars\n"
          ],
          "name": "stderr"
        },
        {
          "output_type": "stream",
          "text": [
            "10\n",
            "20\n",
            "Iteration No: 13 ended. Search finished for the next optimal point.\n",
            "Time taken: 17.3519\n",
            "Function value obtained: -0.2514\n",
            "Current minimum: -0.5271\n",
            "Iteration No: 14 started. Searching for the next optimal point.\n",
            "4 0.9332826731338942 Classic 0.1131674526553194 1.1987846330443024\n"
          ],
          "name": "stdout"
        },
        {
          "output_type": "stream",
          "text": [
            "/usr/local/lib/python3.6/dist-packages/ipykernel_launcher.py:21: RuntimeWarning: invalid value encountered in double_scalars\n"
          ],
          "name": "stderr"
        },
        {
          "output_type": "stream",
          "text": [
            "10\n",
            "20\n",
            "Iteration No: 14 ended. Search finished for the next optimal point.\n",
            "Time taken: 6.8359\n",
            "Function value obtained: -0.5224\n",
            "Current minimum: -0.5271\n",
            "Iteration No: 15 started. Searching for the next optimal point.\n",
            "5 0.9215295938652085 Classic 0.01 0.8553046796657103\n"
          ],
          "name": "stdout"
        },
        {
          "output_type": "stream",
          "text": [
            "/usr/local/lib/python3.6/dist-packages/ipykernel_launcher.py:21: RuntimeWarning: invalid value encountered in double_scalars\n"
          ],
          "name": "stderr"
        },
        {
          "output_type": "stream",
          "text": [
            "10\n",
            "20\n",
            "Iteration No: 15 ended. Search finished for the next optimal point.\n",
            "Time taken: 6.7624\n",
            "Function value obtained: -0.5146\n",
            "Current minimum: -0.5271\n",
            "Iteration No: 16 started. Searching for the next optimal point.\n",
            "4 0.9200729324433674 Classic 0.8 1.2\n"
          ],
          "name": "stdout"
        },
        {
          "output_type": "stream",
          "text": [
            "/usr/local/lib/python3.6/dist-packages/ipykernel_launcher.py:21: RuntimeWarning: invalid value encountered in double_scalars\n"
          ],
          "name": "stderr"
        },
        {
          "output_type": "stream",
          "text": [
            "10\n",
            "20\n",
            "Iteration No: 16 ended. Search finished for the next optimal point.\n",
            "Time taken: 7.2985\n",
            "Function value obtained: -0.5477\n",
            "Current minimum: -0.5477\n",
            "Iteration No: 17 started. Searching for the next optimal point.\n",
            "2 0.9180965582044653 Classic 0.4689897697534554 1.2\n"
          ],
          "name": "stdout"
        },
        {
          "output_type": "stream",
          "text": [
            "/usr/local/lib/python3.6/dist-packages/ipykernel_launcher.py:21: RuntimeWarning: invalid value encountered in double_scalars\n"
          ],
          "name": "stderr"
        },
        {
          "output_type": "stream",
          "text": [
            "10\n",
            "20\n",
            "Iteration No: 17 ended. Search finished for the next optimal point.\n",
            "Time taken: 10.4344\n",
            "Function value obtained: -0.4490\n",
            "Current minimum: -0.5477\n",
            "Iteration No: 18 started. Searching for the next optimal point.\n",
            "5 0.95 Classic 0.6960252242685622 0.8521038866495009\n"
          ],
          "name": "stdout"
        },
        {
          "output_type": "stream",
          "text": [
            "/usr/local/lib/python3.6/dist-packages/ipykernel_launcher.py:21: RuntimeWarning: invalid value encountered in double_scalars\n"
          ],
          "name": "stderr"
        },
        {
          "output_type": "stream",
          "text": [
            "10\n",
            "20\n",
            "Iteration No: 18 ended. Search finished for the next optimal point.\n",
            "Time taken: 6.3125\n",
            "Function value obtained: -0.5632\n",
            "Current minimum: -0.5632\n",
            "Iteration No: 19 started. Searching for the next optimal point.\n",
            "5 0.95 Classic 0.8 0.001\n"
          ],
          "name": "stdout"
        },
        {
          "output_type": "stream",
          "text": [
            "/usr/local/lib/python3.6/dist-packages/ipykernel_launcher.py:21: RuntimeWarning: invalid value encountered in double_scalars\n"
          ],
          "name": "stderr"
        },
        {
          "output_type": "stream",
          "text": [
            "10\n",
            "20\n",
            "Iteration No: 19 ended. Search finished for the next optimal point.\n",
            "Time taken: 6.4733\n",
            "Function value obtained: -0.1460\n",
            "Current minimum: -0.5632\n",
            "Iteration No: 20 started. Searching for the next optimal point.\n",
            "5 0.95 Classic 0.8 1.1724348322084255\n"
          ],
          "name": "stdout"
        },
        {
          "output_type": "stream",
          "text": [
            "/usr/local/lib/python3.6/dist-packages/ipykernel_launcher.py:21: RuntimeWarning: invalid value encountered in double_scalars\n"
          ],
          "name": "stderr"
        },
        {
          "output_type": "stream",
          "text": [
            "10\n",
            "20\n",
            "Iteration No: 20 ended. Search finished for the next optimal point.\n",
            "Time taken: 6.4244\n",
            "Function value obtained: -0.5632\n",
            "Current minimum: -0.5632\n",
            "Iteration No: 21 started. Searching for the next optimal point.\n",
            "5 0.9384910329208499 Classic 0.8 1.0039177815451268\n"
          ],
          "name": "stdout"
        },
        {
          "output_type": "stream",
          "text": [
            "/usr/local/lib/python3.6/dist-packages/ipykernel_launcher.py:21: RuntimeWarning: invalid value encountered in double_scalars\n"
          ],
          "name": "stderr"
        },
        {
          "output_type": "stream",
          "text": [
            "10\n",
            "20\n",
            "Iteration No: 21 ended. Search finished for the next optimal point.\n",
            "Time taken: 6.7344\n",
            "Function value obtained: -0.5508\n",
            "Current minimum: -0.5632\n",
            "Iteration No: 22 started. Searching for the next optimal point.\n",
            "5 0.9071117482057842 Classic 0.8 1.2\n"
          ],
          "name": "stdout"
        },
        {
          "output_type": "stream",
          "text": [
            "/usr/local/lib/python3.6/dist-packages/ipykernel_launcher.py:21: RuntimeWarning: invalid value encountered in double_scalars\n"
          ],
          "name": "stderr"
        },
        {
          "output_type": "stream",
          "text": [
            "10\n",
            "20\n",
            "Iteration No: 22 ended. Search finished for the next optimal point.\n",
            "Time taken: 6.9442\n",
            "Function value obtained: -0.6303\n",
            "Current minimum: -0.6303\n",
            "Iteration No: 23 started. Searching for the next optimal point.\n",
            "5 0.889345048493987 Classic 0.7872001884988099 1.2\n"
          ],
          "name": "stdout"
        },
        {
          "output_type": "stream",
          "text": [
            "/usr/local/lib/python3.6/dist-packages/ipykernel_launcher.py:21: RuntimeWarning: invalid value encountered in double_scalars\n"
          ],
          "name": "stderr"
        },
        {
          "output_type": "stream",
          "text": [
            "10\n",
            "20\n",
            "Iteration No: 23 ended. Search finished for the next optimal point.\n",
            "Time taken: 7.2219\n",
            "Function value obtained: -0.5615\n",
            "Current minimum: -0.6303\n",
            "Iteration No: 24 started. Searching for the next optimal point.\n",
            "1 0.95 Classic 0.7912814441909858 0.9626875017776236\n"
          ],
          "name": "stdout"
        },
        {
          "output_type": "stream",
          "text": [
            "/usr/local/lib/python3.6/dist-packages/ipykernel_launcher.py:21: RuntimeWarning: invalid value encountered in double_scalars\n"
          ],
          "name": "stderr"
        },
        {
          "output_type": "stream",
          "text": [
            "10\n",
            "20\n",
            "Iteration No: 24 ended. Search finished for the next optimal point.\n",
            "Time taken: 10.5487\n",
            "Function value obtained: -0.3939\n",
            "Current minimum: -0.6303\n",
            "Iteration No: 25 started. Searching for the next optimal point.\n",
            "1 0.95 Transformed 0.22230435019804964 1.2\n"
          ],
          "name": "stdout"
        },
        {
          "output_type": "stream",
          "text": [
            "/usr/local/lib/python3.6/dist-packages/ipykernel_launcher.py:21: RuntimeWarning: invalid value encountered in double_scalars\n"
          ],
          "name": "stderr"
        },
        {
          "output_type": "stream",
          "text": [
            "10\n",
            "20\n",
            "Iteration No: 25 ended. Search finished for the next optimal point.\n",
            "Time taken: 9.4492\n",
            "Function value obtained: -0.3924\n",
            "Current minimum: -0.6303\n",
            "Iteration No: 26 started. Searching for the next optimal point.\n",
            "1 0.9129478819323559 Classic 0.1463119450915059 0.001\n"
          ],
          "name": "stdout"
        },
        {
          "output_type": "stream",
          "text": [
            "/usr/local/lib/python3.6/dist-packages/ipykernel_launcher.py:21: RuntimeWarning: invalid value encountered in double_scalars\n"
          ],
          "name": "stderr"
        },
        {
          "output_type": "stream",
          "text": [
            "10\n",
            "20\n",
            "Iteration No: 26 ended. Search finished for the next optimal point.\n",
            "Time taken: 14.7901\n",
            "Function value obtained: -0.1776\n",
            "Current minimum: -0.6303\n",
            "Iteration No: 27 started. Searching for the next optimal point.\n",
            "5 0.9103780766350998 Classic 0.8 1.0739515029280096\n"
          ],
          "name": "stdout"
        },
        {
          "output_type": "stream",
          "text": [
            "/usr/local/lib/python3.6/dist-packages/ipykernel_launcher.py:21: RuntimeWarning: invalid value encountered in double_scalars\n"
          ],
          "name": "stderr"
        },
        {
          "output_type": "stream",
          "text": [
            "10\n",
            "20\n",
            "Iteration No: 27 ended. Search finished for the next optimal point.\n",
            "Time taken: 6.9507\n",
            "Function value obtained: -0.6192\n",
            "Current minimum: -0.6303\n",
            "Iteration No: 28 started. Searching for the next optimal point.\n",
            "5 0.8976528683019593 Classic 0.4984887944900814 0.001\n"
          ],
          "name": "stdout"
        },
        {
          "output_type": "stream",
          "text": [
            "/usr/local/lib/python3.6/dist-packages/ipykernel_launcher.py:21: RuntimeWarning: invalid value encountered in double_scalars\n"
          ],
          "name": "stderr"
        },
        {
          "output_type": "stream",
          "text": [
            "10\n",
            "20\n",
            "Iteration No: 28 ended. Search finished for the next optimal point.\n",
            "Time taken: 6.9927\n",
            "Function value obtained: -0.1654\n",
            "Current minimum: -0.6303\n",
            "Iteration No: 29 started. Searching for the next optimal point.\n",
            "3 0.948302441880271 Classic 0.5126657094382295 1.2\n"
          ],
          "name": "stdout"
        },
        {
          "output_type": "stream",
          "text": [
            "/usr/local/lib/python3.6/dist-packages/ipykernel_launcher.py:21: RuntimeWarning: invalid value encountered in double_scalars\n"
          ],
          "name": "stderr"
        },
        {
          "output_type": "stream",
          "text": [
            "10\n",
            "20\n",
            "Iteration No: 29 ended. Search finished for the next optimal point.\n",
            "Time taken: 7.1945\n",
            "Function value obtained: -0.5190\n",
            "Current minimum: -0.6303\n",
            "Iteration No: 30 started. Searching for the next optimal point.\n",
            "5 0.885976436360802 Classic 0.01 1.1037559960742391\n"
          ],
          "name": "stdout"
        },
        {
          "output_type": "stream",
          "text": [
            "/usr/local/lib/python3.6/dist-packages/ipykernel_launcher.py:21: RuntimeWarning: invalid value encountered in double_scalars\n"
          ],
          "name": "stderr"
        },
        {
          "output_type": "stream",
          "text": [
            "10\n",
            "20\n",
            "Iteration No: 30 ended. Search finished for the next optimal point.\n",
            "Time taken: 7.1229\n",
            "Function value obtained: -0.5124\n",
            "Current minimum: -0.6303\n",
            "Iteration No: 31 started. Searching for the next optimal point.\n",
            "5 0.8915568062128443 Classic 0.8 1.0482377866463732\n"
          ],
          "name": "stdout"
        },
        {
          "output_type": "stream",
          "text": [
            "/usr/local/lib/python3.6/dist-packages/ipykernel_launcher.py:21: RuntimeWarning: invalid value encountered in double_scalars\n"
          ],
          "name": "stderr"
        },
        {
          "output_type": "stream",
          "text": [
            "10\n",
            "20\n",
            "Iteration No: 31 ended. Search finished for the next optimal point.\n",
            "Time taken: 7.1976\n",
            "Function value obtained: -0.5608\n",
            "Current minimum: -0.6303\n",
            "Iteration No: 32 started. Searching for the next optimal point.\n",
            "5 0.9239338431190115 Transformed 0.07531079150976239 0.3887148530358126\n"
          ],
          "name": "stdout"
        },
        {
          "output_type": "stream",
          "text": [
            "/usr/local/lib/python3.6/dist-packages/ipykernel_launcher.py:21: RuntimeWarning: invalid value encountered in double_scalars\n"
          ],
          "name": "stderr"
        },
        {
          "output_type": "stream",
          "text": [
            "10\n",
            "20\n",
            "Iteration No: 32 ended. Search finished for the next optimal point.\n",
            "Time taken: 12.3013\n",
            "Function value obtained: -0.3666\n",
            "Current minimum: -0.6303\n",
            "Iteration No: 33 started. Searching for the next optimal point.\n",
            "5 0.95 Classic 0.8 0.5802547663709936\n"
          ],
          "name": "stdout"
        },
        {
          "output_type": "stream",
          "text": [
            "/usr/local/lib/python3.6/dist-packages/ipykernel_launcher.py:21: RuntimeWarning: invalid value encountered in double_scalars\n"
          ],
          "name": "stderr"
        },
        {
          "output_type": "stream",
          "text": [
            "10\n",
            "20\n",
            "Iteration No: 33 ended. Search finished for the next optimal point.\n",
            "Time taken: 6.6121\n",
            "Function value obtained: -0.5632\n",
            "Current minimum: -0.6303\n",
            "Iteration No: 34 started. Searching for the next optimal point.\n",
            "5 0.8825597067558643 Classic 0.8 0.27911567001467547\n"
          ],
          "name": "stdout"
        },
        {
          "output_type": "stream",
          "text": [
            "/usr/local/lib/python3.6/dist-packages/ipykernel_launcher.py:21: RuntimeWarning: invalid value encountered in double_scalars\n"
          ],
          "name": "stderr"
        },
        {
          "output_type": "stream",
          "text": [
            "10\n",
            "20\n",
            "Iteration No: 34 ended. Search finished for the next optimal point.\n",
            "Time taken: 7.5231\n",
            "Function value obtained: -0.5629\n",
            "Current minimum: -0.6303\n",
            "Iteration No: 35 started. Searching for the next optimal point.\n",
            "5 0.88 Classic 0.8 0.6576044935445787\n"
          ],
          "name": "stdout"
        },
        {
          "output_type": "stream",
          "text": [
            "/usr/local/lib/python3.6/dist-packages/ipykernel_launcher.py:21: RuntimeWarning: invalid value encountered in double_scalars\n"
          ],
          "name": "stderr"
        },
        {
          "output_type": "stream",
          "text": [
            "10\n",
            "20\n",
            "Iteration No: 35 ended. Search finished for the next optimal point.\n",
            "Time taken: 7.4954\n",
            "Function value obtained: -0.5633\n",
            "Current minimum: -0.6303\n",
            "Iteration No: 36 started. Searching for the next optimal point.\n",
            "5 0.9499575398130499 Transformed 0.8 1.2\n"
          ],
          "name": "stdout"
        },
        {
          "output_type": "stream",
          "text": [
            "/usr/local/lib/python3.6/dist-packages/ipykernel_launcher.py:21: RuntimeWarning: invalid value encountered in double_scalars\n"
          ],
          "name": "stderr"
        },
        {
          "output_type": "stream",
          "text": [
            "10\n",
            "20\n",
            "Iteration No: 36 ended. Search finished for the next optimal point.\n",
            "Time taken: 9.6803\n",
            "Function value obtained: -0.3924\n",
            "Current minimum: -0.6303\n",
            "Iteration No: 37 started. Searching for the next optimal point.\n",
            "5 0.9304720161437205 Classic 0.8 0.4488858766009739\n"
          ],
          "name": "stdout"
        },
        {
          "output_type": "stream",
          "text": [
            "/usr/local/lib/python3.6/dist-packages/ipykernel_launcher.py:21: RuntimeWarning: invalid value encountered in double_scalars\n"
          ],
          "name": "stderr"
        },
        {
          "output_type": "stream",
          "text": [
            "10\n",
            "20\n",
            "Iteration No: 37 ended. Search finished for the next optimal point.\n",
            "Time taken: 6.6739\n",
            "Function value obtained: -0.5588\n",
            "Current minimum: -0.6303\n",
            "Iteration No: 38 started. Searching for the next optimal point.\n",
            "5 0.9408432538230157 Classic 0.01 0.24659810879250152\n"
          ],
          "name": "stdout"
        },
        {
          "output_type": "stream",
          "text": [
            "/usr/local/lib/python3.6/dist-packages/ipykernel_launcher.py:21: RuntimeWarning: invalid value encountered in double_scalars\n"
          ],
          "name": "stderr"
        },
        {
          "output_type": "stream",
          "text": [
            "10\n",
            "20\n",
            "Iteration No: 38 ended. Search finished for the next optimal point.\n",
            "Time taken: 6.4539\n",
            "Function value obtained: -0.4922\n",
            "Current minimum: -0.6303\n",
            "Iteration No: 39 started. Searching for the next optimal point.\n",
            "5 0.909912686408658 Classic 0.016128891142304532 0.6523247793721905\n"
          ],
          "name": "stdout"
        },
        {
          "output_type": "stream",
          "text": [
            "/usr/local/lib/python3.6/dist-packages/ipykernel_launcher.py:21: RuntimeWarning: invalid value encountered in double_scalars\n"
          ],
          "name": "stderr"
        },
        {
          "output_type": "stream",
          "text": [
            "10\n",
            "20\n",
            "Iteration No: 39 ended. Search finished for the next optimal point.\n",
            "Time taken: 7.0329\n",
            "Function value obtained: -0.5493\n",
            "Current minimum: -0.6303\n",
            "Iteration No: 40 started. Searching for the next optimal point.\n",
            "5 0.8877852951122447 Classic 0.7926308922314469 0.34856341507614763\n"
          ],
          "name": "stdout"
        },
        {
          "output_type": "stream",
          "text": [
            "/usr/local/lib/python3.6/dist-packages/ipykernel_launcher.py:21: RuntimeWarning: invalid value encountered in double_scalars\n"
          ],
          "name": "stderr"
        },
        {
          "output_type": "stream",
          "text": [
            "10\n",
            "20\n",
            "Iteration No: 40 ended. Search finished for the next optimal point.\n",
            "Time taken: 7.3235\n",
            "Function value obtained: -0.5615\n",
            "Current minimum: -0.6303\n",
            "Iteration No: 41 started. Searching for the next optimal point.\n",
            "5 0.9291383593997989 Classic 0.7992481049484198 0.7309394271524877\n"
          ],
          "name": "stdout"
        },
        {
          "output_type": "stream",
          "text": [
            "/usr/local/lib/python3.6/dist-packages/ipykernel_launcher.py:21: RuntimeWarning: invalid value encountered in double_scalars\n"
          ],
          "name": "stderr"
        },
        {
          "output_type": "stream",
          "text": [
            "10\n",
            "20\n",
            "Iteration No: 41 ended. Search finished for the next optimal point.\n",
            "Time taken: 6.6832\n",
            "Function value obtained: -0.5601\n",
            "Current minimum: -0.6303\n",
            "Iteration No: 42 started. Searching for the next optimal point.\n",
            "5 0.9449752839803834 Classic 0.792507364351568 0.5403709006090877\n"
          ],
          "name": "stdout"
        },
        {
          "output_type": "stream",
          "text": [
            "/usr/local/lib/python3.6/dist-packages/ipykernel_launcher.py:21: RuntimeWarning: invalid value encountered in double_scalars\n"
          ],
          "name": "stderr"
        },
        {
          "output_type": "stream",
          "text": [
            "10\n",
            "20\n",
            "Iteration No: 42 ended. Search finished for the next optimal point.\n",
            "Time taken: 6.4745\n",
            "Function value obtained: -0.5627\n",
            "Current minimum: -0.6303\n",
            "Iteration No: 43 started. Searching for the next optimal point.\n",
            "5 0.9394369103245598 Classic 0.05315727173200642 1.1991384661027253\n"
          ],
          "name": "stdout"
        },
        {
          "output_type": "stream",
          "text": [
            "/usr/local/lib/python3.6/dist-packages/ipykernel_launcher.py:21: RuntimeWarning: invalid value encountered in double_scalars\n"
          ],
          "name": "stderr"
        },
        {
          "output_type": "stream",
          "text": [
            "10\n",
            "20\n",
            "Iteration No: 43 ended. Search finished for the next optimal point.\n",
            "Time taken: 6.5839\n",
            "Function value obtained: -0.5163\n",
            "Current minimum: -0.6303\n",
            "Iteration No: 44 started. Searching for the next optimal point.\n",
            "5 0.9024977943313479 Classic 0.012367098209510492 0.5239324430264208\n"
          ],
          "name": "stdout"
        },
        {
          "output_type": "stream",
          "text": [
            "/usr/local/lib/python3.6/dist-packages/ipykernel_launcher.py:21: RuntimeWarning: invalid value encountered in double_scalars\n"
          ],
          "name": "stderr"
        },
        {
          "output_type": "stream",
          "text": [
            "10\n",
            "20\n",
            "Iteration No: 44 ended. Search finished for the next optimal point.\n",
            "Time taken: 6.9669\n",
            "Function value obtained: -0.5605\n",
            "Current minimum: -0.6303\n",
            "Iteration No: 45 started. Searching for the next optimal point.\n",
            "5 0.8940294598601155 Classic 0.7869738111835554 0.93872646044568\n"
          ],
          "name": "stdout"
        },
        {
          "output_type": "stream",
          "text": [
            "/usr/local/lib/python3.6/dist-packages/ipykernel_launcher.py:21: RuntimeWarning: invalid value encountered in double_scalars\n"
          ],
          "name": "stderr"
        },
        {
          "output_type": "stream",
          "text": [
            "10\n",
            "20\n",
            "Iteration No: 45 ended. Search finished for the next optimal point.\n",
            "Time taken: 7.0734\n",
            "Function value obtained: -0.5661\n",
            "Current minimum: -0.6303\n",
            "Iteration No: 46 started. Searching for the next optimal point.\n",
            "5 0.9194003639247227 Classic 0.790434481530956 1.0997112424320485\n"
          ],
          "name": "stdout"
        },
        {
          "output_type": "stream",
          "text": [
            "/usr/local/lib/python3.6/dist-packages/ipykernel_launcher.py:21: RuntimeWarning: invalid value encountered in double_scalars\n"
          ],
          "name": "stderr"
        },
        {
          "output_type": "stream",
          "text": [
            "10\n",
            "20\n",
            "Iteration No: 46 ended. Search finished for the next optimal point.\n",
            "Time taken: 6.7642\n",
            "Function value obtained: -0.5646\n",
            "Current minimum: -0.6303\n",
            "Iteration No: 47 started. Searching for the next optimal point.\n",
            "5 0.9377243357215546 Classic 0.7807555961823398 0.32059167047788306\n"
          ],
          "name": "stdout"
        },
        {
          "output_type": "stream",
          "text": [
            "/usr/local/lib/python3.6/dist-packages/ipykernel_launcher.py:21: RuntimeWarning: invalid value encountered in double_scalars\n"
          ],
          "name": "stderr"
        },
        {
          "output_type": "stream",
          "text": [
            "10\n",
            "20\n",
            "Iteration No: 47 ended. Search finished for the next optimal point.\n",
            "Time taken: 6.7038\n",
            "Function value obtained: -0.5520\n",
            "Current minimum: -0.6303\n",
            "Iteration No: 48 started. Searching for the next optimal point.\n",
            "5 0.8877396160042357 Classic 0.780881615044455 0.6224219574522458\n"
          ],
          "name": "stdout"
        },
        {
          "output_type": "stream",
          "text": [
            "/usr/local/lib/python3.6/dist-packages/ipykernel_launcher.py:21: RuntimeWarning: invalid value encountered in double_scalars\n"
          ],
          "name": "stderr"
        },
        {
          "output_type": "stream",
          "text": [
            "10\n",
            "20\n",
            "Iteration No: 48 ended. Search finished for the next optimal point.\n",
            "Time taken: 7.3987\n",
            "Function value obtained: -0.5615\n",
            "Current minimum: -0.6303\n",
            "Iteration No: 49 started. Searching for the next optimal point.\n",
            "5 0.9238322092659506 Classic 0.7846555151882674 1.196275356976746\n"
          ],
          "name": "stdout"
        },
        {
          "output_type": "stream",
          "text": [
            "/usr/local/lib/python3.6/dist-packages/ipykernel_launcher.py:21: RuntimeWarning: invalid value encountered in double_scalars\n"
          ],
          "name": "stderr"
        },
        {
          "output_type": "stream",
          "text": [
            "10\n",
            "20\n",
            "Iteration No: 49 ended. Search finished for the next optimal point.\n",
            "Time taken: 6.9274\n",
            "Function value obtained: -0.5615\n",
            "Current minimum: -0.6303\n",
            "Iteration No: 50 started. Searching for the next optimal point.\n",
            "5 0.888626692705493 Classic 0.7879383491623382 0.2363682928249995\n"
          ],
          "name": "stdout"
        },
        {
          "output_type": "stream",
          "text": [
            "/usr/local/lib/python3.6/dist-packages/ipykernel_launcher.py:21: RuntimeWarning: invalid value encountered in double_scalars\n"
          ],
          "name": "stderr"
        },
        {
          "output_type": "stream",
          "text": [
            "10\n",
            "20\n",
            "Iteration No: 50 ended. Search finished for the next optimal point.\n",
            "Time taken: 7.3954\n",
            "Function value obtained: -0.5615\n",
            "Current minimum: -0.6303\n"
          ],
          "name": "stdout"
        }
      ]
    },
    {
      "cell_type": "code",
      "metadata": {
        "id": "SMarS8_gGCA1",
        "colab_type": "code",
        "outputId": "0cdc84b2-e800-4e52-b87f-8f3530a6c227",
        "colab": {
          "base_uri": "https://localhost:8080/",
          "height": 34
        }
      },
      "source": [
        "gp_result.x"
      ],
      "execution_count": 0,
      "outputs": [
        {
          "output_type": "execute_result",
          "data": {
            "text/plain": [
              "[5, 0.9071117482057842, 'Classic', 0.8, 1.2]"
            ]
          },
          "metadata": {
            "tags": []
          },
          "execution_count": 23
        }
      ]
    },
    {
      "cell_type": "code",
      "metadata": {
        "id": "IQp0uyxJGEl2",
        "colab_type": "code",
        "outputId": "6f375a8c-5cf5-4f02-e167-2591982e99ed",
        "colab": {
          "base_uri": "https://localhost:8080/",
          "height": 54
        }
      },
      "source": [
        "pred=get_prediction(5, 0.907, 'Classic', 0.8, 1.2,img_set_opt)\n",
        "score_mean,scores=evaluate_solution(gt,pred,img_set,indices)"
      ],
      "execution_count": 0,
      "outputs": [
        {
          "output_type": "stream",
          "text": [
            "/usr/local/lib/python3.6/dist-packages/ipykernel_launcher.py:21: RuntimeWarning: invalid value encountered in double_scalars\n"
          ],
          "name": "stderr"
        }
      ]
    },
    {
      "cell_type": "code",
      "metadata": {
        "id": "3asQW8_EHICN",
        "colab_type": "code",
        "outputId": "8a40e520-21b6-467d-f7aa-aa4e53e9bfb3",
        "colab": {
          "base_uri": "https://localhost:8080/",
          "height": 71
        }
      },
      "source": [
        "print(score_mean)\n",
        "print(scores)"
      ],
      "execution_count": 0,
      "outputs": [
        {
          "output_type": "stream",
          "text": [
            "0.6268148002877693\n",
            "[0.8809542131589073, 0.8981036203611288, 0.8147773279352226, 0.6333853354134166, 0.5928063943161634, 0.9232129325587269, 0.6169302325581395, 0.897344278126509, 0.841248303934871, 0.588135112120352, 0.7444825895046592, 0.3247100802854594, 0.33834299178500926, 0.262643196423582, 0.2821109456440804, 0.850566037735849, 0.7256235827664399, 0.8762886597938144, 0.44463017133305477, 0.0]\n"
          ],
          "name": "stdout"
        }
      ]
    },
    {
      "cell_type": "markdown",
      "metadata": {
        "id": "IDxSr4PrAH09",
        "colab_type": "text"
      },
      "source": [
        "To plot an example :"
      ]
    },
    {
      "cell_type": "code",
      "metadata": {
        "id": "iXpDWoCfAGk0",
        "colab_type": "code",
        "colab": {}
      },
      "source": [
        "def plot_image_traffic_signs(img):\n",
        "  pred=get_prediction(5, 0.91, 'Classic', 0.8, 1.2,[img])\n",
        "  canvas1 = img.copy()\n",
        "  canvas1 = np.uint8(canvas1)\n",
        "  colors = [[43, 43, 200], [43, 75, 200], [43, 106, 200], [43, 137, 200], [43, 169, 200], [43, 200, 195], [43, 200, 163], [43, 200, 132], [43, 200, 101], [43, 200, 69], [54, 200, 43], [85, 200, 43], [116, 200, 43], [148, 200, 43], [179, 200, 43], [200, 184, 43], [200, 153, 43], [200, 122, 43], [200, 90, 43], [200, 59, 43], [200, 43, 64], [200, 43, 95], [200, 43, 127], [200, 43, 158], [200, 43, 190], [174, 43, 200], [142, 43, 200], [111, 43, 200], [80, 43, 200], [43, 43, 200]]\n",
        "  for box in pred[0] :\n",
        "    x, y, w, h = box\n",
        "    color=colors[np.random.choice(len(colors))]\n",
        "    cv2.rectangle(canvas1, (x, y), (x + w, y + h), color, 2)\n",
        "  plt.imshow(canvas1,cmap=\"gray\")\n",
        "  plt.show()\n",
        "  ## Save \n",
        "  plt.imsave(\"result.png\", canvas1)"
      ],
      "execution_count": 0,
      "outputs": []
    },
    {
      "cell_type": "code",
      "metadata": {
        "id": "hoOmDqMHEgqY",
        "colab_type": "code",
        "outputId": "9d985ec9-9a2d-41f1-8619-0715569e16bc",
        "colab": {
          "base_uri": "https://localhost:8080/",
          "height": 249
        }
      },
      "source": [
        "plot_image_traffic_signs(img_set[4])"
      ],
      "execution_count": 0,
      "outputs": [
        {
          "output_type": "display_data",
          "data": {
            "image/png": "[encoded data removed]",
            "text/plain": [
              "<Figure size 432x288 with 1 Axes>"
            ]
          },
          "metadata": {
            "tags": []
          }
        }
      ]
    },
    {
      "cell_type": "code",
      "metadata": {
        "id": "RoyAJHx6ErFI",
        "colab_type": "code",
        "colab": {}
      },
      "source": [
        ""
      ],
      "execution_count": 0,
      "outputs": []
    }
  ]
}